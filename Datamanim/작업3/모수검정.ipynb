{
 "cells": [
  {
   "cell_type": "markdown",
   "metadata": {
    "id": "6T2v1_TUMChI"
   },
   "source": [
    "### 1.정규성 검정(Normality Test)\n",
    "- 귀무가설 - 데이터셋이 정규분포를 따른다\n",
    "- 대립가설 - 데이터셋이 정규분포를 따르지 않는다\n",
    "- 유의수준 0.05 인 경우 : p-value > 0.05, 정규성이 보장된다고 할 수 있다\n",
    "- 검정통계량 < 임계값, 정규성이 보장된다고 할 수 있다"
   ]
  },
  {
   "cell_type": "code",
   "execution_count": 3,
   "metadata": {
    "colab": {
     "base_uri": "https://localhost:8080/"
    },
    "id": "GPyFlteNMGU2",
    "outputId": "bd5ccc41-4142-4667-8643-860b18e6d176"
   },
   "outputs": [
    {
     "name": "stdout",
     "output_type": "stream",
     "text": [
      "<class 'pandas.core.frame.DataFrame'>\n",
      "RangeIndex: 20 entries, 0 to 19\n",
      "Data columns (total 3 columns):\n",
      " #   Column    Non-Null Count  Dtype\n",
      "---  ------    --------------  -----\n",
      " 0   stime20s  20 non-null     int64\n",
      " 1   stime40s  20 non-null     int64\n",
      " 2   ID        20 non-null     int64\n",
      "dtypes: int64(3)\n",
      "memory usage: 608.0 bytes\n"
     ]
    }
   ],
   "source": [
    "import pandas as pd\n",
    "import numpy as np\n",
    "df = pd.read_csv('./data_02/sleepage.csv')\n",
    "df.info()"
   ]
  },
  {
   "cell_type": "code",
   "execution_count": 4,
   "metadata": {
    "id": "qJRAcpFONC5G"
   },
   "outputs": [],
   "source": [
    "# 그룹을 나누어 저장함\n",
    "gA = df['stime20s']\n",
    "gB = df['stime40s']"
   ]
  },
  {
   "cell_type": "markdown",
   "metadata": {},
   "source": [
    "#### 정규성 검정 1. [shapiro] \n",
    "- 샤피로-윌크 검정(shapiro wilks test)\n",
    "- 표본수(n)가 5000개 미만인 데이터셋에 적합"
   ]
  },
  {
   "cell_type": "code",
   "execution_count": 7,
   "metadata": {},
   "outputs": [
    {
     "name": "stdout",
     "output_type": "stream",
     "text": [
      "ShapiroResult(statistic=0.9239299893379211, pvalue=0.11795635521411896)\n",
      "ShapiroResult(statistic=0.8809685707092285, pvalue=0.01841725781559944)\n"
     ]
    },
    {
     "data": {
      "text/plain": [
       "ShapiroResult(statistic=0.9603756070137024, pvalue=0.551380455493927)"
      ]
     },
     "execution_count": 7,
     "metadata": {},
     "output_type": "execute_result"
    }
   ],
   "source": [
    "from scipy.stats import shapiro\n",
    "print(shapiro(gA)) # 정규성 만족\n",
    "print(shapiro(gB)) # 정규성을 만족하지 않음"
   ]
  },
  {
   "cell_type": "markdown",
   "metadata": {},
   "source": [
    "#### 정규성 검정 2. [kstest]\n",
    "- 콜모고로프 스미르노프 검정(kolmogorov-smirnov test)\n",
    "- 표본수(n)가 5000개 초과인 데이터셋에 적합"
   ]
  },
  {
   "cell_type": "code",
   "execution_count": 16,
   "metadata": {
    "colab": {
     "base_uri": "https://localhost:8080/"
    },
    "id": "9Ken1r_LSwIP",
    "outputId": "b50cd70e-1ed1-4b3d-dd9a-8b672a026901"
   },
   "outputs": [
    {
     "name": "stdout",
     "output_type": "stream",
     "text": [
      "KstestResult(statistic=0.0, pvalue=1.0)\n",
      "KstestResult(statistic=0.15, pvalue=0.9831368772656193)\n",
      "KstestResult(statistic=0.9986501019683699, pvalue=8.073266280952718e-58)\n",
      "KstestResult(statistic=0.9999997133484281, pvalue=2.8061866176047734e-131)\n"
     ]
    }
   ],
   "source": [
    "# 두 개의 데이터가 같은 분포인지 아닌지 검정\n",
    "# 귀무가설 : 두집단의 분포가 같다\n",
    "# 대립가설 : 두집단의 분포가 다르다\n",
    "from scipy.stats import kstest \n",
    "print(kstest(gA, gA))  # 정규성을 만족함\n",
    "print(kstest(gA, gB))  # 정규성을 만족함\n",
    "print(kstest(gA, 'norm'))  # 정규성을 만족하지 않음\n",
    "print(kstest(gB, 'norm')) # 정규성을 만족하지 않음"
   ]
  },
  {
   "cell_type": "markdown",
   "metadata": {},
   "source": [
    "#### 정규성 검정 3. [normaltest] \n",
    " - 표본수 8개 이상 필요"
   ]
  },
  {
   "cell_type": "code",
   "execution_count": 17,
   "metadata": {
    "colab": {
     "base_uri": "https://localhost:8080/"
    },
    "id": "a2F8wNyjMf91",
    "outputId": "ea65d489-b8c6-495c-d732-d094a7977e97"
   },
   "outputs": [
    {
     "name": "stdout",
     "output_type": "stream",
     "text": [
      "NormaltestResult(statistic=1.173158148726697, pvalue=0.5562268444276741)\n",
      "NormaltestResult(statistic=2.045029526680344, pvalue=0.3596892684891455)\n"
     ]
    }
   ],
   "source": [
    "from scipy.stats import normaltest\n",
    "print(normaltest(gA)) # 정규성 만족\n",
    "print(normaltest(gB)) # 정규성 만족"
   ]
  },
  {
   "cell_type": "markdown",
   "metadata": {},
   "source": [
    "#### 정규성 검정 4. [anderson]\n",
    "- 검정통계량 < 임계값, 정규성이 보장된다고 할 수 있다"
   ]
  },
  {
   "cell_type": "code",
   "execution_count": 20,
   "metadata": {
    "id": "U0IFfC0oMf0l"
   },
   "outputs": [
    {
     "name": "stdout",
     "output_type": "stream",
     "text": [
      "AndersonResult(statistic=0.56010976028562, critical_values=array([0.506, 0.577, 0.692, 0.807, 0.96 ]), significance_level=array([15. , 10. ,  5. ,  2.5,  1. ]))\n",
      "AndersonResult(statistic=0.8918678522034895, critical_values=array([0.506, 0.577, 0.692, 0.807, 0.96 ]), significance_level=array([15. , 10. ,  5. ,  2.5,  1. ]))\n"
     ]
    }
   ],
   "source": [
    "from scipy.stats import anderson # statistic, critical_values, significance_level\n",
    "print(anderson(gA)) # 0.56 < 0.57  유의수준 10%에서 정규성 만족. 즉, 유의수준 10%에서 귀무가설 채택\n",
    "print(anderson(gB)) # 0.89 < 0.96  유의수준 1%에서 정규성 만족. 즉, 유의수준 1%에서 귀무가설 채택"
   ]
  },
  {
   "cell_type": "markdown",
   "metadata": {
    "id": "PYt8ggPLsgTD"
   },
   "source": [
    "### 2.등분산성 검정"
   ]
  },
  {
   "cell_type": "code",
   "execution_count": 45,
   "metadata": {
    "colab": {
     "base_uri": "https://localhost:8080/"
    },
    "id": "zdF8tZQK0JU2",
    "outputId": "c8ec5b55-7572-4d3b-b5db-77d017be57b1"
   },
   "outputs": [],
   "source": [
    "# 파일 읽어와 내용 확인\n",
    "import seaborn as sns\n",
    "iris = sns.load_dataset('iris')"
   ]
  },
  {
   "cell_type": "code",
   "execution_count": 46,
   "metadata": {
    "colab": {
     "base_uri": "https://localhost:8080/"
    },
    "id": "6eEYpKVX--p1",
    "outputId": "19c36357-b3bb-47c0-8d1a-a2ad57a04173"
   },
   "outputs": [
    {
     "name": "stdout",
     "output_type": "stream",
     "text": [
      "ShapiroResult(statistic=0.9776989221572876, pvalue=0.4595281183719635)\n",
      "ShapiroResult(statistic=0.9778355956077576, pvalue=0.46473264694213867)\n",
      "ShapiroResult(statistic=0.9711798429489136, pvalue=0.25832483172416687)\n"
     ]
    }
   ],
   "source": [
    "# 품종별 그룹을 나누어 저장, sepal_length의 등분산성 검정\n",
    "setosa = iris[iris['species']=='setosa'].sepal_length\n",
    "versicolor = iris[iris['species']=='versicolor'].sepal_length\n",
    "virginica = iris[iris['species']=='virginica'].sepal_length\n",
    "\n",
    "# 정규성검정\n",
    "print(shapiro(setosa))\n",
    "print(shapiro(versicolor))\n",
    "print(shapiro(virginica))\n",
    "# 귀무가설 채택 - 정규성 만족"
   ]
  },
  {
   "cell_type": "markdown",
   "metadata": {},
   "source": [
    "#### 등분산성 검정 1. [bartlett]\n",
    "- burtlett : 데이터셋의 크기가 서로 다른 2개 이상의 집단 사용 가능"
   ]
  },
  {
   "cell_type": "code",
   "execution_count": 52,
   "metadata": {},
   "outputs": [
    {
     "data": {
      "text/plain": [
       "BartlettResult(statistic=16.005701874401502, pvalue=0.0003345076070163035)"
      ]
     },
     "execution_count": 52,
     "metadata": {},
     "output_type": "execute_result"
    }
   ],
   "source": [
    "from scipy.stats import bartlett\n",
    "bartlett(gA, gB, gC)\n",
    "# 귀무가설 기각 - 등분산성 만족하지 않음"
   ]
  },
  {
   "cell_type": "markdown",
   "metadata": {},
   "source": [
    "#### 등분산성 검정 2. [levene]\n",
    "- levene: 정규성을 충족하지 않는 비모수 데이터에 대해서도 사용가능 (center default: median)\n",
    "- 즉, levene의 검정은 정규성에서 상당한 편차가 있는 경우 bartlett 검정의 대안입니다 ."
   ]
  },
  {
   "cell_type": "code",
   "execution_count": null,
   "metadata": {},
   "outputs": [],
   "source": [
    "from scipy.stats import levene\n",
    "levene(gA, gB, gC)\n",
    "# 귀무가설 기각 - 등분산성 만족하지 않음"
   ]
  },
  {
   "cell_type": "markdown",
   "metadata": {},
   "source": [
    "#### 등분산성 검정 3. [fligner]\n",
    "- fligner : 정규성을 충족하지 않는 비모수 데이터에 대해서도 사용가능 (center default: median)"
   ]
  },
  {
   "cell_type": "code",
   "execution_count": 54,
   "metadata": {},
   "outputs": [
    {
     "data": {
      "text/plain": [
       "FlignerResult(statistic=11.617980621101292, pvalue=0.0030004580742585885)"
      ]
     },
     "execution_count": 54,
     "metadata": {},
     "output_type": "execute_result"
    }
   ],
   "source": [
    "from scipy.stats import fligner\n",
    "fligner(gA, gB, gC)\n",
    "# 귀무가설 기각 - 등분산성 만족하지 않음"
   ]
  },
  {
   "cell_type": "markdown",
   "metadata": {
    "id": "x33pqkcZDhrB"
   },
   "source": [
    "### 3.T 검정(평균 검정)"
   ]
  },
  {
   "cell_type": "markdown",
   "metadata": {
    "id": "16dAULRQHGYV"
   },
   "source": [
    "t-test 이해\n",
    "- 스튜던트 t-테스트(Student's t-test)라고도 하며, 검정 통계량이 귀무가설 하에서 t-분포를 따르는 통계적 가설 검정\n",
    "- 표본을 사용한 모평균 검정 및 두 데이터 세트(집단)의 모평균이 서로 유의하게 다른지 여부를 판별 할 수 있음\n",
    "- 검정통계량이 정규 분포를 따르며 모집단의 분산, 표준편차를 알지 못할 때 표본으로 부터 추정된 분산/표준편차를 사용해 검정함\n",
    "- t-test를 실시하기 위해서는 정규성 및 등분산성의 조건이 만족되어야 함\n"
   ]
  },
  {
   "cell_type": "code",
   "execution_count": 58,
   "metadata": {},
   "outputs": [
    {
     "data": {
      "text/html": [
       "<div>\n",
       "<style scoped>\n",
       "    .dataframe tbody tr th:only-of-type {\n",
       "        vertical-align: middle;\n",
       "    }\n",
       "\n",
       "    .dataframe tbody tr th {\n",
       "        vertical-align: top;\n",
       "    }\n",
       "\n",
       "    .dataframe thead th {\n",
       "        text-align: right;\n",
       "    }\n",
       "</style>\n",
       "<table border=\"1\" class=\"dataframe\">\n",
       "  <thead>\n",
       "    <tr style=\"text-align: right;\">\n",
       "      <th></th>\n",
       "      <th>0</th>\n",
       "      <th>1</th>\n",
       "      <th>2</th>\n",
       "      <th>3</th>\n",
       "      <th>4</th>\n",
       "      <th>5</th>\n",
       "      <th>6</th>\n",
       "      <th>7</th>\n",
       "      <th>8</th>\n",
       "      <th>9</th>\n",
       "      <th>10</th>\n",
       "      <th>11</th>\n",
       "      <th>12</th>\n",
       "      <th>13</th>\n",
       "      <th>14</th>\n",
       "      <th>15</th>\n",
       "      <th>16</th>\n",
       "      <th>17</th>\n",
       "      <th>18</th>\n",
       "      <th>19</th>\n",
       "    </tr>\n",
       "  </thead>\n",
       "  <tbody>\n",
       "    <tr>\n",
       "      <th>stime20s</th>\n",
       "      <td>4</td>\n",
       "      <td>4</td>\n",
       "      <td>5</td>\n",
       "      <td>5</td>\n",
       "      <td>6</td>\n",
       "      <td>6</td>\n",
       "      <td>7</td>\n",
       "      <td>3</td>\n",
       "      <td>8</td>\n",
       "      <td>7</td>\n",
       "      <td>8</td>\n",
       "      <td>8</td>\n",
       "      <td>7</td>\n",
       "      <td>7</td>\n",
       "      <td>7</td>\n",
       "      <td>6</td>\n",
       "      <td>8</td>\n",
       "      <td>5</td>\n",
       "      <td>6</td>\n",
       "      <td>6</td>\n",
       "    </tr>\n",
       "    <tr>\n",
       "      <th>stime40s</th>\n",
       "      <td>5</td>\n",
       "      <td>5</td>\n",
       "      <td>6</td>\n",
       "      <td>7</td>\n",
       "      <td>6</td>\n",
       "      <td>7</td>\n",
       "      <td>7</td>\n",
       "      <td>5</td>\n",
       "      <td>5</td>\n",
       "      <td>6</td>\n",
       "      <td>8</td>\n",
       "      <td>7</td>\n",
       "      <td>6</td>\n",
       "      <td>6</td>\n",
       "      <td>8</td>\n",
       "      <td>7</td>\n",
       "      <td>7</td>\n",
       "      <td>6</td>\n",
       "      <td>5</td>\n",
       "      <td>8</td>\n",
       "    </tr>\n",
       "    <tr>\n",
       "      <th>ID</th>\n",
       "      <td>1</td>\n",
       "      <td>2</td>\n",
       "      <td>3</td>\n",
       "      <td>4</td>\n",
       "      <td>5</td>\n",
       "      <td>6</td>\n",
       "      <td>7</td>\n",
       "      <td>8</td>\n",
       "      <td>9</td>\n",
       "      <td>10</td>\n",
       "      <td>11</td>\n",
       "      <td>12</td>\n",
       "      <td>13</td>\n",
       "      <td>14</td>\n",
       "      <td>15</td>\n",
       "      <td>16</td>\n",
       "      <td>17</td>\n",
       "      <td>18</td>\n",
       "      <td>19</td>\n",
       "      <td>20</td>\n",
       "    </tr>\n",
       "  </tbody>\n",
       "</table>\n",
       "</div>"
      ],
      "text/plain": [
       "          0   1   2   3   4   5   6   7   8   9   10  11  12  13  14  15  16  \\\n",
       "stime20s   4   4   5   5   6   6   7   3   8   7   8   8   7   7   7   6   8   \n",
       "stime40s   5   5   6   7   6   7   7   5   5   6   8   7   6   6   8   7   7   \n",
       "ID         1   2   3   4   5   6   7   8   9  10  11  12  13  14  15  16  17   \n",
       "\n",
       "          17  18  19  \n",
       "stime20s   5   6   6  \n",
       "stime40s   6   5   8  \n",
       "ID        18  19  20  "
      ]
     },
     "execution_count": 58,
     "metadata": {},
     "output_type": "execute_result"
    }
   ],
   "source": [
    "# 샘플 파일 불러오기\n",
    "df = pd.read_csv(\"./data_02/sleepage.csv\")\n",
    "df.T"
   ]
  },
  {
   "cell_type": "markdown",
   "metadata": {
    "id": "bddKnaQVHGYb"
   },
   "source": [
    "#### T 검정 1.ttest_1samp\n",
    "- 20대 평균 수면시간에 대한 one samle t-test\n",
    "- 유의수준은 5% 사용\n",
    "- 숫자는 반올림하여 소수점 아래 4번째 자리까지 표시"
   ]
  },
  {
   "cell_type": "markdown",
   "metadata": {},
   "source": [
    "- 가설 1.alternative='two-sided'\n",
    "- 귀무가설 - 20대 수면시간의 평균은 6시간이다.\n",
    "- 대립가설 - 20대 수면시간의 평균은 6시간이 아니다."
   ]
  },
  {
   "cell_type": "code",
   "execution_count": 96,
   "metadata": {
    "colab": {
     "base_uri": "https://localhost:8080/"
    },
    "id": "mG684uqUHGYe",
    "outputId": "662b57a9-5e0b-4e24-cf11-16fa637e2544"
   },
   "outputs": [
    {
     "name": "stdout",
     "output_type": "stream",
     "text": [
      "Ttest_1sampResult(statistic=0.45918493167748414, pvalue=0.6513113734805238)\n"
     ]
    }
   ],
   "source": [
    "from scipy.stats import ttest_1samp\n",
    "ttest_1samp = ttest_1samp(df['stime20s'], popmean = 6)\n",
    "print(ttest_1samp)"
   ]
  },
  {
   "cell_type": "code",
   "execution_count": 97,
   "metadata": {
    "colab": {
     "base_uri": "https://localhost:8080/"
    },
    "id": "CI-Ar1FMHGYf",
    "outputId": "71edc8fe-5fa2-4824-b451-f433d8d31e3e"
   },
   "outputs": [
    {
     "name": "stdout",
     "output_type": "stream",
     "text": [
      "귀무가설 채택\n"
     ]
    }
   ],
   "source": [
    "# 가설1 결과\n",
    "# p-value 가 0.05보다 크다\n",
    "# 귀무가설을 채택\n",
    "# 20대 수면시간의 평균은 6시간이다\n",
    "print('귀무가설 기각' if ttest_1samp.pvalue < 0.05 else '귀무가설 채택')"
   ]
  },
  {
   "cell_type": "markdown",
   "metadata": {
    "id": "ZlfH0fKcDnJj"
   },
   "source": [
    "가설-2. alternative='less'\n",
    "- 귀무가설 - 20대 수면시간의 평균은 6시간 보다 크거나 같다.\n",
    "- 대립가설 - 20대 수면시간의 평균은 6시간 보다 작다"
   ]
  },
  {
   "cell_type": "code",
   "execution_count": 98,
   "metadata": {
    "colab": {
     "base_uri": "https://localhost:8080/"
    },
    "id": "c0D0Ri7XHGYg",
    "outputId": "9bfcf015-00d8-44ad-e9b9-99a3c33d2d7b"
   },
   "outputs": [
    {
     "name": "stdout",
     "output_type": "stream",
     "text": [
      "Ttest_1sampResult(statistic=0.45918493167748414, pvalue=0.6743443132597382)\n"
     ]
    }
   ],
   "source": [
    "from scipy.stats import ttest_1samp\n",
    "ttest_1samp = ttest_1samp(df['stime20s'], popmean = 6, alternative='less')\n",
    "print(ttest_1samp)"
   ]
  },
  {
   "cell_type": "code",
   "execution_count": 99,
   "metadata": {
    "colab": {
     "base_uri": "https://localhost:8080/"
    },
    "id": "OSpQ3fII6Z2y",
    "outputId": "eba8b74a-8b29-4185-df1a-2c7ad795631c"
   },
   "outputs": [
    {
     "name": "stdout",
     "output_type": "stream",
     "text": [
      "채택\n"
     ]
    }
   ],
   "source": [
    "# 가설2 결과\n",
    "# p-value 가 0.05보다 크다\n",
    "# 귀무가설을 채택해야한다\n",
    "# 20대 수면시간의 평균은 6시간 보다 크거나 같다.\n",
    "print('기각' if pvalue < 0.05 else '채택')"
   ]
  },
  {
   "cell_type": "markdown",
   "metadata": {
    "id": "LJXAfvvS6zHP"
   },
   "source": [
    "가설-3. alternative='greater'\n",
    "- 귀무가설 - 20대 수면시간의 평균은 6시간 보다 작거나 같다.\n",
    "- 대립가설 - 20대 수면시간의 평균은 6시간 보다 크다"
   ]
  },
  {
   "cell_type": "code",
   "execution_count": 100,
   "metadata": {
    "colab": {
     "base_uri": "https://localhost:8080/"
    },
    "id": "KXnOqbIs66yj",
    "outputId": "60b916fd-b6cd-46fe-c899-86b6dd7347a1"
   },
   "outputs": [
    {
     "name": "stdout",
     "output_type": "stream",
     "text": [
      "Ttest_1sampResult(statistic=0.45918493167748414, pvalue=0.3256556867402619)\n"
     ]
    }
   ],
   "source": [
    "from scipy.stats import ttest_1samp\n",
    "ttest_1samp = ttest_1samp(df['stime20s'], popmean = 6, alternative='greater')\n",
    "print(ttest_1samp)"
   ]
  },
  {
   "cell_type": "code",
   "execution_count": 101,
   "metadata": {
    "colab": {
     "base_uri": "https://localhost:8080/"
    },
    "id": "OnPgfmO_HGYg",
    "outputId": "f0aaf9b5-c815-4ba6-90ee-4199653608a9"
   },
   "outputs": [
    {
     "name": "stdout",
     "output_type": "stream",
     "text": [
      "귀무가설 채택\n"
     ]
    }
   ],
   "source": [
    "# 가설3 결과\n",
    "# p-value 가 0.05보다 크다\n",
    "# 귀무가설을 채택해야 한다\n",
    "# 20대 수면시간의 평균은 6시간 보다 작거나 같다.\n",
    "print('귀무가설 기각' if pvalue < 0.05 else '귀무가설 채택')"
   ]
  },
  {
   "cell_type": "code",
   "execution_count": 102,
   "metadata": {
    "colab": {
     "base_uri": "https://localhost:8080/"
    },
    "id": "dUs1gm6474mJ",
    "outputId": "e4ceda1c-17e2-4f82-feca-eb65ee46ff4e"
   },
   "outputs": [],
   "source": [
    "# [9] 95% 신뢰구간 구하기 .....?????\n",
    "# from scipy.stats import t, sem\n",
    "# target = df['stime20s']\n",
    "# lower, upper = t(df=len(target)-1).interval(0.95, loc=target.mean(), scale=sem(target))\n",
    "# print(f'{lower:.4f} ~ {upper:.4f}')"
   ]
  },
  {
   "cell_type": "markdown",
   "metadata": {
    "id": "kg6nm09IHGYi"
   },
   "source": [
    "#### T 검정 2. ttest_ind\n",
    "- 두집단 A, B의 평균 차이가 유의미한지 확인하는 용도\n",
    "- 예) 20대와 40대의 수면 시간은 같다\n",
    "- stats.test_ind : (two INDependent sample이라 해서 ttest_ind )\n",
    "- t값과 two-tail p-value를 반환함\n",
    "- ttest_ind(a, b, equal_var=False) : Welch's t-test 수행 (등분산이 아닌 경우)"
   ]
  },
  {
   "cell_type": "code",
   "execution_count": 123,
   "metadata": {
    "colab": {
     "base_uri": "https://localhost:8080/",
     "height": 162
    },
    "id": "n2Pa1MnBHGYi",
    "outputId": "318f6f30-def0-434f-a7c6-41463fa98d2b"
   },
   "outputs": [
    {
     "name": "stdout",
     "output_type": "stream",
     "text": [
      "(20, 3)\n"
     ]
    },
    {
     "data": {
      "text/html": [
       "<div>\n",
       "<style scoped>\n",
       "    .dataframe tbody tr th:only-of-type {\n",
       "        vertical-align: middle;\n",
       "    }\n",
       "\n",
       "    .dataframe tbody tr th {\n",
       "        vertical-align: top;\n",
       "    }\n",
       "\n",
       "    .dataframe thead th {\n",
       "        text-align: right;\n",
       "    }\n",
       "</style>\n",
       "<table border=\"1\" class=\"dataframe\">\n",
       "  <thead>\n",
       "    <tr style=\"text-align: right;\">\n",
       "      <th></th>\n",
       "      <th>0</th>\n",
       "      <th>1</th>\n",
       "      <th>2</th>\n",
       "      <th>3</th>\n",
       "      <th>4</th>\n",
       "      <th>5</th>\n",
       "      <th>6</th>\n",
       "      <th>7</th>\n",
       "      <th>8</th>\n",
       "      <th>9</th>\n",
       "      <th>10</th>\n",
       "      <th>11</th>\n",
       "      <th>12</th>\n",
       "      <th>13</th>\n",
       "      <th>14</th>\n",
       "      <th>15</th>\n",
       "      <th>16</th>\n",
       "      <th>17</th>\n",
       "      <th>18</th>\n",
       "      <th>19</th>\n",
       "    </tr>\n",
       "  </thead>\n",
       "  <tbody>\n",
       "    <tr>\n",
       "      <th>stime20s</th>\n",
       "      <td>4</td>\n",
       "      <td>4</td>\n",
       "      <td>5</td>\n",
       "      <td>5</td>\n",
       "      <td>6</td>\n",
       "      <td>6</td>\n",
       "      <td>7</td>\n",
       "      <td>3</td>\n",
       "      <td>8</td>\n",
       "      <td>7</td>\n",
       "      <td>8</td>\n",
       "      <td>8</td>\n",
       "      <td>7</td>\n",
       "      <td>7</td>\n",
       "      <td>7</td>\n",
       "      <td>6</td>\n",
       "      <td>8</td>\n",
       "      <td>5</td>\n",
       "      <td>6</td>\n",
       "      <td>6</td>\n",
       "    </tr>\n",
       "    <tr>\n",
       "      <th>stime40s</th>\n",
       "      <td>5</td>\n",
       "      <td>5</td>\n",
       "      <td>6</td>\n",
       "      <td>7</td>\n",
       "      <td>6</td>\n",
       "      <td>7</td>\n",
       "      <td>7</td>\n",
       "      <td>5</td>\n",
       "      <td>5</td>\n",
       "      <td>6</td>\n",
       "      <td>8</td>\n",
       "      <td>7</td>\n",
       "      <td>6</td>\n",
       "      <td>6</td>\n",
       "      <td>8</td>\n",
       "      <td>7</td>\n",
       "      <td>7</td>\n",
       "      <td>6</td>\n",
       "      <td>5</td>\n",
       "      <td>8</td>\n",
       "    </tr>\n",
       "    <tr>\n",
       "      <th>ID</th>\n",
       "      <td>1</td>\n",
       "      <td>2</td>\n",
       "      <td>3</td>\n",
       "      <td>4</td>\n",
       "      <td>5</td>\n",
       "      <td>6</td>\n",
       "      <td>7</td>\n",
       "      <td>8</td>\n",
       "      <td>9</td>\n",
       "      <td>10</td>\n",
       "      <td>11</td>\n",
       "      <td>12</td>\n",
       "      <td>13</td>\n",
       "      <td>14</td>\n",
       "      <td>15</td>\n",
       "      <td>16</td>\n",
       "      <td>17</td>\n",
       "      <td>18</td>\n",
       "      <td>19</td>\n",
       "      <td>20</td>\n",
       "    </tr>\n",
       "  </tbody>\n",
       "</table>\n",
       "</div>"
      ],
      "text/plain": [
       "          0   1   2   3   4   5   6   7   8   9   10  11  12  13  14  15  16  \\\n",
       "stime20s   4   4   5   5   6   6   7   3   8   7   8   8   7   7   7   6   8   \n",
       "stime40s   5   5   6   7   6   7   7   5   5   6   8   7   6   6   8   7   7   \n",
       "ID         1   2   3   4   5   6   7   8   9  10  11  12  13  14  15  16  17   \n",
       "\n",
       "          17  18  19  \n",
       "stime20s   5   6   6  \n",
       "stime40s   6   5   8  \n",
       "ID        18  19  20  "
      ]
     },
     "execution_count": 123,
     "metadata": {},
     "output_type": "execute_result"
    }
   ],
   "source": [
    "# [1] 샘플 파일 불러오기\n",
    "import pandas as pd\n",
    "df2 = pd.read_csv('./data_02/sleepage.csv')\n",
    "print(df2.shape)\n",
    "df2.T"
   ]
  },
  {
   "cell_type": "code",
   "execution_count": 128,
   "metadata": {
    "id": "APlw91hbHGYi"
   },
   "outputs": [
    {
     "name": "stdout",
     "output_type": "stream",
     "text": [
      "6.15 6.35\n"
     ]
    }
   ],
   "source": [
    "# [2] 그룹 분할 후 평균 구하기\n",
    "stime20s = df2['stime20s']\n",
    "stime40s = df2['stime40s']\n",
    "\n",
    "print(stime20s.mean(), stime40s.mean())"
   ]
  },
  {
   "cell_type": "code",
   "execution_count": 132,
   "metadata": {},
   "outputs": [
    {
     "name": "stdout",
     "output_type": "stream",
     "text": [
      "--------------------------------------------------------------------------------\n",
      "정규성 검정\n",
      "ShapiroResult(statistic=0.9239299893379211, pvalue=0.11795635521411896)\n",
      "ShapiroResult(statistic=0.8809685707092285, pvalue=0.01841725781559944)\n",
      "--------------------------------------------------------------------------------\n",
      "등분산성 검정\n",
      "BartlettResult(statistic=2.0981070027224096, pvalue=0.1474816309742059)\n",
      "LeveneResult(statistic=1.48051948051948, pvalue=0.2311967404777494)\n",
      "FlignerResult(statistic=1.7911133505274075, pvalue=0.18079057109915886)\n"
     ]
    }
   ],
   "source": [
    "# [3] 정규성 및 등분산성 확인\n",
    "from scipy.stats import shapiro\n",
    "from scipy.stats import bartlett, levene, fligner\n",
    "\n",
    "print('-'*80)\n",
    "print('정규성 검정')\n",
    "print(shapiro(stime20s)) # 정규성 만족\n",
    "print(shapiro(stime40s)) # 정규성 만족하지 않음\n",
    "print('-'*80)\n",
    "print('등분산성 검정')\n",
    "print(bartlett(stime20s, stime40s)) # 등분산성 만족\n",
    "print(levene(stime20s, stime40s)) # 등분산성 만족\n",
    "print(fligner(stime20s, stime40s)) # 등분산성 만족"
   ]
  },
  {
   "cell_type": "markdown",
   "metadata": {
    "id": "TtEQZPSR9v7_"
   },
   "source": [
    "가설1. alternative='two-sided'\n",
    "- 귀무가설 : groupA의 평균 - groupB의 평균이 0과 같다\n",
    "- 대립가설 : groupA의 평균 - groupB의 평균이 0과 같지 않다\n",
    "- 귀무가설 : groupA, groupB의 평균은 동일하다\n",
    "- 대립가설 : groupA, groupB의 평균은 동일하지 않다"
   ]
  },
  {
   "cell_type": "code",
   "execution_count": 133,
   "metadata": {
    "colab": {
     "base_uri": "https://localhost:8080/"
    },
    "id": "veAHtnMWHGYk",
    "outputId": "ddacd279-44b8-46e0-c980-c2cc4a9d8699"
   },
   "outputs": [
    {
     "data": {
      "text/plain": [
       "Ttest_indResult(statistic=-0.49877099363500604, pvalue=0.6208158262957915)"
      ]
     },
     "execution_count": 133,
     "metadata": {},
     "output_type": "execute_result"
    }
   ],
   "source": [
    "from scipy.stats import ttest_ind\n",
    "ttest_ind(stime20s, stime40s, alternative = 'two-sided')"
   ]
  },
  {
   "cell_type": "code",
   "execution_count": null,
   "metadata": {
    "colab": {
     "base_uri": "https://localhost:8080/"
    },
    "id": "553_7jRqHGYm",
    "outputId": "3ce51aac-9728-49fc-c21a-d92d11f7f80b"
   },
   "outputs": [
    {
     "name": "stdout",
     "output_type": "stream",
     "text": [
      "채택\n"
     ]
    }
   ],
   "source": [
    "# 가설1 결과\n",
    "# pvalue가 0.05보다 큰값 (0.6208)\n",
    "# 귀무가설을 채택해야함\n",
    "# 즉, 20대와 40대의 평균 수명 시간에 차이가 없다. (동일하다)\n",
    "print('귀무가설 기각' if pvalue < 0.05 else '귀무가설 채택')"
   ]
  },
  {
   "cell_type": "markdown",
   "metadata": {
    "id": "vjip5-ZJDom9"
   },
   "source": [
    "가설2. alternative='less'\n",
    "- 귀무가설 : groupA의 평균 - groupB의 평균이 0보다 크거나 같다\n",
    "- 대립가설 : groupA의 평균 - groupB의 평균이 0보다 작다\n",
    "- 귀무가설 : groupA의 평균이 groupB의 평균보다 크거나 같다\n",
    "- 대립가설 : groupA의 평균이 groupB의 평균보다 작다"
   ]
  },
  {
   "cell_type": "code",
   "execution_count": 134,
   "metadata": {
    "colab": {
     "base_uri": "https://localhost:8080/"
    },
    "id": "CV15CIzlDnfb",
    "outputId": "d325ab6e-d038-489c-b92f-ac57cbc87bbb"
   },
   "outputs": [
    {
     "data": {
      "text/plain": [
       "Ttest_indResult(statistic=-0.49877099363500604, pvalue=0.31040791314789573)"
      ]
     },
     "execution_count": 134,
     "metadata": {},
     "output_type": "execute_result"
    }
   ],
   "source": [
    "from scipy.stats import ttest_ind\n",
    "ttest_ind(stime20s, stime40s, alternative = 'less')"
   ]
  },
  {
   "cell_type": "code",
   "execution_count": 135,
   "metadata": {
    "colab": {
     "base_uri": "https://localhost:8080/"
    },
    "id": "SR2uSH_yFykq",
    "outputId": "ca851880-ab64-4d2d-d12a-813ad8424839"
   },
   "outputs": [
    {
     "name": "stdout",
     "output_type": "stream",
     "text": [
      "귀무가설 채택\n"
     ]
    }
   ],
   "source": [
    "# 가설2 결과\n",
    "# pvalue가 0.05보다 큰 값(0.3104)\n",
    "# 귀무가설을 채택해야함\n",
    "# 즉, groupA의 평균 - groupB의 평균이 0보다 크거나 같다\n",
    "# groupA의 평균이 groupB의 평균보다 크거나 같다\n",
    "print('귀무가설 기각' if pvalue < 0.05 else '귀무가설 채택')"
   ]
  },
  {
   "cell_type": "markdown",
   "metadata": {
    "id": "H5sDZaJVG9ui"
   },
   "source": [
    "가설3. alternative='greater'\n",
    "- 귀무가설 : groupA의 평균 - groupB의 평균이 0보다 작거나 같다\n",
    "- 대립가설 : groupA의 평균 - groupB의 평균이 0보다 크다\n",
    "- 귀무가설 : groupA의 평균이 groupB의 평균보다 작거나 같다\n",
    "- 대립가설 : groupA의 평균이 groupB의 평균보다 크다"
   ]
  },
  {
   "cell_type": "code",
   "execution_count": 136,
   "metadata": {
    "colab": {
     "base_uri": "https://localhost:8080/"
    },
    "id": "UoqlmdbPHIoU",
    "outputId": "e01edda6-683b-4d28-99fb-28c70a017fd0"
   },
   "outputs": [
    {
     "data": {
      "text/plain": [
       "Ttest_indResult(statistic=-0.49877099363500604, pvalue=0.6895920868521042)"
      ]
     },
     "execution_count": 136,
     "metadata": {},
     "output_type": "execute_result"
    }
   ],
   "source": [
    "from scipy.stats import ttest_ind\n",
    "ttest_ind(stime20s, stime40s, alternative = 'greater')"
   ]
  },
  {
   "cell_type": "code",
   "execution_count": 137,
   "metadata": {
    "colab": {
     "base_uri": "https://localhost:8080/"
    },
    "id": "7KyshE1yHNZu",
    "outputId": "155b9092-bad8-468c-abd5-0e980932a0ce"
   },
   "outputs": [
    {
     "name": "stdout",
     "output_type": "stream",
     "text": [
      "귀무가설 채택\n"
     ]
    }
   ],
   "source": [
    "# 가설3 결과\n",
    "# pvalue가 0.05보다 큰 값(0.6896)\n",
    "# 귀무가설을 채택해야함\n",
    "# 즉, groupA의 평균 - groupB의 평균이 0보다 작거나 같다\n",
    "# groupA의 평균이 groupB의 평균보다 작거나 같다\n",
    "print('귀무가설 기각' if pvalue < 0.05 else '귀무가설 채택')"
   ]
  },
  {
   "cell_type": "markdown",
   "metadata": {
    "id": "NZPSVBEcHGYm"
   },
   "source": [
    "#### 3-3.Paired t-test \n",
    "- 동일한 특성을 같는 두집단 A, B의 평균 차이가 유의미한지 확인하는 용도\n",
    "- 처치 전/후 비교(효과 검정), 한 집단에 대해 두 가지 방법에 대한 차이 검정 등에 사용\n",
    "- 등분산성 검정은 하지 않아도 됨\n",
    "- 두 약 투여에 따른 추가 수면 시간 평균의 차이가 있는가?\n",
    "- stats.ttest_rel: (two RELated samples)"
   ]
  },
  {
   "cell_type": "code",
   "execution_count": 138,
   "metadata": {
    "colab": {
     "base_uri": "https://localhost:8080/",
     "height": 162
    },
    "id": "Vobl6wqgHGYm",
    "outputId": "6205ceff-9cf8-4bda-b333-a6f76aa6c9a8"
   },
   "outputs": [
    {
     "name": "stdout",
     "output_type": "stream",
     "text": [
      "(20, 3)\n"
     ]
    },
    {
     "data": {
      "text/html": [
       "<div>\n",
       "<style scoped>\n",
       "    .dataframe tbody tr th:only-of-type {\n",
       "        vertical-align: middle;\n",
       "    }\n",
       "\n",
       "    .dataframe tbody tr th {\n",
       "        vertical-align: top;\n",
       "    }\n",
       "\n",
       "    .dataframe thead th {\n",
       "        text-align: right;\n",
       "    }\n",
       "</style>\n",
       "<table border=\"1\" class=\"dataframe\">\n",
       "  <thead>\n",
       "    <tr style=\"text-align: right;\">\n",
       "      <th></th>\n",
       "      <th>0</th>\n",
       "      <th>1</th>\n",
       "      <th>2</th>\n",
       "      <th>3</th>\n",
       "      <th>4</th>\n",
       "      <th>5</th>\n",
       "      <th>6</th>\n",
       "      <th>7</th>\n",
       "      <th>8</th>\n",
       "      <th>9</th>\n",
       "      <th>10</th>\n",
       "      <th>11</th>\n",
       "      <th>12</th>\n",
       "      <th>13</th>\n",
       "      <th>14</th>\n",
       "      <th>15</th>\n",
       "      <th>16</th>\n",
       "      <th>17</th>\n",
       "      <th>18</th>\n",
       "      <th>19</th>\n",
       "    </tr>\n",
       "  </thead>\n",
       "  <tbody>\n",
       "    <tr>\n",
       "      <th>extra</th>\n",
       "      <td>0.7</td>\n",
       "      <td>-1.6</td>\n",
       "      <td>-0.2</td>\n",
       "      <td>-1.2</td>\n",
       "      <td>-0.1</td>\n",
       "      <td>3.4</td>\n",
       "      <td>3.7</td>\n",
       "      <td>0.8</td>\n",
       "      <td>0.0</td>\n",
       "      <td>2.0</td>\n",
       "      <td>1.9</td>\n",
       "      <td>0.8</td>\n",
       "      <td>1.1</td>\n",
       "      <td>0.1</td>\n",
       "      <td>-0.1</td>\n",
       "      <td>4.4</td>\n",
       "      <td>5.5</td>\n",
       "      <td>1.6</td>\n",
       "      <td>4.6</td>\n",
       "      <td>3.4</td>\n",
       "    </tr>\n",
       "    <tr>\n",
       "      <th>group</th>\n",
       "      <td>1.0</td>\n",
       "      <td>1.0</td>\n",
       "      <td>1.0</td>\n",
       "      <td>1.0</td>\n",
       "      <td>1.0</td>\n",
       "      <td>1.0</td>\n",
       "      <td>1.0</td>\n",
       "      <td>1.0</td>\n",
       "      <td>1.0</td>\n",
       "      <td>1.0</td>\n",
       "      <td>2.0</td>\n",
       "      <td>2.0</td>\n",
       "      <td>2.0</td>\n",
       "      <td>2.0</td>\n",
       "      <td>2.0</td>\n",
       "      <td>2.0</td>\n",
       "      <td>2.0</td>\n",
       "      <td>2.0</td>\n",
       "      <td>2.0</td>\n",
       "      <td>2.0</td>\n",
       "    </tr>\n",
       "    <tr>\n",
       "      <th>ID</th>\n",
       "      <td>1.0</td>\n",
       "      <td>2.0</td>\n",
       "      <td>3.0</td>\n",
       "      <td>4.0</td>\n",
       "      <td>5.0</td>\n",
       "      <td>6.0</td>\n",
       "      <td>7.0</td>\n",
       "      <td>8.0</td>\n",
       "      <td>9.0</td>\n",
       "      <td>10.0</td>\n",
       "      <td>1.0</td>\n",
       "      <td>2.0</td>\n",
       "      <td>3.0</td>\n",
       "      <td>4.0</td>\n",
       "      <td>5.0</td>\n",
       "      <td>6.0</td>\n",
       "      <td>7.0</td>\n",
       "      <td>8.0</td>\n",
       "      <td>9.0</td>\n",
       "      <td>10.0</td>\n",
       "    </tr>\n",
       "  </tbody>\n",
       "</table>\n",
       "</div>"
      ],
      "text/plain": [
       "        0    1    2    3    4    5    6    7    8     9    10   11   12   13  \\\n",
       "extra  0.7 -1.6 -0.2 -1.2 -0.1  3.4  3.7  0.8  0.0   2.0  1.9  0.8  1.1  0.1   \n",
       "group  1.0  1.0  1.0  1.0  1.0  1.0  1.0  1.0  1.0   1.0  2.0  2.0  2.0  2.0   \n",
       "ID     1.0  2.0  3.0  4.0  5.0  6.0  7.0  8.0  9.0  10.0  1.0  2.0  3.0  4.0   \n",
       "\n",
       "        14   15   16   17   18    19  \n",
       "extra -0.1  4.4  5.5  1.6  4.6   3.4  \n",
       "group  2.0  2.0  2.0  2.0  2.0   2.0  \n",
       "ID     5.0  6.0  7.0  8.0  9.0  10.0  "
      ]
     },
     "execution_count": 138,
     "metadata": {},
     "output_type": "execute_result"
    }
   ],
   "source": [
    "# [1] 샘플 데이터 가져오기\n",
    "import pandas as pd\n",
    "import numpy as np\n",
    "df2 = pd.read_csv('./data_02/sleep.csv')\n",
    "df2.T"
   ]
  },
  {
   "cell_type": "code",
   "execution_count": 139,
   "metadata": {
    "id": "RpCVKuGXHGYn"
   },
   "outputs": [],
   "source": [
    "# [2] 그룹 나누기\n",
    "gA = df2.loc[df2.group==1, 'extra']\n",
    "gB = df2.loc[df2.group==2, 'extra']"
   ]
  },
  {
   "cell_type": "code",
   "execution_count": 157,
   "metadata": {
    "colab": {
     "base_uri": "https://localhost:8080/"
    },
    "id": "whD5_mDRHGYn",
    "outputId": "a30008a0-a36e-404b-9461-cddc39d3bf65"
   },
   "outputs": [
    {
     "name": "stdout",
     "output_type": "stream",
     "text": [
      "ShapiroResult(statistic=0.9258062243461609, pvalue=0.4079307019710541)\n",
      "ShapiroResult(statistic=0.9192975759506226, pvalue=0.35113343596458435)\n"
     ]
    }
   ],
   "source": [
    "# [3] 정규성 검정(shapiro)\n",
    "from scipy.stats import shapiro\n",
    "print(shapiro(gA)) # 정규성 만족\n",
    "print(shapiro(gB)) # 정규성 만족"
   ]
  },
  {
   "cell_type": "markdown",
   "metadata": {
    "id": "wUHg3DfKJHwE"
   },
   "source": [
    "가설1. alternative='two-sided'\n",
    "- 귀무가설 : gA의 평균 - gB의 평균이 0과 같다\n",
    "- 대립가설 : gA의 평균 - gB의 평균이 0과 같지 않다\n",
    "- 귀무가설 : gA와 gB의 평균은 같다\n",
    "- 대립가설 : gA와 gB의 평균은 같지 않다"
   ]
  },
  {
   "cell_type": "code",
   "execution_count": 158,
   "metadata": {
    "colab": {
     "base_uri": "https://localhost:8080/"
    },
    "id": "WW5j4wDIHGYn",
    "outputId": "ba694cc7-8eee-4546-8a9d-34a3b004fa7e"
   },
   "outputs": [
    {
     "name": "stdout",
     "output_type": "stream",
     "text": [
      "Ttest_relResult(statistic=-4.062127683382037, pvalue=0.00283289019738427)\n"
     ]
    }
   ],
   "source": [
    "from scipy.stats import ttest_rel\n",
    "ttest_rel = ttest_rel(gA, gB, alternative='two-sided')\n",
    "print(ttest_rel)"
   ]
  },
  {
   "cell_type": "code",
   "execution_count": 159,
   "metadata": {
    "colab": {
     "base_uri": "https://localhost:8080/"
    },
    "id": "dfHPanKqHGYo",
    "outputId": "7d23cbdb-b382-4b9f-8458-644e53088908"
   },
   "outputs": [
    {
     "name": "stdout",
     "output_type": "stream",
     "text": [
      "귀무가설 기각\n"
     ]
    }
   ],
   "source": [
    "# 가설1 결과\n",
    "# p-value 가 0.05보다 작음\n",
    "# 귀무가설을 기각한다\n",
    "# gA와 gB의 평균은 같지 않다\n",
    "print('귀무가설 기각' if ttest_rel.pvalue < 0.05 else '귀무가설 채택')  "
   ]
  },
  {
   "cell_type": "markdown",
   "metadata": {
    "id": "XuSOMrq_86wG"
   },
   "source": [
    "가설2. alternative='less'\n",
    "- 귀무가설 : gA의 평균 - gB의 평균이 0보다 크거나 같다\n",
    "- 대립가설 : gA의 평균 - gB의 평균이 0보다 작다\n",
    "- 귀무가설 : gA의 평균이 gB의 평균보다 크거나 같다\n",
    "- 대립가설 : gA의 평균이 gB의 평균보다 작다"
   ]
  },
  {
   "cell_type": "markdown",
   "metadata": {
    "id": "VCS84_w6Y-eP"
   },
   "source": [
    "The t-statistic is calculated as np.mean(a - b)/se, where se is the standard error. Therefore, the t-statistic will be positive when the sample mean of a - b is greater than zero and negative when the sample mean of a - b is less than zero"
   ]
  },
  {
   "cell_type": "code",
   "execution_count": 168,
   "metadata": {
    "colab": {
     "base_uri": "https://localhost:8080/"
    },
    "id": "ZojwRy-GOSAw",
    "outputId": "d6299331-ab27-48b5-e9f4-c3220b403d27"
   },
   "outputs": [
    {
     "name": "stdout",
     "output_type": "stream",
     "text": [
      "Ttest_relResult(statistic=-4.062127683382037, pvalue=0.001416445098692135)\n"
     ]
    }
   ],
   "source": [
    "from scipy.stats import ttest_rel\n",
    "ttest_rel = ttest_rel(gA, gB, alternative='less')\n",
    "print(ttest_rel)"
   ]
  },
  {
   "cell_type": "code",
   "execution_count": 169,
   "metadata": {
    "colab": {
     "base_uri": "https://localhost:8080/"
    },
    "id": "bEL_KBiBZCvM",
    "outputId": "4183a331-a61e-4969-e677-6497d6dbca5b"
   },
   "outputs": [
    {
     "name": "stdout",
     "output_type": "stream",
     "text": [
      "귀무가설 기각\n"
     ]
    }
   ],
   "source": [
    "# 가설2 결과\n",
    "# p-value 가 0.05보다 작음\n",
    "# 귀무가설을 기각한다\n",
    "# gA의 평균이 gB의 평균보다 작다\n",
    "print('귀무가설 기각' if ttest_rel.pvalue < 0.05 else '귀무가설 채택')  "
   ]
  },
  {
   "cell_type": "markdown",
   "metadata": {
    "id": "-Fwwj6O6ZWVP"
   },
   "source": [
    "가설3. alternative='greater'\n",
    "- 귀무가설 : gA의 평균 - gB의 평균이 0보다 작거나 같다\n",
    "- 대립가설 : gA의 평균 - gB의 평균이 0보다 크다\n",
    "- 귀무가설 : gA의 평균이 gB의 평균보다 작거나 같다\n",
    "- 대립가설 : gA의 평균이 gB의 평균보다 크다"
   ]
  },
  {
   "cell_type": "code",
   "execution_count": 170,
   "metadata": {
    "colab": {
     "base_uri": "https://localhost:8080/"
    },
    "id": "X54tZ-YXZgei",
    "outputId": "113ff441-0b48-4610-86ce-368b09b83fd7"
   },
   "outputs": [
    {
     "name": "stdout",
     "output_type": "stream",
     "text": [
      "Ttest_relResult(statistic=-4.062127683382037, pvalue=0.9985835549013078)\n"
     ]
    }
   ],
   "source": [
    "from scipy.stats import ttest_rel\n",
    "ttest_rel = ttest_rel(gA, gB, alternative='greater')\n",
    "print(ttest_rel)"
   ]
  },
  {
   "cell_type": "code",
   "execution_count": 171,
   "metadata": {
    "colab": {
     "base_uri": "https://localhost:8080/"
    },
    "id": "REUw5nvhZlI-",
    "outputId": "c1d596d3-f05f-470e-c6ac-b7077077237e"
   },
   "outputs": [
    {
     "name": "stdout",
     "output_type": "stream",
     "text": [
      "귀무가설 채택\n"
     ]
    }
   ],
   "source": [
    "# 가설3 결과\n",
    "# p-value 가 0.05보다 큼\n",
    "# 귀무가설을 채택한다\n",
    "# gA의 평균이 gB의 평균보다 작거나 같다\n",
    "print('귀무가설 기각' if ttest_rel.pvalue < 0.05 else '귀무가설 채택')  "
   ]
  },
  {
   "cell_type": "markdown",
   "metadata": {
    "id": "Z7RNfAZ9aUIk"
   },
   "source": [
    "#### 3-4.분류 모델에서 활용\n",
    "- 1개 연속형 변수, 1개 범주형 변수 (2개 범주)\n",
    "- 범주별로 연속형 변수의 평균 차이가 있는지 검정한다"
   ]
  },
  {
   "cell_type": "code",
   "execution_count": null,
   "metadata": {
    "colab": {
     "base_uri": "https://localhost:8080/",
     "height": 176
    },
    "id": "bDz_WRXS87QI",
    "outputId": "2690d072-94b4-4be1-e9c0-bce3ea236166"
   },
   "outputs": [
    {
     "data": {
      "text/html": [
       "\n",
       "  <div id=\"df-5ccfd8c0-6f3a-44b6-b093-e8e2ec656ea5\">\n",
       "    <div class=\"colab-df-container\">\n",
       "      <div>\n",
       "<style scoped>\n",
       "    .dataframe tbody tr th:only-of-type {\n",
       "        vertical-align: middle;\n",
       "    }\n",
       "\n",
       "    .dataframe tbody tr th {\n",
       "        vertical-align: top;\n",
       "    }\n",
       "\n",
       "    .dataframe thead th {\n",
       "        text-align: right;\n",
       "    }\n",
       "</style>\n",
       "<table border=\"1\" class=\"dataframe\">\n",
       "  <thead>\n",
       "    <tr style=\"text-align: right;\">\n",
       "      <th></th>\n",
       "      <th>ID</th>\n",
       "      <th>Warehouse_block</th>\n",
       "      <th>Mode_of_Shipment</th>\n",
       "      <th>Customer_care_calls</th>\n",
       "      <th>Customer_rating</th>\n",
       "      <th>Cost_of_the_Product</th>\n",
       "      <th>Prior_purchases</th>\n",
       "      <th>Product_importance</th>\n",
       "      <th>Gender</th>\n",
       "      <th>Discount_offered</th>\n",
       "      <th>Weight_in_gms</th>\n",
       "      <th>Reached.on.Time_Y.N</th>\n",
       "    </tr>\n",
       "  </thead>\n",
       "  <tbody>\n",
       "    <tr>\n",
       "      <th>0</th>\n",
       "      <td>1</td>\n",
       "      <td>D</td>\n",
       "      <td>Flight</td>\n",
       "      <td>4</td>\n",
       "      <td>2</td>\n",
       "      <td>177</td>\n",
       "      <td>3</td>\n",
       "      <td>low</td>\n",
       "      <td>F</td>\n",
       "      <td>44</td>\n",
       "      <td>1233</td>\n",
       "      <td>1</td>\n",
       "    </tr>\n",
       "    <tr>\n",
       "      <th>1</th>\n",
       "      <td>2</td>\n",
       "      <td>F</td>\n",
       "      <td>Flight</td>\n",
       "      <td>4</td>\n",
       "      <td>5</td>\n",
       "      <td>216</td>\n",
       "      <td>2</td>\n",
       "      <td>low</td>\n",
       "      <td>M</td>\n",
       "      <td>59</td>\n",
       "      <td>3088</td>\n",
       "      <td>1</td>\n",
       "    </tr>\n",
       "  </tbody>\n",
       "</table>\n",
       "</div>\n",
       "      <button class=\"colab-df-convert\" onclick=\"convertToInteractive('df-5ccfd8c0-6f3a-44b6-b093-e8e2ec656ea5')\"\n",
       "              title=\"Convert this dataframe to an interactive table.\"\n",
       "              style=\"display:none;\">\n",
       "        \n",
       "  <svg xmlns=\"http://www.w3.org/2000/svg\" height=\"24px\"viewBox=\"0 0 24 24\"\n",
       "       width=\"24px\">\n",
       "    <path d=\"M0 0h24v24H0V0z\" fill=\"none\"/>\n",
       "    <path d=\"M18.56 5.44l.94 2.06.94-2.06 2.06-.94-2.06-.94-.94-2.06-.94 2.06-2.06.94zm-11 1L8.5 8.5l.94-2.06 2.06-.94-2.06-.94L8.5 2.5l-.94 2.06-2.06.94zm10 10l.94 2.06.94-2.06 2.06-.94-2.06-.94-.94-2.06-.94 2.06-2.06.94z\"/><path d=\"M17.41 7.96l-1.37-1.37c-.4-.4-.92-.59-1.43-.59-.52 0-1.04.2-1.43.59L10.3 9.45l-7.72 7.72c-.78.78-.78 2.05 0 2.83L4 21.41c.39.39.9.59 1.41.59.51 0 1.02-.2 1.41-.59l7.78-7.78 2.81-2.81c.8-.78.8-2.07 0-2.86zM5.41 20L4 18.59l7.72-7.72 1.47 1.35L5.41 20z\"/>\n",
       "  </svg>\n",
       "      </button>\n",
       "      \n",
       "  <style>\n",
       "    .colab-df-container {\n",
       "      display:flex;\n",
       "      flex-wrap:wrap;\n",
       "      gap: 12px;\n",
       "    }\n",
       "\n",
       "    .colab-df-convert {\n",
       "      background-color: #E8F0FE;\n",
       "      border: none;\n",
       "      border-radius: 50%;\n",
       "      cursor: pointer;\n",
       "      display: none;\n",
       "      fill: #1967D2;\n",
       "      height: 32px;\n",
       "      padding: 0 0 0 0;\n",
       "      width: 32px;\n",
       "    }\n",
       "\n",
       "    .colab-df-convert:hover {\n",
       "      background-color: #E2EBFA;\n",
       "      box-shadow: 0px 1px 2px rgba(60, 64, 67, 0.3), 0px 1px 3px 1px rgba(60, 64, 67, 0.15);\n",
       "      fill: #174EA6;\n",
       "    }\n",
       "\n",
       "    [theme=dark] .colab-df-convert {\n",
       "      background-color: #3B4455;\n",
       "      fill: #D2E3FC;\n",
       "    }\n",
       "\n",
       "    [theme=dark] .colab-df-convert:hover {\n",
       "      background-color: #434B5C;\n",
       "      box-shadow: 0px 1px 3px 1px rgba(0, 0, 0, 0.15);\n",
       "      filter: drop-shadow(0px 1px 2px rgba(0, 0, 0, 0.3));\n",
       "      fill: #FFFFFF;\n",
       "    }\n",
       "  </style>\n",
       "\n",
       "      <script>\n",
       "        const buttonEl =\n",
       "          document.querySelector('#df-5ccfd8c0-6f3a-44b6-b093-e8e2ec656ea5 button.colab-df-convert');\n",
       "        buttonEl.style.display =\n",
       "          google.colab.kernel.accessAllowed ? 'block' : 'none';\n",
       "\n",
       "        async function convertToInteractive(key) {\n",
       "          const element = document.querySelector('#df-5ccfd8c0-6f3a-44b6-b093-e8e2ec656ea5');\n",
       "          const dataTable =\n",
       "            await google.colab.kernel.invokeFunction('convertToInteractive',\n",
       "                                                     [key], {});\n",
       "          if (!dataTable) return;\n",
       "\n",
       "          const docLinkHtml = 'Like what you see? Visit the ' +\n",
       "            '<a target=\"_blank\" href=https://colab.research.google.com/notebooks/data_table.ipynb>data table notebook</a>'\n",
       "            + ' to learn more about interactive tables.';\n",
       "          element.innerHTML = '';\n",
       "          dataTable['output_type'] = 'display_data';\n",
       "          await google.colab.output.renderOutput(dataTable, element);\n",
       "          const docLink = document.createElement('div');\n",
       "          docLink.innerHTML = docLinkHtml;\n",
       "          element.appendChild(docLink);\n",
       "        }\n",
       "      </script>\n",
       "    </div>\n",
       "  </div>\n",
       "  "
      ],
      "text/plain": [
       "   ID Warehouse_block Mode_of_Shipment  Customer_care_calls  Customer_rating  \\\n",
       "0   1               D           Flight                    4                2   \n",
       "1   2               F           Flight                    4                5   \n",
       "\n",
       "   Cost_of_the_Product  Prior_purchases Product_importance Gender  \\\n",
       "0                  177                3                low      F   \n",
       "1                  216                2                low      M   \n",
       "\n",
       "   Discount_offered  Weight_in_gms  Reached.on.Time_Y.N  \n",
       "0                44           1233                    1  \n",
       "1                59           3088                    1  "
      ]
     },
     "execution_count": 15,
     "metadata": {},
     "output_type": "execute_result"
    }
   ],
   "source": [
    "import pandas as pd\n",
    "data = pd.read_csv('https://raw.githubusercontent.com/Soyoung-Yoon/bigdata/main/1st_Train.csv')\n",
    "data.head(2)"
   ]
  },
  {
   "cell_type": "code",
   "execution_count": null,
   "metadata": {
    "colab": {
     "base_uri": "https://localhost:8080/"
    },
    "id": "dOX9QW4KkzoV",
    "outputId": "b93fe73b-9a4c-4fba-b6b3-15927668c294"
   },
   "outputs": [
    {
     "name": "stdout",
     "output_type": "stream",
     "text": [
      "Cost_of_the_Product (4436,) (6563,)\n",
      "shapiro - statistic:0.9719, p-value:0.0000\n",
      "shapiro - statistic:0.9723, p-value:0.0000\n",
      "kstest - statistic:1.0000, p-value:0.0000\n",
      "kstest - statistic:1.0000, p-value:0.0000\n",
      "bartlett - statistic:0.2039, p-value:0.6516\n",
      "ttest_ind - statistic:7.7378, p-value:0.0000\n",
      "214.4986, 207.2892\n"
     ]
    },
    {
     "name": "stderr",
     "output_type": "stream",
     "text": [
      "/usr/local/lib/python3.10/dist-packages/scipy/stats/_morestats.py:1816: UserWarning: p-value may not be accurate for N > 5000.\n",
      "  warnings.warn(\"p-value may not be accurate for N > 5000.\")\n"
     ]
    }
   ],
   "source": [
    "# t-test\n",
    "# 연속형 변수 : 'Cost_of_the_Product', 'Weight_in_gms', 'Discount_offered'\n",
    "# 범주형 변수 : 'Reached.on.Time_Y.N'\n",
    "\n",
    "from scipy.stats import shapiro, kstest, bartlett\n",
    "from scipy.stats import ttest_ind\n",
    "\n",
    "# [1] 그룹 나누기\n",
    "feature = 'Cost_of_the_Product'\n",
    "condition_0 = data['Reached.on.Time_Y.N'] == 0\n",
    "condition_1 = data['Reached.on.Time_Y.N'] == 1\n",
    "group0 = data.loc[condition_0, feature]\n",
    "group1 = data.loc[condition_1, feature]\n",
    "print(feature, group0.shape, group1.shape)\n",
    "\n",
    "# [2] 정규성, 등분산성 검정\n",
    "statistic, pvalue = shapiro(group0)\n",
    "print(f'shapiro - statistic:{statistic:.4f}, p-value:{pvalue:.4f}')\n",
    "statistic, pvalue = shapiro(group1)\n",
    "print(f'shapiro - statistic:{statistic:.4f}, p-value:{pvalue:.4f}')\n",
    "\n",
    "statistic, pvalue = kstest(group0, 'norm')\n",
    "print(f'kstest - statistic:{statistic:.4f}, p-value:{pvalue:.4f}')\n",
    "statistic, pvalue = kstest(group1, 'norm')\n",
    "print(f'kstest - statistic:{statistic:.4f}, p-value:{pvalue:.4f}')\n",
    "# p-value: 0.0000, 정규성을 만족하지 않음\n",
    "\n",
    "statistic, pvalue = bartlett(group0, group1)\n",
    "print(f'bartlett - statistic:{statistic:.4f}, p-value:{pvalue:.4f}')\n",
    "# p-value:0.6516, 등분산성을 만족\n",
    "\n",
    "# [3] ttest_ind\n",
    "statistic, pvalue = ttest_ind(group0, group1)\n",
    "print(f'ttest_ind - statistic:{statistic:.4f}, p-value:{pvalue:.4f}')\n",
    "\n",
    "# [4] 결론\n",
    "# p-value 0.05 보다 작음\n",
    "# 귀무가설을 기각한다.\n",
    "# 두 그룹의 평균이 다르다! \n",
    "# statistic:7.7378 (group0의 평균이 더 크다)\n",
    "mean_g0, mean_g1 = group0.mean(), group1.mean()\n",
    "print(f'{mean_g0:.4f}, {mean_g1:.4f}')"
   ]
  },
  {
   "cell_type": "code",
   "execution_count": null,
   "metadata": {
    "colab": {
     "base_uri": "https://localhost:8080/"
    },
    "id": "GM6GHFFykA2_",
    "outputId": "179de2c3-ac15-4ea8-d508-d95aa08e672c"
   },
   "outputs": [
    {
     "name": "stdout",
     "output_type": "stream",
     "text": [
      "Cost_of_the_Product\n",
      "214.4986, 207.2892\n",
      "ttest_ind - p-value:0.0000\n",
      "유의미\n",
      "Weight_in_gms\n",
      "4168.6684, 3272.6401\n",
      "ttest_ind - p-value:0.0000\n",
      "유의미\n",
      "Discount_offered\n",
      "5.5460, 18.6637\n",
      "ttest_ind - p-value:0.0000\n",
      "유의미\n"
     ]
    }
   ],
   "source": [
    "def my_ttest_ind(data, feature, target):\n",
    "    group0 = data.loc[data[target] == 0, feature]\n",
    "    group1 = data.loc[data[target] == 1, feature]\n",
    "    mean_g0, mean_g1 = group0.mean(), group1.mean()\n",
    "    print(f'{mean_g0:.4f}, {mean_g1:.4f}')\n",
    "    _, pvalue = ttest_ind(group0, group1)\n",
    "    print(f'ttest_ind - p-value:{pvalue:.4f}')\n",
    "    print('유의미' if pvalue < 0.05 else '의미가 없다')\n",
    "\n",
    "# 'Cost_of_the_Product', 'Weight_in_gms', 'Discount_offered'\n",
    "for feature in ['Cost_of_the_Product', 'Weight_in_gms',\n",
    "                'Discount_offered']:\n",
    "    print(feature)\n",
    "    my_ttest_ind(data, feature, 'Reached.on.Time_Y.N') "
   ]
  },
  {
   "cell_type": "markdown",
   "metadata": {
    "id": "XMzOwntaoQBB"
   },
   "source": [
    "#### 3-5.모평균에 관한 t-test\n",
    "A 회사에서 판매하는 모니터는 평균 5개 보다 적은 불량화소를 포함한다고 주장한다. 이 주장을 판단하기 위해서 데이터를 수집했으며, 주어진 데이터(data_02/defective.csv)에는 모니터 25개에서 조사한 불량화소 개수가 저장되어 있다. \n",
    "- 불량화소의 개수는 정규분포를 따른다고 할 때, 이 주장의 타당성 여부를 유의수준 5%에서 검정하여라\n",
    "- 𝑯_𝟎  : 𝝁≥𝟓, 𝑯_𝟏  : 𝝁<𝟓, defective_pixel :  불량화소 개수\n",
    "- (a) 불량화소의 표본 평균을 구하시오 (반올림하여 소수 둘째자리까지 계산)\n",
    "- (b) 위의 가설을 검정하기 위한 검정통계량을 입력하시오.(반올림하여 소수 넷째자리까지 계산)\n",
    "- (c) 위의 통계량에 대한 p-값을 구하여 입력하시오. (반올림하여 소수 넷째자리까지 계산)\n",
    "- (d) 유의수준 0.05 하에서 가설검정의 결과를 (채택/기각) 중 하나를 선택하여 입력하시오.\n",
    "\n"
   ]
  },
  {
   "cell_type": "code",
   "execution_count": 71,
   "metadata": {
    "colab": {
     "base_uri": "https://localhost:8080/"
    },
    "id": "Jf3jqjhnosLW",
    "outputId": "01bc0b67-733f-4f55-917e-b0551bc09c36"
   },
   "outputs": [
    {
     "name": "stdout",
     "output_type": "stream",
     "text": [
      "4.84\n",
      "-1.4446\n",
      "0.0807\n",
      "채택\n"
     ]
    }
   ],
   "source": [
    "# 귀무가설 : A 회사에서 판매하는 모니터의 불량화소 평균이 5개 보다 크거나 같다.\n",
    "# 대립가설 : A 회사에서 판매하는 모니터의 불량화소 평균이 5개 보다 적다.\n",
    "\n",
    "import pandas as pd\n",
    "from scipy.stats import ttest_1samp\n",
    "\n",
    "data = pd.read_csv('data_02/defective.csv')\n",
    "#print(data.shape)\n",
    "#print(data.head(3))\n",
    "print(round(data['defective_pixel'].mean(), 2))\n",
    "statistics, pvalue = ttest_1samp(data['defective_pixel'], 5, alternative='less')\n",
    "print(round(statistics, 4))\n",
    "print(round(pvalue, 4))\n",
    "print('기각' if pvalue < 0.05 else '채택')"
   ]
  },
  {
   "cell_type": "markdown",
   "metadata": {
    "id": "L9R1giT3oudo"
   },
   "source": [
    "#### 3-6.작업3유형 예시문제\n",
    "주어진 데이터(data_02/blood_pressure.csv)에는 고혈압 환자 120명의 치료 전후의 혈압이 저장되어 있다. 해당 치료가 효과가 있는지 (즉, 치료 후의 혈압이 감소했는지) 쌍체표본 t-검정(paired t-test)를 통해 답하고자 한다. 가설은 아래와 같다\n",
    "- 𝑯_𝟎  : 𝝁_𝒅≥𝟎, 𝑯_𝟏  : 𝝁_𝒅<𝟎  (𝝁_𝒅 : 치료 후 혈압 – 치료 전 혈압)의 평균\n",
    "- bp_before : 치료 전 혈압, bp_after : 치료 후 혈압\n",
    "- (a) ud의 표본 평균을 구하시오 (반올림하여 소수 둘째자리까지 계산)\n",
    "- (b) 위의 가설을 검정하기 위한 검정통계량을 입력하시오.(반올림하여 소수 넷째자리까지 계산)\n",
    "- (c) 위의 통계량에 대한 p-값을 구하여 입력하시오. (반올림하여 소수 넷째자리까지 계산)\n",
    "- (d) 유의수준 0.05 하에서 가설검정의 결과를 (채택/기각) 중 하나를 선택하여 입력하시오.\n"
   ]
  },
  {
   "cell_type": "code",
   "execution_count": 70,
   "metadata": {
    "colab": {
     "base_uri": "https://localhost:8080/"
    },
    "id": "05SNZ_Lko82v",
    "outputId": "b2d3bb8b-f633-4345-fe89-615e2d0ea26f"
   },
   "outputs": [
    {
     "name": "stdout",
     "output_type": "stream",
     "text": [
      "-5.09\n",
      "-3.3372\n",
      "0.0006\n",
      "기각\n"
     ]
    }
   ],
   "source": [
    "import pandas as pd\n",
    "from scipy.stats import ttest_rel\n",
    "\n",
    "# 귀무가설: 치료 후 혈압과 치료 전 혈압의 차가 0보다 크거나 같다.\n",
    "# 대립가설: 치료 후 혈압과 치료 전 혈압의 차가 0보다 작다\n",
    "# 귀무가설: 치료 후 혈압이 치료 전 혈압보다 크거나 같다.\n",
    "# 대립가설: 치료 후 혈압이 치료 전 혈압보다 작다\n",
    "data = pd.read_csv('data_02/blood_pressure.csv')\n",
    "#print(data.shape)\n",
    "#print(data.head(3))\n",
    "data['ud'] = data['bp_after'] - data['bp_before']\n",
    "print(round(data['ud'].mean(), 2))  # -5.09\n",
    "statistic, pvalue = ttest_rel(data['bp_after'], data['bp_before'], \n",
    "                              alternative='less')\n",
    "print(round(statistic, 4))  # -3.3372\n",
    "print(round(pvalue, 4))\n",
    "print('기각' if pvalue < 0.05 else '채택')"
   ]
  },
  {
   "cell_type": "markdown",
   "metadata": {
    "id": "mQgLG3DE9DqM"
   },
   "source": [
    "### 4.ANOVA(분산 분석)\n",
    "- t-test는 1개 또는 2개의 집단에 대해 평균 검정\n",
    "- 독립변수 – 범주형, 종속변수 – 연속형으로 하는, 3개 이상의 집단 평균을 비교하는 모수 추론 방법\n",
    "- \"집단간분산\" /\"집단내분산\"    기반의 F 분포를 이용해 가설을 검정하며 정규성, 등분산성, 독립성을 가정함\n",
    "- \"집단 간 분산\"과 \"집단 내 분산\"을 이용해 분석하는 방법이어서 \"분산분석\"이라고 함\n",
    "- 귀무가설 기각 시 구체적인 차이를 파악하기 위해, 사후 검정(Post Hoc test)이 필요함\n",
    "- 등분산/동일 크기 표본 - Tukey검정, 등분산/다른 크기 표본 – Scheff 검정, Fisher’s LSD 검정 등이 있음\n"
   ]
  },
  {
   "cell_type": "code",
   "execution_count": 5,
   "metadata": {
    "id": "hmmbxRCLuseB"
   },
   "outputs": [],
   "source": [
    "#출처 : https://partrita.github.io/posts/ANOVA-python/\n",
    "#https://github.com/thomas-haslwanter/statsintro_python/blob/master/ipynb/8_anovaOneway.ipynb\n",
    "#https://ggbaker.ca/data-science/content/stats-tests.html    \n",
    "#https://lunch-box.tistory.com/76?category=873052"
   ]
  },
  {
   "cell_type": "markdown",
   "metadata": {
    "id": "ktJVnUfnuseD"
   },
   "source": [
    "#### 4-1.분산의 중요성\n",
    "- 평균값은 동일하지만 분산 값이 다름으로 인해 전체적인 데이터의 모습이 완전히 달라 보임\n",
    "- 분산이 클수록 집단의 평균값의 차이가 무의미해진다\n",
    "- **집단간 평균값의 분산이 클수록, 집단내 분산이 작아질 수록 평균의 차이가 분명해진다.**\n"
   ]
  },
  {
   "cell_type": "code",
   "execution_count": 6,
   "metadata": {
    "id": "tqaEbxDnuseC"
   },
   "outputs": [],
   "source": [
    "from scipy.stats import norm\n",
    "import pandas as pd\n",
    "import matplotlib.pyplot as plt\n",
    "import numpy as np\n",
    "\n",
    "def draw_graph(std):\n",
    "    centers = [5, 5.3, 4.5]\n",
    "    colors = 'brg'\n",
    "    size = 100\n",
    "    plt.figure(figsize=(4,3))\n",
    "    for i in range(3):\n",
    "        x = norm(centers[i], std).rvs(size)  \n",
    "        y = np.arange(size) + i*size     \n",
    "        plt.plot(x, y, '.', color=colors[i])\n",
    "    plt.show() "
   ]
  },
  {
   "cell_type": "code",
   "execution_count": 7,
   "metadata": {
    "colab": {
     "base_uri": "https://localhost:8080/",
     "height": 291
    },
    "id": "aOlshwop6xM7",
    "outputId": "ce81d50a-33b4-4412-d518-36f99092879f"
   },
   "outputs": [
    {
     "data": {
      "image/png": "[encoded data removed]",
      "text/plain": [
       "<Figure size 288x216 with 1 Axes>"
      ]
     },
     "metadata": {
      "needs_background": "light"
     },
     "output_type": "display_data"
    }
   ],
   "source": [
    "draw_graph(std=0.1)"
   ]
  },
  {
   "cell_type": "code",
   "execution_count": 8,
   "metadata": {
    "colab": {
     "base_uri": "https://localhost:8080/",
     "height": 291
    },
    "id": "ufztcNxHuseD",
    "outputId": "6064b774-f8fe-44a1-c79f-6c54df963811"
   },
   "outputs": [
    {
     "data": {
      "image/png": "[encoded data removed]",
      "text/plain": [
       "<Figure size 288x216 with 1 Axes>"
      ]
     },
     "metadata": {
      "needs_background": "light"
     },
     "output_type": "display_data"
    }
   ],
   "source": [
    "draw_graph(std=1)"
   ]
  },
  {
   "cell_type": "markdown",
   "metadata": {
    "id": "OkhMN0ZjuseF"
   },
   "source": [
    "#### 4-2.일원분산분석(One-way ANOVA)\n",
    "- 독립변수 : 범주형 1개, 종속변수 : 연속형\n",
    "- 독립변수의 변화가 종속변수에 미치는 영향을 보기 위해 사용\n",
    "- 가정 : 독립성, 정규성, 등분산성\n",
    "- scipy.stats이나 statsmodel 라이브러리를 이용"
   ]
  },
  {
   "cell_type": "markdown",
   "metadata": {
    "id": "Gzwipc4fuseF"
   },
   "source": [
    "### 예시 데이터 설명\n",
    "- iris의 target이 0 : 'setosa', 1 : 'versicolor', 2: 'virginica' 품종\n",
    "- 독립변수 :'sepal length (cm)', 'sepal width (cm)', 'petal length (cm)', 'petal width (cm)'   \n",
    "- 품종별 sepal, petal의 length, width가 차이를 보일까?에 anova 사용"
   ]
  },
  {
   "cell_type": "code",
   "execution_count": 26,
   "metadata": {
    "colab": {
     "base_uri": "https://localhost:8080/"
    },
    "id": "2YU8-q5bsMu7",
    "outputId": "5b17e09d-5eac-4cb6-8b41-6eacfc8d6550"
   },
   "outputs": [],
   "source": [
    "# [1] 데이터 가져오기\n",
    "import pandas as pd\n",
    "iris = pd.read_csv('bigdata/iris_data.csv')"
   ]
  },
  {
   "cell_type": "code",
   "execution_count": 29,
   "metadata": {
    "colab": {
     "base_uri": "https://localhost:8080/"
    },
    "id": "wD8EYCm20Ktu",
    "outputId": "3a51fac2-ecf7-47ce-cadf-ffa4db97c19e"
   },
   "outputs": [],
   "source": [
    "# [2-2] 특정 변수에 대한 품종별 평균 확인\n",
    "feature = 'sepal_width'"
   ]
  },
  {
   "cell_type": "markdown",
   "metadata": {
    "id": "9PYHyDbNuseG"
   },
   "source": [
    "- group 0, 1, 2의 평균의 차이가 있습니다\n",
    "- 평균값의 차이가 실제로 의미가 있는 차이인지 알고 싶다면, 분산 분석을 통해 통계적 유의성을 알아 볼 수 있습니다."
   ]
  },
  {
   "cell_type": "code",
   "execution_count": 30,
   "metadata": {
    "colab": {
     "base_uri": "https://localhost:8080/"
    },
    "id": "Qmw9rkKBPUum",
    "outputId": "344b70b8-8f28-4a94-b7b7-854b95bc720a"
   },
   "outputs": [
    {
     "ename": "KeyError",
     "evalue": "'Column not found: sepal_width'",
     "output_type": "error",
     "traceback": [
      "\u001b[1;31m---------------------------------------------------------------------------\u001b[0m",
      "\u001b[1;31mKeyError\u001b[0m                                  Traceback (most recent call last)",
      "Input \u001b[1;32mIn [30]\u001b[0m, in \u001b[0;36m<cell line: 1>\u001b[1;34m()\u001b[0m\n\u001b[1;32m----> 1\u001b[0m \u001b[38;5;28;01mfor\u001b[39;00m x \u001b[38;5;129;01min\u001b[39;00m \u001b[43miris\u001b[49m\u001b[38;5;241;43m.\u001b[39;49m\u001b[43mgroupby\u001b[49m\u001b[43m(\u001b[49m\u001b[38;5;124;43m'\u001b[39;49m\u001b[38;5;124;43mtarget\u001b[39;49m\u001b[38;5;124;43m'\u001b[39;49m\u001b[43m)\u001b[49m\u001b[43m[\u001b[49m\u001b[43mfeature\u001b[49m\u001b[43m]\u001b[49m:\n\u001b[0;32m      2\u001b[0m     \u001b[38;5;28mprint\u001b[39m(x[\u001b[38;5;241m0\u001b[39m], x[\u001b[38;5;241m1\u001b[39m]\u001b[38;5;241m.\u001b[39mvalues)\n",
      "File \u001b[1;32m~\\anaconda3\\lib\\site-packages\\pandas\\core\\groupby\\generic.py:1338\u001b[0m, in \u001b[0;36mDataFrameGroupBy.__getitem__\u001b[1;34m(self, key)\u001b[0m\n\u001b[0;32m   1329\u001b[0m \u001b[38;5;28;01mif\u001b[39;00m \u001b[38;5;28misinstance\u001b[39m(key, \u001b[38;5;28mtuple\u001b[39m) \u001b[38;5;129;01mand\u001b[39;00m \u001b[38;5;28mlen\u001b[39m(key) \u001b[38;5;241m>\u001b[39m \u001b[38;5;241m1\u001b[39m:\n\u001b[0;32m   1330\u001b[0m     \u001b[38;5;66;03m# if len == 1, then it becomes a SeriesGroupBy and this is actually\u001b[39;00m\n\u001b[0;32m   1331\u001b[0m     \u001b[38;5;66;03m# valid syntax, so don't raise warning\u001b[39;00m\n\u001b[0;32m   1332\u001b[0m     warnings\u001b[38;5;241m.\u001b[39mwarn(\n\u001b[0;32m   1333\u001b[0m         \u001b[38;5;124m\"\u001b[39m\u001b[38;5;124mIndexing with multiple keys (implicitly converted to a tuple \u001b[39m\u001b[38;5;124m\"\u001b[39m\n\u001b[0;32m   1334\u001b[0m         \u001b[38;5;124m\"\u001b[39m\u001b[38;5;124mof keys) will be deprecated, use a list instead.\u001b[39m\u001b[38;5;124m\"\u001b[39m,\n\u001b[0;32m   1335\u001b[0m         \u001b[38;5;167;01mFutureWarning\u001b[39;00m,\n\u001b[0;32m   1336\u001b[0m         stacklevel\u001b[38;5;241m=\u001b[39mfind_stack_level(),\n\u001b[0;32m   1337\u001b[0m     )\n\u001b[1;32m-> 1338\u001b[0m \u001b[38;5;28;01mreturn\u001b[39;00m \u001b[38;5;28;43msuper\u001b[39;49m\u001b[43m(\u001b[49m\u001b[43m)\u001b[49m\u001b[38;5;241;43m.\u001b[39;49m\u001b[38;5;21;43m__getitem__\u001b[39;49m\u001b[43m(\u001b[49m\u001b[43mkey\u001b[49m\u001b[43m)\u001b[49m\n",
      "File \u001b[1;32m~\\anaconda3\\lib\\site-packages\\pandas\\core\\base.py:250\u001b[0m, in \u001b[0;36mSelectionMixin.__getitem__\u001b[1;34m(self, key)\u001b[0m\n\u001b[0;32m    248\u001b[0m \u001b[38;5;28;01melse\u001b[39;00m:\n\u001b[0;32m    249\u001b[0m     \u001b[38;5;28;01mif\u001b[39;00m key \u001b[38;5;129;01mnot\u001b[39;00m \u001b[38;5;129;01min\u001b[39;00m \u001b[38;5;28mself\u001b[39m\u001b[38;5;241m.\u001b[39mobj:\n\u001b[1;32m--> 250\u001b[0m         \u001b[38;5;28;01mraise\u001b[39;00m \u001b[38;5;167;01mKeyError\u001b[39;00m(\u001b[38;5;124mf\u001b[39m\u001b[38;5;124m\"\u001b[39m\u001b[38;5;124mColumn not found: \u001b[39m\u001b[38;5;132;01m{\u001b[39;00mkey\u001b[38;5;132;01m}\u001b[39;00m\u001b[38;5;124m\"\u001b[39m)\n\u001b[0;32m    251\u001b[0m     subset \u001b[38;5;241m=\u001b[39m \u001b[38;5;28mself\u001b[39m\u001b[38;5;241m.\u001b[39mobj[key]\n\u001b[0;32m    252\u001b[0m     ndim \u001b[38;5;241m=\u001b[39m subset\u001b[38;5;241m.\u001b[39mndim\n",
      "\u001b[1;31mKeyError\u001b[0m: 'Column not found: sepal_width'"
     ]
    }
   ],
   "source": [
    "for x in iris.groupby('target')[feature]:\n",
    "    print(x[0], x[1].values)"
   ]
  },
  {
   "cell_type": "code",
   "execution_count": 32,
   "metadata": {
    "colab": {
     "base_uri": "https://localhost:8080/",
     "height": 295
    },
    "id": "74fdfpIvza_-",
    "outputId": "c9b14e1c-f453-4163-f168-8d5aabc57c8f"
   },
   "outputs": [
    {
     "ename": "KeyError",
     "evalue": "'Column not found: sepal_width'",
     "output_type": "error",
     "traceback": [
      "\u001b[1;31m---------------------------------------------------------------------------\u001b[0m",
      "\u001b[1;31mKeyError\u001b[0m                                  Traceback (most recent call last)",
      "Input \u001b[1;32mIn [32]\u001b[0m, in \u001b[0;36m<cell line: 2>\u001b[1;34m()\u001b[0m\n\u001b[0;32m      1\u001b[0m \u001b[38;5;66;03m# [3] 그룹 추출 및 그래프로 확인\u001b[39;00m\n\u001b[1;32m----> 2\u001b[0m data \u001b[38;5;241m=\u001b[39m [x[\u001b[38;5;241m1\u001b[39m]\u001b[38;5;241m.\u001b[39mvalues \u001b[38;5;28;01mfor\u001b[39;00m x \u001b[38;5;129;01min\u001b[39;00m \u001b[43miris\u001b[49m\u001b[38;5;241;43m.\u001b[39;49m\u001b[43mgroupby\u001b[49m\u001b[43m(\u001b[49m\u001b[38;5;124;43m'\u001b[39;49m\u001b[38;5;124;43mtarget\u001b[39;49m\u001b[38;5;124;43m'\u001b[39;49m\u001b[43m)\u001b[49m\u001b[43m[\u001b[49m\u001b[38;5;124;43m'\u001b[39;49m\u001b[38;5;124;43msepal_width\u001b[39;49m\u001b[38;5;124;43m'\u001b[39;49m\u001b[43m]\u001b[49m]\n",
      "File \u001b[1;32m~\\anaconda3\\lib\\site-packages\\pandas\\core\\groupby\\generic.py:1338\u001b[0m, in \u001b[0;36mDataFrameGroupBy.__getitem__\u001b[1;34m(self, key)\u001b[0m\n\u001b[0;32m   1329\u001b[0m \u001b[38;5;28;01mif\u001b[39;00m \u001b[38;5;28misinstance\u001b[39m(key, \u001b[38;5;28mtuple\u001b[39m) \u001b[38;5;129;01mand\u001b[39;00m \u001b[38;5;28mlen\u001b[39m(key) \u001b[38;5;241m>\u001b[39m \u001b[38;5;241m1\u001b[39m:\n\u001b[0;32m   1330\u001b[0m     \u001b[38;5;66;03m# if len == 1, then it becomes a SeriesGroupBy and this is actually\u001b[39;00m\n\u001b[0;32m   1331\u001b[0m     \u001b[38;5;66;03m# valid syntax, so don't raise warning\u001b[39;00m\n\u001b[0;32m   1332\u001b[0m     warnings\u001b[38;5;241m.\u001b[39mwarn(\n\u001b[0;32m   1333\u001b[0m         \u001b[38;5;124m\"\u001b[39m\u001b[38;5;124mIndexing with multiple keys (implicitly converted to a tuple \u001b[39m\u001b[38;5;124m\"\u001b[39m\n\u001b[0;32m   1334\u001b[0m         \u001b[38;5;124m\"\u001b[39m\u001b[38;5;124mof keys) will be deprecated, use a list instead.\u001b[39m\u001b[38;5;124m\"\u001b[39m,\n\u001b[0;32m   1335\u001b[0m         \u001b[38;5;167;01mFutureWarning\u001b[39;00m,\n\u001b[0;32m   1336\u001b[0m         stacklevel\u001b[38;5;241m=\u001b[39mfind_stack_level(),\n\u001b[0;32m   1337\u001b[0m     )\n\u001b[1;32m-> 1338\u001b[0m \u001b[38;5;28;01mreturn\u001b[39;00m \u001b[38;5;28;43msuper\u001b[39;49m\u001b[43m(\u001b[49m\u001b[43m)\u001b[49m\u001b[38;5;241;43m.\u001b[39;49m\u001b[38;5;21;43m__getitem__\u001b[39;49m\u001b[43m(\u001b[49m\u001b[43mkey\u001b[49m\u001b[43m)\u001b[49m\n",
      "File \u001b[1;32m~\\anaconda3\\lib\\site-packages\\pandas\\core\\base.py:250\u001b[0m, in \u001b[0;36mSelectionMixin.__getitem__\u001b[1;34m(self, key)\u001b[0m\n\u001b[0;32m    248\u001b[0m \u001b[38;5;28;01melse\u001b[39;00m:\n\u001b[0;32m    249\u001b[0m     \u001b[38;5;28;01mif\u001b[39;00m key \u001b[38;5;129;01mnot\u001b[39;00m \u001b[38;5;129;01min\u001b[39;00m \u001b[38;5;28mself\u001b[39m\u001b[38;5;241m.\u001b[39mobj:\n\u001b[1;32m--> 250\u001b[0m         \u001b[38;5;28;01mraise\u001b[39;00m \u001b[38;5;167;01mKeyError\u001b[39;00m(\u001b[38;5;124mf\u001b[39m\u001b[38;5;124m\"\u001b[39m\u001b[38;5;124mColumn not found: \u001b[39m\u001b[38;5;132;01m{\u001b[39;00mkey\u001b[38;5;132;01m}\u001b[39;00m\u001b[38;5;124m\"\u001b[39m)\n\u001b[0;32m    251\u001b[0m     subset \u001b[38;5;241m=\u001b[39m \u001b[38;5;28mself\u001b[39m\u001b[38;5;241m.\u001b[39mobj[key]\n\u001b[0;32m    252\u001b[0m     ndim \u001b[38;5;241m=\u001b[39m subset\u001b[38;5;241m.\u001b[39mndim\n",
      "\u001b[1;31mKeyError\u001b[0m: 'Column not found: sepal_width'"
     ]
    }
   ],
   "source": [
    "# [3] 그룹 추출 및 그래프로 확인\n",
    "data = [x[1].values for x in iris.groupby('target')['sepal_width']]"
   ]
  },
  {
   "cell_type": "markdown",
   "metadata": {
    "id": "B9dxFmZ5useH"
   },
   "source": [
    "Scipy.stats 으로 일원분산분석\n",
    "- https://docs.scipy.org/doc/scipy/reference/generated/scipy.stats.f_oneway.html"
   ]
  },
  {
   "cell_type": "code",
   "execution_count": 31,
   "metadata": {
    "colab": {
     "base_uri": "https://localhost:8080/"
    },
    "id": "jedFIUU3useH",
    "outputId": "a9e6ac1f-59b4-48d2-af93-8a743121fe77"
   },
   "outputs": [
    {
     "ename": "NameError",
     "evalue": "name 'data' is not defined",
     "output_type": "error",
     "traceback": [
      "\u001b[1;31m---------------------------------------------------------------------------\u001b[0m",
      "\u001b[1;31mNameError\u001b[0m                                 Traceback (most recent call last)",
      "Input \u001b[1;32mIn [31]\u001b[0m, in \u001b[0;36m<cell line: 3>\u001b[1;34m()\u001b[0m\n\u001b[0;32m      1\u001b[0m \u001b[38;5;66;03m# [6] 일원분산분석 - 1\u001b[39;00m\n\u001b[0;32m      2\u001b[0m \u001b[38;5;28;01mfrom\u001b[39;00m \u001b[38;5;21;01mscipy\u001b[39;00m\u001b[38;5;21;01m.\u001b[39;00m\u001b[38;5;21;01mstats\u001b[39;00m \u001b[38;5;28;01mimport\u001b[39;00m f_oneway\n\u001b[1;32m----> 3\u001b[0m f_oneway(\u001b[38;5;241m*\u001b[39m\u001b[43mdata\u001b[49m)\n",
      "\u001b[1;31mNameError\u001b[0m: name 'data' is not defined"
     ]
    }
   ],
   "source": [
    "# [6] 일원분산분석 - 1\n",
    "from scipy.stats import f_oneway\n",
    "f_oneway(*data)"
   ]
  },
  {
   "cell_type": "markdown",
   "metadata": {
    "id": "Kppp46BClxl7"
   },
   "source": [
    "pandas 와 statsmodels 를 사용한 일원분산분석\n",
    "- https://www.statsmodels.org/dev/generated/statsmodels.formula.api.ols.html\n",
    "- https://www.statsmodels.org/stable/generated/statsmodels.stats.anova.anova_lm.html "
   ]
  },
  {
   "cell_type": "markdown",
   "metadata": {
    "id": "IJbGrpkfZKzY"
   },
   "source": [
    "ols (ordinary least squares) 모델 \n",
    "- 구하려는 해와 실제의 오차의 제곱의 합이 최소가 되는 해를 구하는 방법\n",
    "\n",
    "'value ~ C(treatment)' : '종속변수 ~ C(독립변수)'\n",
    "- value : 종속변수\n",
    "- treatment : 범주형(C)인 독립변수\n",
    "- df : degree of freedom\n",
    "- C(treatment)의 df : 그룹의 수 - 1\n",
    "- Residual의 df : 전체 데이터 수 - 그룹의 수"
   ]
  },
  {
   "cell_type": "code",
   "execution_count": null,
   "metadata": {
    "colab": {
     "base_uri": "https://localhost:8080/"
    },
    "id": "eUT6XN6c4jCd",
    "outputId": "3ae36394-8eb8-4589-9e66-892f78a903f7"
   },
   "outputs": [
    {
     "name": "stdout",
     "output_type": "stream",
     "text": [
      "              df     sum_sq   mean_sq         F        PR(>F)\n",
      "C(target)    2.0  11.344933  5.672467  49.16004  4.492017e-17\n",
      "Residual   147.0  16.962000  0.115388       NaN           NaN\n"
     ]
    }
   ],
   "source": [
    "# [7] 일원분산분석 - 2\n",
    "import statsmodels.api as sm\n",
    "from statsmodels.formula.api import ols\n",
    "\n",
    "data = iris[['target', 'sepal_width']]\n",
    "lm = ols('sepal_width ~ C(target)', data).fit()\n",
    "result = sm.stats.anova_lm(lm)\n",
    "print(result)"
   ]
  },
  {
   "cell_type": "code",
   "execution_count": null,
   "metadata": {
    "id": "dGafJOHkn14e"
   },
   "outputs": [],
   "source": [
    "# C(target)의 PR(=p-value) 값이 0.05 보다 작으므로 그룹의 \n",
    "# 평균값이 통계적으로 유의미하게 차이가 있음"
   ]
  },
  {
   "cell_type": "code",
   "execution_count": null,
   "metadata": {
    "id": "W-6C14168foO"
   },
   "outputs": [],
   "source": [
    "# 구체적으로 어떤 집단이 차이가 있는지 확인하려면 \n",
    "# 사후분석(post hoc tests)를 해야함\n",
    "# 유의미한 차이가 없는 경우는 사후분석할 필요가 없음"
   ]
  },
  {
   "cell_type": "markdown",
   "metadata": {
    "id": "mYH2Zb3fXphL"
   },
   "source": [
    "사후검정(Post Hoc Analysis)\n",
    "- ANOVA 분석의 문제 : 다르다는 것은 알지만, 어떤 집단간의 차이가 있는지는 알 수 없음\n",
    "- 사후검정을 통해 어떤 것에 차이가 있는지 찾을 수 있음\n",
    "- post hoc은 라틴어로 \"after this\"의 뜻\n",
    "- 사후검정의 종류\n",
    "    - Tukey's HSD (Honest Significant Difference) test : 정규분포, 등분산, 동일 표본 크기에서 가장 많이 사용\n",
    "    - Duncan’s new multiple range test (MRT) : 정규분포, 등분산, 동일 표본 크기에서 사용, 엄격하지 않은 기준으로 통계적 유의성을 도출하기 쉬움\n",
    "    - Scheffé’s Method : 가장 보수적이고 엄격한 사후검정방식 (동일하지 않은 표본 크기)\n",
    "- 민감도(sensitivity)로 구분 : Scheffe < Tukey < Duncan\n",
    "- Duncan의 방법은 작은 차이에도 차이가 난다라고 하지만, Scheffe의 방법은 확실한 차이가 나야만 비로소 차이가 있다라고 판단함\n"
   ]
  },
  {
   "cell_type": "markdown",
   "metadata": {
    "id": "tEZJ7bPRb80Y"
   },
   "source": [
    "Tukey test\n",
    "- statsmodels의 Tukey test를 하기 위해서는 DataFrame의 형태를 변경해야 함\n",
    "- 하나의 컬럼은 분류할수 있는 이름(label)을 다른 컬럼은 실험값(values)를 가지고 있는 형태이어야 함"
   ]
  },
  {
   "cell_type": "markdown",
   "metadata": {
    "id": "ji4HUy4ceqZL"
   },
   "source": [
    "[참고] scheffe : https://eunholand.tistory.com/96"
   ]
  },
  {
   "cell_type": "code",
   "execution_count": null,
   "metadata": {
    "colab": {
     "base_uri": "https://localhost:8080/"
    },
    "id": "e965NtRWXXG5",
    "outputId": "2f106e98-9465-4d3e-fa20-cf462362e8a6"
   },
   "outputs": [
    {
     "name": "stdout",
     "output_type": "stream",
     "text": [
      "Multiple Comparison of Means - Tukey HSD, FWER=0.05 \n",
      "====================================================\n",
      "group1 group2 meandiff p-adj   lower   upper  reject\n",
      "----------------------------------------------------\n",
      "     0      1   -0.658    0.0 -0.8189 -0.4971   True\n",
      "     0      2   -0.454    0.0 -0.6149 -0.2931   True\n",
      "     1      2    0.204 0.0088  0.0431  0.3649   True\n",
      "----------------------------------------------------\n"
     ]
    }
   ],
   "source": [
    "# [7] 사후 검정\n",
    "from statsmodels.stats.multicomp import pairwise_tukeyhsd\n",
    "posthoc = pairwise_tukeyhsd(iris.sepal_width, iris.target, alpha=0.05)\n",
    "print(posthoc)"
   ]
  },
  {
   "cell_type": "code",
   "execution_count": null,
   "metadata": {
    "id": "8-IuMBmaYvXU"
   },
   "outputs": [],
   "source": [
    "# 결과를 보면 모든 그룹에서 통계적인 유의미성(P-value < 0.05)을 가질 수 있는것을 확인 할 수 있음"
   ]
  },
  {
   "cell_type": "code",
   "execution_count": null,
   "metadata": {
    "colab": {
     "base_uri": "https://localhost:8080/",
     "height": 545
    },
    "id": "TVARqg9ECc-Z",
    "outputId": "3da33671-907c-49ae-f6d4-bfab78fc45b8"
   },
   "outputs": [
    {
     "data": {
      "image/png": "[encoded data removed]",
      "text/plain": [
       "<Figure size 1000x600 with 1 Axes>"
      ]
     },
     "metadata": {},
     "output_type": "display_data"
    }
   ],
   "source": [
    "# [8] 그림으로 확인하기\n",
    "fig = posthoc.plot_simultaneous()"
   ]
  },
  {
   "cell_type": "code",
   "execution_count": null,
   "metadata": {
    "colab": {
     "base_uri": "https://localhost:8080/",
     "height": 390
    },
    "id": "3_FdrKC-Y51E",
    "outputId": "d44986b1-a8c8-4224-edf3-bbddd99010fa"
   },
   "outputs": [
    {
     "data": {
      "image/png": "[encoded data removed]",
      "text/plain": [
       "<Figure size 720x432 with 1 Axes>"
      ]
     },
     "metadata": {
      "needs_background": "light"
     },
     "output_type": "display_data"
    }
   ],
   "source": [
    "# 통계적 의미 갖지 않는 경우\n",
    "# 그림에서 볼 수 있듯이, 그룹 1.0과 2.0은 서로 겹치지 않는것을 볼 수 있음\n",
    "# 반면,1과 3, 2와 3은 겹치기 때문에 유의미한 차이가 없다고 할 수 있음"
   ]
  },
  {
   "cell_type": "code",
   "execution_count": null,
   "metadata": {
    "id": "zCeIUdOiZAK8"
   },
   "outputs": [],
   "source": [
    "##  23년 5월 31일 오전 - 여기까지"
   ]
  },
  {
   "cell_type": "markdown",
   "metadata": {
    "id": "2aoSFSqfLR8d"
   },
   "source": [
    "아래 부분은 아직 강의 작업을 해야합니당"
   ]
  },
  {
   "cell_type": "code",
   "execution_count": null,
   "metadata": {
    "id": "aPm0cMliLRal"
   },
   "outputs": [],
   "source": []
  },
  {
   "cell_type": "markdown",
   "metadata": {
    "id": "70BQM8ljuseJ"
   },
   "source": [
    "#### 4-3.이원분산분석(Two-way ANOVA)\n",
    "- 독립변인의 수가 두 개일 때 집단 간 차이가 유의한지를 검증하는 데 사용\n",
    "- 상호작용효과(Interaction effect) 즉, 한 변수의 변화가 결과에 미치는 영향이 다른 변수의 수준에 따라 달라지는지를 확인하기 위해 사용됨\n",
    "- scipy.stats이나 statsmodels 라이브러리를 이용"
   ]
  },
  {
   "cell_type": "markdown",
   "metadata": {
    "id": "X_Ecebd0useJ"
   },
   "source": [
    "예제 데이터(altman_12_6) 설명\n",
    "태아의 머리 둘레 측정 데이터입니다. \n",
    "4명의 관측자가 3명의 태아를 대상으로 측정을 했습니다. \n",
    "이를 통해서 초음파로 태아의 머리 둘레측정 데이터가 재현성이 있는지를 조사하였습니다."
   ]
  },
  {
   "cell_type": "code",
   "execution_count": null,
   "metadata": {
    "colab": {
     "base_uri": "https://localhost:8080/",
     "height": 206
    },
    "id": "x9ZPrvEwuseK",
    "outputId": "812574dc-c76c-497b-9177-7c90ed55f53a"
   },
   "outputs": [
    {
     "data": {
      "text/html": [
       "\n",
       "  <div id=\"df-eeaa5fbf-d534-40b2-9ce7-4216905ea120\">\n",
       "    <div class=\"colab-df-container\">\n",
       "      <div>\n",
       "<style scoped>\n",
       "    .dataframe tbody tr th:only-of-type {\n",
       "        vertical-align: middle;\n",
       "    }\n",
       "\n",
       "    .dataframe tbody tr th {\n",
       "        vertical-align: top;\n",
       "    }\n",
       "\n",
       "    .dataframe thead th {\n",
       "        text-align: right;\n",
       "    }\n",
       "</style>\n",
       "<table border=\"1\" class=\"dataframe\">\n",
       "  <thead>\n",
       "    <tr style=\"text-align: right;\">\n",
       "      <th></th>\n",
       "      <th>head_size</th>\n",
       "      <th>fetus</th>\n",
       "      <th>observer</th>\n",
       "    </tr>\n",
       "  </thead>\n",
       "  <tbody>\n",
       "    <tr>\n",
       "      <th>31</th>\n",
       "      <td>12.7</td>\n",
       "      <td>3.0</td>\n",
       "      <td>3.0</td>\n",
       "    </tr>\n",
       "    <tr>\n",
       "      <th>32</th>\n",
       "      <td>12.5</td>\n",
       "      <td>3.0</td>\n",
       "      <td>3.0</td>\n",
       "    </tr>\n",
       "    <tr>\n",
       "      <th>33</th>\n",
       "      <td>13.0</td>\n",
       "      <td>3.0</td>\n",
       "      <td>4.0</td>\n",
       "    </tr>\n",
       "    <tr>\n",
       "      <th>34</th>\n",
       "      <td>12.9</td>\n",
       "      <td>3.0</td>\n",
       "      <td>4.0</td>\n",
       "    </tr>\n",
       "    <tr>\n",
       "      <th>35</th>\n",
       "      <td>13.8</td>\n",
       "      <td>3.0</td>\n",
       "      <td>4.0</td>\n",
       "    </tr>\n",
       "  </tbody>\n",
       "</table>\n",
       "</div>\n",
       "      <button class=\"colab-df-convert\" onclick=\"convertToInteractive('df-eeaa5fbf-d534-40b2-9ce7-4216905ea120')\"\n",
       "              title=\"Convert this dataframe to an interactive table.\"\n",
       "              style=\"display:none;\">\n",
       "        \n",
       "  <svg xmlns=\"http://www.w3.org/2000/svg\" height=\"24px\"viewBox=\"0 0 24 24\"\n",
       "       width=\"24px\">\n",
       "    <path d=\"M0 0h24v24H0V0z\" fill=\"none\"/>\n",
       "    <path d=\"M18.56 5.44l.94 2.06.94-2.06 2.06-.94-2.06-.94-.94-2.06-.94 2.06-2.06.94zm-11 1L8.5 8.5l.94-2.06 2.06-.94-2.06-.94L8.5 2.5l-.94 2.06-2.06.94zm10 10l.94 2.06.94-2.06 2.06-.94-2.06-.94-.94-2.06-.94 2.06-2.06.94z\"/><path d=\"M17.41 7.96l-1.37-1.37c-.4-.4-.92-.59-1.43-.59-.52 0-1.04.2-1.43.59L10.3 9.45l-7.72 7.72c-.78.78-.78 2.05 0 2.83L4 21.41c.39.39.9.59 1.41.59.51 0 1.02-.2 1.41-.59l7.78-7.78 2.81-2.81c.8-.78.8-2.07 0-2.86zM5.41 20L4 18.59l7.72-7.72 1.47 1.35L5.41 20z\"/>\n",
       "  </svg>\n",
       "      </button>\n",
       "      \n",
       "  <style>\n",
       "    .colab-df-container {\n",
       "      display:flex;\n",
       "      flex-wrap:wrap;\n",
       "      gap: 12px;\n",
       "    }\n",
       "\n",
       "    .colab-df-convert {\n",
       "      background-color: #E8F0FE;\n",
       "      border: none;\n",
       "      border-radius: 50%;\n",
       "      cursor: pointer;\n",
       "      display: none;\n",
       "      fill: #1967D2;\n",
       "      height: 32px;\n",
       "      padding: 0 0 0 0;\n",
       "      width: 32px;\n",
       "    }\n",
       "\n",
       "    .colab-df-convert:hover {\n",
       "      background-color: #E2EBFA;\n",
       "      box-shadow: 0px 1px 2px rgba(60, 64, 67, 0.3), 0px 1px 3px 1px rgba(60, 64, 67, 0.15);\n",
       "      fill: #174EA6;\n",
       "    }\n",
       "\n",
       "    [theme=dark] .colab-df-convert {\n",
       "      background-color: #3B4455;\n",
       "      fill: #D2E3FC;\n",
       "    }\n",
       "\n",
       "    [theme=dark] .colab-df-convert:hover {\n",
       "      background-color: #434B5C;\n",
       "      box-shadow: 0px 1px 3px 1px rgba(0, 0, 0, 0.15);\n",
       "      filter: drop-shadow(0px 1px 2px rgba(0, 0, 0, 0.3));\n",
       "      fill: #FFFFFF;\n",
       "    }\n",
       "  </style>\n",
       "\n",
       "      <script>\n",
       "        const buttonEl =\n",
       "          document.querySelector('#df-eeaa5fbf-d534-40b2-9ce7-4216905ea120 button.colab-df-convert');\n",
       "        buttonEl.style.display =\n",
       "          google.colab.kernel.accessAllowed ? 'block' : 'none';\n",
       "\n",
       "        async function convertToInteractive(key) {\n",
       "          const element = document.querySelector('#df-eeaa5fbf-d534-40b2-9ce7-4216905ea120');\n",
       "          const dataTable =\n",
       "            await google.colab.kernel.invokeFunction('convertToInteractive',\n",
       "                                                     [key], {});\n",
       "          if (!dataTable) return;\n",
       "\n",
       "          const docLinkHtml = 'Like what you see? Visit the ' +\n",
       "            '<a target=\"_blank\" href=https://colab.research.google.com/notebooks/data_table.ipynb>data table notebook</a>'\n",
       "            + ' to learn more about interactive tables.';\n",
       "          element.innerHTML = '';\n",
       "          dataTable['output_type'] = 'display_data';\n",
       "          await google.colab.output.renderOutput(dataTable, element);\n",
       "          const docLink = document.createElement('div');\n",
       "          docLink.innerHTML = docLinkHtml;\n",
       "          element.appendChild(docLink);\n",
       "        }\n",
       "      </script>\n",
       "    </div>\n",
       "  </div>\n",
       "  "
      ],
      "text/plain": [
       "    head_size  fetus  observer\n",
       "31       12.7    3.0       3.0\n",
       "32       12.5    3.0       3.0\n",
       "33       13.0    3.0       4.0\n",
       "34       12.9    3.0       4.0\n",
       "35       13.8    3.0       4.0"
      ]
     },
     "execution_count": 40,
     "metadata": {},
     "output_type": "execute_result"
    }
   ],
   "source": [
    "# [1] 데이터 가져오기\n",
    "import pandas as pd\n",
    "data = pd.read_csv('data_02/altman.csv')\n",
    "data.tail()"
   ]
  },
  {
   "cell_type": "code",
   "execution_count": null,
   "metadata": {
    "colab": {
     "base_uri": "https://localhost:8080/"
    },
    "id": "LdKuDEjqkngt",
    "outputId": "56d279a9-27db-4e93-847f-743ba5eb46c7"
   },
   "outputs": [
    {
     "data": {
      "text/plain": [
       "(1.0    12\n",
       " 2.0    12\n",
       " 3.0    12\n",
       " Name: fetus, dtype: int64,\n",
       " 1.0    9\n",
       " 2.0    9\n",
       " 3.0    9\n",
       " 4.0    9\n",
       " Name: observer, dtype: int64)"
      ]
     },
     "execution_count": 42,
     "metadata": {},
     "output_type": "execute_result"
    }
   ],
   "source": [
    "data['fetus'].value_counts(), data['observer'].value_counts()"
   ]
  },
  {
   "cell_type": "code",
   "execution_count": null,
   "metadata": {
    "colab": {
     "base_uri": "https://localhost:8080/",
     "height": 478
    },
    "id": "V8zmnyd-Zd2r",
    "outputId": "ea87d0f8-1128-4240-e550-ab0c1bc2d701"
   },
   "outputs": [
    {
     "data": {
      "image/png": "[encoded data removed]",
      "text/plain": [
       "<Figure size 640x480 with 1 Axes>"
      ]
     },
     "metadata": {},
     "output_type": "display_data"
    }
   ],
   "source": [
    "# [2] 태아별 머리 둘레 plot 만들기\n",
    "import matplotlib.pyplot as plt\n",
    "data.boxplot(column='head_size', by='fetus' , grid=True)\n",
    "plt.title('')\n",
    "plt.show()"
   ]
  },
  {
   "cell_type": "code",
   "execution_count": null,
   "metadata": {
    "colab": {
     "base_uri": "https://localhost:8080/"
    },
    "id": "d5S4vrklZSHS",
    "outputId": "f6178016-3c43-41c1-f158-3f16369078dc"
   },
   "outputs": [
    {
     "data": {
      "text/plain": [
       "fetus\n",
       "1.0    13.991667\n",
       "2.0    19.691667\n",
       "3.0    12.825000\n",
       "Name: head_size, dtype: float64"
      ]
     },
     "execution_count": 43,
     "metadata": {},
     "output_type": "execute_result"
    }
   ],
   "source": [
    "# [3] 태아별 머리 둘레 평균을 구해봅니다\n",
    "data.groupby('fetus')['head_size'].mean()"
   ]
  },
  {
   "cell_type": "code",
   "execution_count": null,
   "metadata": {
    "id": "GkHaYxzKuseK"
   },
   "outputs": [],
   "source": [
    "# 그림에서 태아(fetus) 3명의 머리 둘레는 차이가 있어 보입니다.\n",
    "# 관측자와 태아에 상호작용 효과 여부를 Two way ANOVA를 통해 알아 보겠습니다"
   ]
  },
  {
   "cell_type": "code",
   "execution_count": null,
   "metadata": {
    "id": "rl1xhAS3dg1-"
   },
   "outputs": [],
   "source": [
    "# 귀무가설 : 관측자별 머리둘레 평균은 동일하다\n",
    "# 대립가설 : 관측자별 머리둘레 평균은 동일하지 않다 (차이가 있다)\n",
    "# 귀무가설 : 태아별 머리둘레 평균은 동일하다\n",
    "# 대립가설 : 태아별 머리둘레 평균은 동일하지 않다 (차이가 있다)\n",
    "# 귀무가설 : 머리둘레평균에 대해 측정자와 태아에 상호작용 효과가 없다\n",
    "# 대립가설 : 머리둘레평균에 대해 측정자와 태아에 상호작용 효과가 있다"
   ]
  },
  {
   "cell_type": "code",
   "execution_count": null,
   "metadata": {
    "id": "7q_-fTFSuseK"
   },
   "outputs": [],
   "source": [
    "from statsmodels.formula.api import ols\n",
    "from statsmodels.stats.anova import anova_lm\n",
    "\n"
   ]
  },
  {
   "cell_type": "code",
   "execution_count": null,
   "metadata": {
    "id": "mOXIDzX5useL"
   },
   "outputs": [],
   "source": [
    "# C(fetus):C(observer)의 P-value 가 0.05 이상 입니다, \n",
    "# 따라서 귀무가설을 기각할 수 없고. \n",
    "# 머리둘레평균에 대해 측정자와 태아에 상호작용 효과가 없다\n"
   ]
  }
 ],
 "metadata": {
  "colab": {
   "provenance": []
  },
  "kernelspec": {
   "display_name": "Python 3 (ipykernel)",
   "language": "python",
   "name": "python3"
  },
  "language_info": {
   "codemirror_mode": {
    "name": "ipython",
    "version": 3
   },
   "file_extension": ".py",
   "mimetype": "text/x-python",
   "name": "python",
   "nbconvert_exporter": "python",
   "pygments_lexer": "ipython3",
   "version": "3.9.12"
  }
 },
 "nbformat": 4,
 "nbformat_minor": 1
}
