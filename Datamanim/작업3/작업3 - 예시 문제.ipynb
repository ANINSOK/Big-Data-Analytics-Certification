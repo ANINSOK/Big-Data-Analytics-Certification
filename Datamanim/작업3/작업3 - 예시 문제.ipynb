{
 "cells": [
  {
   "cell_type": "code",
   "execution_count": 3,
   "id": "cdc0ba62",
   "metadata": {},
   "outputs": [
    {
     "name": "stdout",
     "output_type": "stream",
     "text": [
      "1번 문제: -5.09\n",
      "2번 문제: -3.3372\n",
      "3번 문제: 0.0006\n",
      "4번 문제: 기각\n"
     ]
    }
   ],
   "source": [
    "import pandas as pd\n",
    "from scipy.stats import ttest_rel\n",
    "\n",
    "# 귀무가설: 치료 후 혈압과 치료 전 혈압의 차가 0보다 크거나 같다.\n",
    "# 대립가설: 치료 후 혈압과 치료 전 혈압의 차가 0보다 작다\n",
    "# 귀무가설: 치료 후 혈압이 치료 전 혈압보다 크거나 같다.\n",
    "# 대립가설: 치료 후 혈압이 치료 전 혈압보다 작다\n",
    "data = pd.read_csv('data_02/blood_pressure.csv')\n",
    "\n",
    "data['diff'] = data['bp_after'] - data['bp_before']\n",
    "print(\"1번 문제:\", round(data['diff'].mean(), 2))  # -5.09\n",
    "\n",
    "statistic, pvalue = ttest_rel(data['bp_after'], data['bp_before'], alternative='less')\n",
    "print(\"2번 문제:\", round(statistic, 4))  # -3.3372\n",
    "print(\"3번 문제:\", round(pvalue, 4)) #0.0006\n",
    "print(\"4번 문제:\", '기각' if pvalue < 0.05 else '채택')"
   ]
  }
 ],
 "metadata": {
  "kernelspec": {
   "display_name": "Python 3 (ipykernel)",
   "language": "python",
   "name": "python3"
  },
  "language_info": {
   "codemirror_mode": {
    "name": "ipython",
    "version": 3
   },
   "file_extension": ".py",
   "mimetype": "text/x-python",
   "name": "python",
   "nbconvert_exporter": "python",
   "pygments_lexer": "ipython3",
   "version": "3.9.12"
  }
 },
 "nbformat": 4,
 "nbformat_minor": 5
}
