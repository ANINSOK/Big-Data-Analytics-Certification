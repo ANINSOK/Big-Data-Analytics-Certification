{
 "cells": [
  {
   "cell_type": "markdown",
   "metadata": {
    "id": "4lEW-jP2KDlM"
   },
   "source": [
    "### 0.데이터 다운로드 및 라이브러리 모음"
   ]
  },
  {
   "cell_type": "code",
   "execution_count": 1,
   "metadata": {
    "colab": {
     "base_uri": "https://localhost:8080/"
    },
    "id": "doYTmITBewX4",
    "outputId": "8eed5f83-2e65-4e43-9a00-0f1b0e45ef4f"
   },
   "outputs": [
    {
     "name": "stderr",
     "output_type": "stream",
     "text": [
      "Cloning into 'data_02'...\n"
     ]
    }
   ],
   "source": [
    "!git clone https://github.com/Soyoung-Yoon/data_02"
   ]
  },
  {
   "cell_type": "code",
   "execution_count": 2,
   "metadata": {
    "colab": {
     "base_uri": "https://localhost:8080/"
    },
    "id": "JE-m3dQ-KGlN",
    "outputId": "1404983b-becc-4ed6-ad1f-4518d68869d1"
   },
   "outputs": [
    {
     "name": "stderr",
     "output_type": "stream",
     "text": [
      "Cloning into 'bigdata'...\n"
     ]
    }
   ],
   "source": [
    "!git clone https://github.com/Soyoung-Yoon/bigdata"
   ]
  },
  {
   "cell_type": "code",
   "execution_count": 3,
   "metadata": {
    "colab": {
     "base_uri": "https://localhost:8080/",
     "height": 36
    },
    "id": "se4c_tUpMmkp",
    "outputId": "5d802d05-294c-4579-dc54-afa5cffba411"
   },
   "outputs": [
    {
     "data": {
      "text/plain": [
       "'1.7.3'"
      ]
     },
     "execution_count": 3,
     "metadata": {},
     "output_type": "execute_result"
    }
   ],
   "source": [
    "import pandas as pd "
   ]
  },
  {
   "cell_type": "markdown",
   "metadata": {
    "id": "StSuPSMSbbLl"
   },
   "source": [
    "### 확률분포 그리기"
   ]
  },
  {
   "cell_type": "markdown",
   "metadata": {
    "id": "GtNjflpb3GZN"
   },
   "source": [
    "### 1.이산형 확률분포 \n",
    "- Probability Mass Function, PMF, 𝐲=𝒇(𝒙)\n",
    "- 이산 확률 변수에서 특정 값에 대한 확률을 계산하기 위한 함수"
   ]
  },
  {
   "cell_type": "markdown",
   "metadata": {
    "id": "tqQyJ79-bAZB"
   },
   "source": [
    "#### 1-1.기하 분포"
   ]
  },
  {
   "cell_type": "code",
   "execution_count": 6,
   "metadata": {
    "colab": {
     "base_uri": "https://localhost:8080/",
     "height": 314
    },
    "id": "83AwGO7e5mIF",
    "outputId": "91eafabb-9011-497b-a91b-7a9b4a1d37d9"
   },
   "outputs": [],
   "source": [
    "# 확률이 0.1인 기하분포\n",
    "from scipy.stats import geom"
   ]
  },
  {
   "cell_type": "markdown",
   "metadata": {
    "id": "PRoer2Yz47Zh"
   },
   "source": [
    "#### 1-2.초기하 분포"
   ]
  },
  {
   "cell_type": "code",
   "execution_count": 7,
   "metadata": {
    "colab": {
     "base_uri": "https://localhost:8080/",
     "height": 426
    },
    "id": "kow_LOJjHKdJ",
    "outputId": "3941ca47-1afc-43dc-b675-d8bdbda07fdd"
   },
   "outputs": [],
   "source": [
    "# M : 모집단 개수, n : 성공요소의 수, N : 시행횟수(선택 횟수)\n",
    "from scipy.stats import hypergeom"
   ]
  },
  {
   "cell_type": "markdown",
   "metadata": {
    "id": "qFjZuWif3MiE"
   },
   "source": [
    "#### 1-3.포아송 분포"
   ]
  },
  {
   "cell_type": "code",
   "execution_count": 12,
   "metadata": {
    "colab": {
     "base_uri": "https://localhost:8080/",
     "height": 314
    },
    "id": "GDBA8pHp3FKo",
    "outputId": "1cbc8991-7073-4bc9-e37b-9e0a9be20924"
   },
   "outputs": [],
   "source": [
    "# mu = 단위 시간/공간당 평균 발생 횟수\n",
    "from scipy.stats import poisson"
   ]
  },
  {
   "cell_type": "markdown",
   "metadata": {
    "id": "_zYvGOs8mPb-"
   },
   "source": [
    "### 2.연속형 확률분포 객체 생성"
   ]
  },
  {
   "cell_type": "markdown",
   "metadata": {
    "id": "yyQ4wn01FxlS"
   },
   "source": [
    "PDF(Probability Density Function) : 확률 밀도 함수\n",
    "- 연속적인 변수에 의한 확률 분포 함수\n",
    "- 항상 양의 값을 가져야 하며, 모든 범위의 PDF를 합한 값은 1임\n",
    "- f(x) >= 0\n",
    "- 분포내 특정 값에서의 확률은 0, P(X=a) = 0, 정의된 범위 내에서의 확률은 범위내의 pdf 영역 넓이(적분값)가 됨"
   ]
  },
  {
   "cell_type": "markdown",
   "metadata": {
    "id": "KBRfp5qyt5lv"
   },
   "source": [
    "#### 2-1. 표준정규분포"
   ]
  },
  {
   "cell_type": "code",
   "execution_count": 13,
   "metadata": {
    "colab": {
     "base_uri": "https://localhost:8080/",
     "height": 314
    },
    "id": "TXHDkKnqvbNo",
    "outputId": "9de52f1f-1130-4447-f5f5-f13609f7c7f7"
   },
   "outputs": [],
   "source": [
    "# 표준정규분포 객체 생성 및 그래프 그리기\n",
    "from scipy.stats import norm"
   ]
  },
  {
   "cell_type": "markdown",
   "metadata": {
    "id": "eO8obvJLt9W_"
   },
   "source": [
    "#### 2-2. Student t 분포"
   ]
  },
  {
   "cell_type": "code",
   "execution_count": 14,
   "metadata": {
    "colab": {
     "base_uri": "https://localhost:8080/",
     "height": 314
    },
    "id": "L9QLBVbct23j",
    "outputId": "685c7b29-6b34-4ff0-e790-d60142b0775e"
   },
   "outputs": [],
   "source": [
    "# Student t 분포 객체 생성 및 그래프 그리기\n",
    "from scipy.stats import t"
   ]
  },
  {
   "cell_type": "markdown",
   "metadata": {
    "id": "prIpVs-MuC4J"
   },
   "source": [
    "#### 2-3.지수분포\n"
   ]
  },
  {
   "cell_type": "code",
   "execution_count": 15,
   "metadata": {
    "colab": {
     "base_uri": "https://localhost:8080/",
     "height": 314
    },
    "id": "7cQk7pQJv0Pq",
    "outputId": "94ff045c-7625-4340-de62-87ecf786d4f9"
   },
   "outputs": [],
   "source": [
    "# Exponential(지수)분포 객체 생성 및 그래프 그리기\n",
    "from scipy.stats import expon"
   ]
  },
  {
   "cell_type": "markdown",
   "metadata": {
    "id": "pQNizd2PVHNl"
   },
   "source": [
    "#### 2-4.감마분포"
   ]
  },
  {
   "cell_type": "code",
   "execution_count": 17,
   "metadata": {
    "colab": {
     "base_uri": "https://localhost:8080/",
     "height": 314
    },
    "id": "wltUT9kHVKFX",
    "outputId": "92689608-9945-4244-b4f3-59fc3605413c"
   },
   "outputs": [],
   "source": [
    "# Gamma(감마)분포 객체 생성 및 그래프 그리기\n",
    "from scipy.stats import gamma"
   ]
  },
  {
   "cell_type": "markdown",
   "metadata": {
    "id": "I5HLZUO-a6Am"
   },
   "source": [
    "### 3.이산형 확률분포 문제"
   ]
  },
  {
   "cell_type": "markdown",
   "metadata": {
    "id": "wjx_yhTnhX-m"
   },
   "source": [
    "### 3-1.기하분포 활용문제(from scipy.stats import geom)"
   ]
  },
  {
   "cell_type": "markdown",
   "metadata": {
    "id": "GuCoo2PAhbYg"
   },
   "source": [
    "#### 3-1a.이하일 확률\n",
    "- geom(p).cdf(x)\n",
    "- A씨가 계란후라이를 만들 때 노른자를 깨지 않을 확률이 0.2라고 한다. A씨가 적어도 5번 이내에 노른자를 깨지 않을 확률을 구하시오."
   ]
  },
  {
   "cell_type": "code",
   "execution_count": 5,
   "metadata": {
    "colab": {
     "base_uri": "https://localhost:8080/"
    },
    "id": "NWL31smshedS",
    "outputId": "37e60901-e40c-40f8-c2b8-200f077a2305"
   },
   "outputs": [
    {
     "data": {
      "text/plain": [
       "0.67232"
      ]
     },
     "execution_count": 5,
     "metadata": {},
     "output_type": "execute_result"
    }
   ],
   "source": [
    "geom(p=0.2).cdf(5)"
   ]
  },
  {
   "cell_type": "markdown",
   "metadata": {
    "id": "7J1x1NMRj1ra"
   },
   "source": [
    "#### 3-1b.이상일 확률\n",
    "- 1 - geom(p).cdf(x)\n",
    "- 빅데이터분석기사 실기 합격률은 35%라고 한다. 이 시험에 2번 이상 응시해야 자격증 취득에 성공할 확률을 구하시오."
   ]
  },
  {
   "cell_type": "code",
   "execution_count": 3,
   "metadata": {
    "colab": {
     "base_uri": "https://localhost:8080/"
    },
    "id": "HElnRcWwkLmT",
    "outputId": "4c2f41f7-ce52-44b5-aae4-f2019b1dd6b1"
   },
   "outputs": [
    {
     "data": {
      "text/plain": [
       "0.6500000000000001"
      ]
     },
     "execution_count": 3,
     "metadata": {},
     "output_type": "execute_result"
    }
   ],
   "source": [
    "1 - geom(p=0.35).cdf(1)"
   ]
  },
  {
   "cell_type": "markdown",
   "metadata": {
    "id": "YZsd5Zithwg8"
   },
   "source": [
    "#### 3-1c. 특정 횟수일 확률\n",
    "- geom(p).cdf(x) - geom(p).cdf(x-1)\n",
    "- A 야구선수의 홈런 칠 확률이 5%일 때, 이 선수가 4번째 타석에서 홈런 칠 확률을 구하시오."
   ]
  },
  {
   "cell_type": "code",
   "execution_count": 11,
   "metadata": {
    "colab": {
     "base_uri": "https://localhost:8080/"
    },
    "id": "sSAV-meshe-5",
    "outputId": "61b9c523-4abb-48c0-d625-88ec38c70557"
   },
   "outputs": [
    {
     "data": {
      "text/plain": [
       "0.04286875"
      ]
     },
     "execution_count": 11,
     "metadata": {},
     "output_type": "execute_result"
    }
   ],
   "source": [
    "geom(0.05).pmf(4)"
   ]
  },
  {
   "cell_type": "markdown",
   "metadata": {
    "id": "UERuue_HoU_s"
   },
   "source": [
    "### 3-2.초기하분포 활용문제(from scipy.stats import hypergeom)"
   ]
  },
  {
   "cell_type": "markdown",
   "metadata": {
    "id": "ylYPT0-EaEiW"
   },
   "source": [
    "#### 3-2a.이하일 확률\n",
    "- hypergeom(M, n, N).cdf(x)\n",
    "- 어느 회사에서 랜덤박스 선물셋트를 50개 준비했다. 선물셋트에 향수가 포함된 것이 8개 라고 한다. 비복원추출로 선물셋트 4개를 뽑았을 때, 향수가 포함된 선물이 2개 이하로 나올 확률을 구하시오."
   ]
  },
  {
   "cell_type": "code",
   "execution_count": 6,
   "metadata": {
    "colab": {
     "base_uri": "https://localhost:8080/"
    },
    "id": "37zPsd8xZ3WD",
    "outputId": "d26d50f1-6858-4206-cb44-8a6cad4d6fcc"
   },
   "outputs": [
    {
     "data": {
      "text/plain": [
       "0.989483282674773"
      ]
     },
     "execution_count": 6,
     "metadata": {},
     "output_type": "execute_result"
    }
   ],
   "source": [
    "from scipy.stats import hypergeom\n",
    "a, b, c = 50, 8, 4\n",
    "hypergeom(M=a, n=b, N=c).cdf(2)"
   ]
  },
  {
   "cell_type": "markdown",
   "metadata": {
    "id": "8E3evxoMaHVu"
   },
   "source": [
    "#### 3-2b.이상일 확률\n",
    "- 1 - hypergeom(M, n, N).cdf(x)\n",
    "- 짱구엄마가 사과 20개와 배 8를 사왔다. 비복원추출로 사과와 배 5개를 집었을 때 배가 2개 이상일 확률을 구하시오."
   ]
  },
  {
   "cell_type": "code",
   "execution_count": 7,
   "metadata": {
    "colab": {
     "base_uri": "https://localhost:8080/"
    },
    "id": "KLhBI5Wvpocp",
    "outputId": "31bd199a-dfa7-4005-c62a-a299a1af6d43"
   },
   "outputs": [
    {
     "data": {
      "text/plain": [
       "0.4478632478632464"
      ]
     },
     "execution_count": 7,
     "metadata": {},
     "output_type": "execute_result"
    }
   ],
   "source": [
    "from scipy.stats import hypergeom\n",
    "a, b, c = 28, 8, 5\n",
    "1 - hypergeom(M=a, n=b, N=c).cdf(1)"
   ]
  },
  {
   "cell_type": "markdown",
   "metadata": {
    "id": "rexJv41waJlQ"
   },
   "source": [
    "#### 3-3c.특정 횟수일 확률\n",
    "- hypergeom(M, n, N).pmf(x)\n",
    "- hypergeom(M, n, N).cdf(x) - hypergeom(M, n, N).cdf(x-1)\n",
    "- 뽑기 기계에 꽝이 아닌 것이 10개, 꽝이 30개 포함되어 있다고 한다. 비복원추출로 4개를 뽑았을 때 이중 꽝이 아닌 것이 3개 나올 확률을 구하시오."
   ]
  },
  {
   "cell_type": "code",
   "execution_count": 8,
   "metadata": {
    "colab": {
     "base_uri": "https://localhost:8080/"
    },
    "id": "BRKez3D8oaEw",
    "outputId": "0bb7acbc-7193-47f0-8f5b-42f6d7b30448"
   },
   "outputs": [
    {
     "data": {
      "text/plain": [
       "0.039391618338986745"
      ]
     },
     "execution_count": 8,
     "metadata": {},
     "output_type": "execute_result"
    }
   ],
   "source": [
    "from scipy.stats import hypergeom\n",
    "a, b, c = 40, 10, 4\n",
    "hypergeom(M=a, n=b, N=c).pmf(3)"
   ]
  },
  {
   "cell_type": "markdown",
   "metadata": {
    "id": "K1rog9T3_0Rj"
   },
   "source": [
    "### 3-3.포아송분포 활용문제"
   ]
  },
  {
   "cell_type": "markdown",
   "metadata": {
    "id": "cnWQ55BuEolc"
   },
   "source": [
    "#### 3-3a.이하일 확률\n",
    "- poisson(mu).cdf(x)\n",
    "- 어느 AS센터에 1시간당 평균 180건의 전화가 온다. 이때 1분 동안 걸려오는 전화 요청이 4건 이하일 확률을 구하시오."
   ]
  },
  {
   "cell_type": "code",
   "execution_count": 9,
   "metadata": {
    "colab": {
     "base_uri": "https://localhost:8080/"
    },
    "id": "SJlLoUZbJRBk",
    "outputId": "b41be376-4c39-494d-9df5-969daeff244d"
   },
   "outputs": [
    {
     "data": {
      "text/plain": [
       "0.8152632445237722"
      ]
     },
     "execution_count": 9,
     "metadata": {},
     "output_type": "execute_result"
    }
   ],
   "source": [
    "from scipy.stats import poisson\n",
    "mu = 180/60\n",
    "poisson(mu=mu).cdf(4)"
   ]
  },
  {
   "cell_type": "markdown",
   "metadata": {
    "id": "HIgHSsuoE57m"
   },
   "source": [
    "#### 3-3b.이상일 확률\n",
    "- 1- poisson(mu).cdf(x)\n",
    "- 어느 가게에 1시간당 평균 8명의 손님이 온다. 이때, 1시간 동안 손님이 6명 이상 올 확률을 구하시오."
   ]
  },
  {
   "cell_type": "code",
   "execution_count": 10,
   "metadata": {
    "colab": {
     "base_uri": "https://localhost:8080/"
    },
    "id": "IJ1-531YWlTE",
    "outputId": "0e852382-03b7-46ea-b7fb-73db15224a39"
   },
   "outputs": [
    {
     "data": {
      "text/plain": [
       "0.8087639379203747"
      ]
     },
     "execution_count": 10,
     "metadata": {},
     "output_type": "execute_result"
    }
   ],
   "source": [
    "from scipy.stats import poisson\n",
    "mu = 8\n",
    "1 - poisson(mu=mu).cdf(5)"
   ]
  },
  {
   "cell_type": "markdown",
   "metadata": {
    "id": "O9SIeT9WFGnz"
   },
   "source": [
    "#### 3-3c.특정 개수일 확률\n",
    "- poisson(mu).pmf(x)\n",
    "- 출판사에서 원고 검수를 6 페이지 하였는데 오타가 총 12개 발견되었다고 한다. 이 원고에서 어떤 한 페이지를 검수하였을 때, 오타가 2개 나올 확률을 구하시오.\n"
   ]
  },
  {
   "cell_type": "code",
   "execution_count": 12,
   "metadata": {
    "colab": {
     "base_uri": "https://localhost:8080/"
    },
    "id": "iOPyqdniXzMA",
    "outputId": "83deb125-bed4-462c-d294-178c8b0cebe3"
   },
   "outputs": [
    {
     "data": {
      "text/plain": [
       "0.2706705664732254"
      ]
     },
     "execution_count": 12,
     "metadata": {},
     "output_type": "execute_result"
    }
   ],
   "source": [
    "from scipy.stats import poisson\n",
    "mu=2\n",
    "poisson(mu=mu).pmf(2)"
   ]
  },
  {
   "cell_type": "markdown",
   "metadata": {
    "id": "w0KuaMQEe6oR"
   },
   "source": [
    "## 4.연속형 확률분포 문제"
   ]
  },
  {
   "cell_type": "markdown",
   "metadata": {
    "id": "dPm04FbL6nmO"
   },
   "source": [
    "### 4-1.정규분포 활용문제\n",
    "- loc : 평균, scale : 표준편차\n",
    "- x (확률변수) : 평균\n"
   ]
  },
  {
   "cell_type": "markdown",
   "metadata": {
    "id": "SySulfa57UCZ"
   },
   "source": [
    "#### 4-1a.이하일 확률\n",
    "- norm(loc=평균, scale=표준편차).cdf(x) 사용\n",
    "- Z회사의 USB 수명을 조사하였더니 USB의 평균 수명은 5000시간이고, 표준편차가 100시간인 정규분포를 따른다고 한다. USB의 수명이 4800시간 이하일 확률을 구하시오\n",
    " \n"
   ]
  },
  {
   "cell_type": "code",
   "execution_count": 14,
   "metadata": {
    "colab": {
     "base_uri": "https://localhost:8080/"
    },
    "id": "Mo8SfzEN9Tl9",
    "outputId": "5496778d-9cc7-498c-8942-4c2e8dd0d9ba"
   },
   "outputs": [
    {
     "data": {
      "text/plain": [
       "0.022750131948179195"
      ]
     },
     "execution_count": 14,
     "metadata": {},
     "output_type": "execute_result"
    }
   ],
   "source": [
    "from scipy.stats import norm\n",
    "mu = 5000\n",
    "std = 100\n",
    "norm(loc=mu, scale=std).cdf(4800)"
   ]
  },
  {
   "cell_type": "markdown",
   "metadata": {
    "id": "ZRpbZtwO7b4z"
   },
   "source": [
    "#### 4-1b.이상일 확률\n",
    "- 1 - norm(loc=평균, scale=표준편차).cdf(x) 사용\n",
    "- A씨는 냉장고의 수명을 조사하였다. 냉장고의 평균 수명은 10년이고, 표준편차가 2년인 정규분포를 따른다고 한다.  냉장고의 수명이 14년 이상일 확률을 구하시오.\n"
   ]
  },
  {
   "cell_type": "code",
   "execution_count": 15,
   "metadata": {
    "colab": {
     "base_uri": "https://localhost:8080/"
    },
    "id": "oHCbCFMlq0uy",
    "outputId": "b9fcf2db-af1d-4d53-eb5a-0b0514d902d6"
   },
   "outputs": [
    {
     "data": {
      "text/plain": [
       "0.02275013194817921"
      ]
     },
     "execution_count": 15,
     "metadata": {},
     "output_type": "execute_result"
    }
   ],
   "source": [
    "from scipy.stats import norm\n",
    "mu = 10\n",
    "std = 2\n",
    "1 - norm(loc=mu, scale=std).cdf(14)"
   ]
  },
  {
   "cell_type": "markdown",
   "metadata": {
    "id": "00zA_5OB7mXl"
   },
   "source": [
    "#### 4-1c.특정 구간일 확률\n",
    "- norm(loc=평균, scale=표준편차).cdf(큰값) - norm(loc=평균, scale=표준편차).cdf(작은값)\n",
    "- X회사에서 생산되는 계란은 평균 무게가 80g 이고 분산이 100g인 정규분포를 따른다고 한다. 계란의 평균 무게가 55g ~ 90g일 확률을 구하시오.\n"
   ]
  },
  {
   "cell_type": "code",
   "execution_count": null,
   "metadata": {
    "colab": {
     "base_uri": "https://localhost:8080/"
    },
    "id": "jWVdxK3Yr7zK",
    "outputId": "c9c7bc68-fa29-4389-e1f7-a42ca3e8d4ae"
   },
   "outputs": [
    {
     "name": "stdout",
     "output_type": "stream",
     "text": [
      "0.8351\n"
     ]
    }
   ],
   "source": [
    "from scipy.stats import norm\n",
    "\n",
    "mu = 80\n",
    "std = 100 ** 0.5\n",
    "rv = norm(loc=mu, scale=std)\n",
    "result = rv.cdf(90) - rv.cdf(55)\n",
    "print(round(result, 4))"
   ]
  },
  {
   "cell_type": "markdown",
   "metadata": {
    "id": "J9AJN7XIfsJB"
   },
   "source": [
    "#### 4-1d.정규분포 신뢰구간 \n",
    "- (통계량 – 오차한계) ~ (통계량 + 오차한계)\n",
    "- 오차한계 = 표본오차, 임계값 * 𝜎/√𝑛 \n",
    "- https://docs.scipy.org/doc/scipy/reference/generated/scipy.stats.norm.html\n",
    "- norm.interval(confidence, loc=mu, scale=stderr)\n",
    "- norm.ppf((1+confidence)/2, loc=mu, scale=stderr)\n",
    "- scipy.stats.sem(data)로 stderr 구하기 가능\n"
   ]
  },
  {
   "cell_type": "markdown",
   "metadata": {
    "id": "pwshc_p0YWw2"
   },
   "source": [
    "어느 배 농장에서 수확한 배의 평균 무게(𝝁)에 대해 알아보기 위해 36개의 배를 추출하여 무게를측정하였더니 평균이 602g, 표준편차가 30g이 나왔다고 한다. 이때 배의 평균 무게 (𝝁) 의 95% 신뢰구간을 구하여라\n"
   ]
  },
  {
   "cell_type": "code",
   "execution_count": 17,
   "metadata": {
    "colab": {
     "base_uri": "https://localhost:8080/"
    },
    "id": "rSay-AkJlzNG",
    "outputId": "b6d0ffd5-89c4-4276-cb27-509d98b40015"
   },
   "outputs": [
    {
     "data": {
      "text/plain": [
       "(592.2001800772997, 611.7998199227003)"
      ]
     },
     "execution_count": 17,
     "metadata": {},
     "output_type": "execute_result"
    }
   ],
   "source": [
    "from scipy.stats import norm\n",
    "n = 36\n",
    "mu = 602\n",
    "std = 30\n",
    "\n",
    "confidence = 0.95\n",
    "stderr = std/n**0.5\n",
    "\n",
    "norm.interval(confidence, loc=mu, scale=stderr)\n"
   ]
  },
  {
   "cell_type": "markdown",
   "metadata": {
    "id": "RwRDLzVjYeVU"
   },
   "source": [
    "### 4-2.t분포 활용문제"
   ]
  },
  {
   "cell_type": "markdown",
   "metadata": {
    "id": "l32mmBG8zKQr"
   },
   "source": [
    "#### 4-2a.이하일 확률\n",
    "상수원 수질을 나타내는 수치 중 하나로 ‘단위부피당 평균 세균수’가 있으며, A 호수의 10곳의 수질을 조사한 단위 부피당 세균수가 a.csv 파일에 기록되어 있다. 이 자료로부터 호수의 단위부피당 평균 세균수(𝝁)가 200 이하일 확률을 구하라.\n"
   ]
  },
  {
   "cell_type": "code",
   "execution_count": 5,
   "metadata": {
    "colab": {
     "base_uri": "https://localhost:8080/"
    },
    "id": "jy8PExU0za0n",
    "outputId": "beef2b46-f0e9-4498-b82f-fe071801455b"
   },
   "outputs": [
    {
     "name": "stdout",
     "output_type": "stream",
     "text": [
      "0.6493\n",
      "0.3507\n",
      "0.5947\n"
     ]
    }
   ],
   "source": [
    "import pandas as pd\n",
    "from scipy.stats import t\n",
    "\n",
    "# data_02/a.csv\n",
    "s = pd.read_csv('data_02/a.csv')['water_quality']\n",
    "mu, std = s.agg(['mean', 'std'])\n",
    "rv = t(df=len(s)-1, loc=mu, scale=std)\n",
    "print(round(rv.cdf(200), 4))    # 200 이하일 확률 \n",
    "print(round(1-rv.cdf(200), 4))    # 200 이상일 확률 \n",
    "print(round(rv.cdf(220) - rv.cdf(190), 4))    # 190 ~ 220 구간일 확률 "
   ]
  },
  {
   "cell_type": "markdown",
   "metadata": {
    "id": "gbkzaLxM5_0V"
   },
   "source": [
    "#### 4-2b.t분포 신뢰구간\n",
    "모평균이 𝝁, 표준편차가 𝝈=8 인 정규분포를 따르는 모집단이 있다.  이 모집단에서 크기가 25인 표본을 추출하여 구한 평균이 42.7이었다. 이때, 모평균 𝝁 이 위치할 95% 신뢰도의 \n",
    "신뢰구간을 구하라."
   ]
  },
  {
   "cell_type": "code",
   "execution_count": null,
   "metadata": {
    "colab": {
     "base_uri": "https://localhost:8080/"
    },
    "id": "LE3H_HLtgrF3",
    "outputId": "f6c6d97f-1157-4f0f-89f5-0f50f4502cb2"
   },
   "outputs": [
    {
     "name": "stdout",
     "output_type": "stream",
     "text": [
      "39.3978 ~ 46.0022\n"
     ]
    }
   ],
   "source": [
    "from scipy.stats import t\n",
    "# interval\n",
    "n = 25\n",
    "mu = 42.7\n",
    "std = 8\n",
    "confidence = 0.95\n",
    "stderr = std / (n**0.5)\n",
    "A, B = t(df=n-1).interval(confidence, loc=mu, scale=stderr)\n",
    "print(f'{A:.4f} ~ {B:.4f}')"
   ]
  },
  {
   "cell_type": "code",
   "execution_count": null,
   "metadata": {
    "colab": {
     "base_uri": "https://localhost:8080/"
    },
    "id": "py4w1yszL67o",
    "outputId": "8ae1f1d0-3485-4075-d16c-473af01da708"
   },
   "outputs": [
    {
     "name": "stdout",
     "output_type": "stream",
     "text": [
      "39.3978 ~ 46.0022\n"
     ]
    }
   ],
   "source": [
    "from scipy.stats import t\n",
    "# ppf\n",
    "n = 25\n",
    "mu = 42.7\n",
    "std = 8\n",
    "confidence = 0.95\n",
    "stderr = std / (n**0.5)\n",
    "alpha = (1 - confidence) / 2\n",
    "A, B = t.ppf([alpha, confidence+alpha], df=n-1, loc=mu, scale=stderr)\n",
    "print(f'{A:.4f} ~ {B:.4f}')"
   ]
  },
  {
   "cell_type": "markdown",
   "metadata": {
    "id": "Lo1xn6w_fw3U"
   },
   "source": [
    "#### 4-2c.t분포 신뢰구간\n",
    "우주선 제작에 사용되는 합금의 평균 장력 𝝁 를 추정하고자 한다. 15개의 새 합금조각으로부터 장력을 측정한 결과 \n",
    "평균이 39.3, 표준편차가 2.6으로 나타났다. 합금의 평균 장력 𝝁에 대한 90% 신뢰구간을 구하라. \n"
   ]
  },
  {
   "cell_type": "code",
   "execution_count": null,
   "metadata": {
    "colab": {
     "base_uri": "https://localhost:8080/"
    },
    "id": "qex3qf606IwO",
    "outputId": "dbc54ee7-b565-4039-a061-d58eb5787613"
   },
   "outputs": [
    {
     "name": "stdout",
     "output_type": "stream",
     "text": [
      "38.1176 ~ 40.4824\n"
     ]
    }
   ],
   "source": [
    "from scipy.stats import t\n",
    "# interval\n",
    "\n",
    "n = 15\n",
    "mu = 39.3\n",
    "std = 2.6\n",
    "confidence = 0.9\n",
    "stderr = std / (n**0.5)\n",
    "#A, B = t(df=n-1).interval(confidence, loc=mu, scale=stderr)\n",
    "A, B = t.interval(confidence, df=n-1, loc=mu, scale=stderr)\n",
    "print(f'{A:.4f} ~ {B:.4f}')   # 95% 37.8602 ~ 40.7398,  90% 38.1176 ~ 40.4824"
   ]
  },
  {
   "cell_type": "code",
   "execution_count": null,
   "metadata": {
    "colab": {
     "base_uri": "https://localhost:8080/"
    },
    "id": "YhVlmDNJgsNf",
    "outputId": "b7ab90a2-06f3-43cf-98ce-861d6ea009c0"
   },
   "outputs": [
    {
     "name": "stdout",
     "output_type": "stream",
     "text": [
      "38.1176 ~ 40.4824\n"
     ]
    }
   ],
   "source": [
    "from scipy.stats import t\n",
    "# ppf\n",
    "n = 15\n",
    "mu = 39.3\n",
    "std = 2.6\n",
    "confidence = 0.9\n",
    "stderr = std / (n**0.5)\n",
    "alpha = (1-confidence) / 2\n",
    "A, B = t.ppf([alpha, confidence+alpha], df=n-1, loc=mu, scale=stderr)\n",
    "print(f'{A:.4f} ~ {B:.4f}')"
   ]
  },
  {
   "cell_type": "markdown",
   "metadata": {
    "id": "p8KR6WN3tnEP"
   },
   "source": [
    "#### 4-2d.20대 수면시간 - t분포 사용\n",
    "- interval(confidence, df, loc=0, scale=1)\n",
    "- 20대 수면 평균 시간(𝝁)에 대해 추정하고자 한다.  sleepage.csv에 'stime20s' column을 사용하여, 20대 수면 평균 시간에 대해 99% 신뢰구간을 구하라."
   ]
  },
  {
   "cell_type": "code",
   "execution_count": null,
   "metadata": {
    "colab": {
     "base_uri": "https://localhost:8080/"
    },
    "id": "hvmSipyntnEP",
    "outputId": "b4fca920-1c37-4e78-b122-8f746cad0a9a"
   },
   "outputs": [
    {
     "name": "stdout",
     "output_type": "stream",
     "text": [
      "5.2154 ~ 7.0846\n"
     ]
    }
   ],
   "source": [
    "import pandas as pd\n",
    "from scipy.stats import t, sem\n",
    "\n",
    "sleep = pd.read_csv('data_02/sleepage.csv')['stime20s']\n",
    "n = len(sleep)\n",
    "mu, std = sleep.agg(['mean', 'std'])\n",
    "confidence = 0.99\n",
    "stderr = sem(sleep)\n",
    "A, B = t.interval(confidence, df=n-1, loc=mu, scale=stderr)\n",
    "print(f'{A:.4f} ~ {B:.4f}')"
   ]
  },
  {
   "cell_type": "markdown",
   "metadata": {
    "id": "GCBw3m02tnEQ"
   },
   "source": [
    "ppf를 사용하는 방법"
   ]
  },
  {
   "cell_type": "code",
   "execution_count": null,
   "metadata": {
    "colab": {
     "base_uri": "https://localhost:8080/"
    },
    "id": "qQarOQfwtnEQ",
    "outputId": "b30d9105-6744-407c-a38a-54a22ae253a3"
   },
   "outputs": [
    {
     "name": "stdout",
     "output_type": "stream",
     "text": [
      "5.2154 ~ 7.0846\n"
     ]
    }
   ],
   "source": [
    "import pandas as pd\n",
    "from scipy.stats import t, sem\n",
    "\n",
    "sleep = pd.read_csv('data_02/sleepage.csv')['stime20s']\n",
    "n = len(sleep)\n",
    "mu, std = sleep.agg(['mean', 'std'])\n",
    "confidence = 0.99\n",
    "stderr = sem(sleep)\n",
    "alpha = (1-confidence) / 2\n",
    "A, B = t.ppf([alpha, confidence + alpha], df=n-1, loc=mu, scale=stderr)\n",
    "print(f'{A:.4f} ~ {B:.4f}')"
   ]
  },
  {
   "cell_type": "code",
   "execution_count": null,
   "metadata": {
    "colab": {
     "base_uri": "https://localhost:8080/"
    },
    "id": "UDVEISEemJvk",
    "outputId": "066b1e9f-5fa0-4530-c389-ee20bb72dbdc"
   },
   "outputs": [
    {
     "name": "stdout",
     "output_type": "stream",
     "text": [
      "5.2154 ~ 7.0846\n"
     ]
    }
   ],
   "source": [
    "import pandas as pd\n",
    "from scipy.stats import t, sem\n",
    "\n",
    "def get_t_interval(n, mu, std, confidence):\n",
    "    stderr = std / (n**0.5)\n",
    "    alpha = (1-confidence) / 2\n",
    "    A, B = t.ppf([alpha, confidence + alpha], df=n-1, loc=mu, scale=stderr)\n",
    "    return A, B\n",
    "\n",
    "sleep = pd.read_csv('data_02/sleepage.csv')['stime20s']\n",
    "A, B = get_t_interval(len(sleep), sleep.mean(), sleep.std(), 0.99)\n",
    "print(f'{A:.4f} ~ {B:.4f}')"
   ]
  },
  {
   "cell_type": "code",
   "execution_count": null,
   "metadata": {
    "colab": {
     "base_uri": "https://localhost:8080/"
    },
    "id": "L3knQYoinCs1",
    "outputId": "cdd68da3-0df4-4308-8116-d7c6945c2cba"
   },
   "outputs": [
    {
     "name": "stdout",
     "output_type": "stream",
     "text": [
      "5.2154 ~ 7.0846\n"
     ]
    }
   ],
   "source": [
    "import pandas as pd\n",
    "from scipy.stats import t, sem\n",
    "\n",
    "def get_t_interval2(sleep, confidence):\n",
    "    n = len(sleep)\n",
    "    mu, std = sleep.agg(['mean', 'std'])\n",
    "    stderr = sem(sleep)\n",
    "    alpha = (1-confidence) / 2\n",
    "    A, B = t.ppf([alpha, confidence + alpha], df=n-1, loc=mu, scale=stderr)\n",
    "    return A, B\n",
    "\n",
    "sleep = pd.read_csv('data_02/sleepage.csv')['stime20s']\n",
    "A, B = get_t_interval2(sleep, 0.99)\n",
    "print(f'{A:.4f} ~ {B:.4f}')"
   ]
  },
  {
   "cell_type": "markdown",
   "metadata": {
    "id": "PrBfzjBSuSY-"
   },
   "source": [
    "### 4-3.지수분포 활용문제\n",
    "- 단위 시간당 발생하는 평균 사건의 수 : λ \n",
    "- 발생하는 사건들 사이의 시간 : x (확률변수)\n"
   ]
  },
  {
   "cell_type": "markdown",
   "metadata": {
    "id": "1Qdqf5xKuSY_"
   },
   "source": [
    "#### 4-3a.이하일 확률\n",
    "- expon(scale=1/λ).cdf(x) 사용\n",
    "- 전자 제품의 5년간 고장횟수가 평균 1회이고, 지수분포를 따른다. 1년 안에 고장 날 확률을 구하시오.\n"
   ]
  },
  {
   "cell_type": "code",
   "execution_count": null,
   "metadata": {
    "colab": {
     "base_uri": "https://localhost:8080/"
    },
    "id": "QetZcZ9xuSY_",
    "outputId": "0f70020e-a9b5-47f1-9fd4-705950f9bf40"
   },
   "outputs": [
    {
     "name": "stdout",
     "output_type": "stream",
     "text": [
      "0.1813\n"
     ]
    }
   ],
   "source": [
    "from scipy.stats import expon\n",
    "\n",
    "# 단위 시간 : 년\n",
    "e_lambda = 1/5   #  5년간 고장횟수가 1회이므로 1년(=단위시간)에는 0.2회 고장\n",
    "result = expon(scale=1/e_lambda).cdf(1).round(4)\n",
    "print(result)"
   ]
  },
  {
   "cell_type": "code",
   "execution_count": null,
   "metadata": {
    "id": "fvQl-_4zBrf-"
   },
   "outputs": [],
   "source": [
    "# 평균 대기시간 = 1/e_lambda 의 이유\n",
    "# 예) 1시간에 버스가 4대인 경우, e_lambda = 4\n",
    "#     평균대기시간 = 1/4 이 됨"
   ]
  },
  {
   "cell_type": "code",
   "execution_count": null,
   "metadata": {
    "colab": {
     "base_uri": "https://localhost:8080/"
    },
    "id": "kWx02hKSyV_y",
    "outputId": "c1e80603-0625-46a3-9ed4-a8b8e053e0b7"
   },
   "outputs": [
    {
     "name": "stdout",
     "output_type": "stream",
     "text": [
      "0.1813\n"
     ]
    }
   ],
   "source": [
    "from scipy.stats import expon\n",
    "\n",
    "# 단위 시간 : 년\n",
    "e_lambda = 5\n",
    "result = expon(scale=e_lambda).cdf(1).round(4)\n",
    "print(result)"
   ]
  },
  {
   "cell_type": "markdown",
   "metadata": {
    "id": "n8eiIJ32uSY_"
   },
   "source": [
    "#### 4-3b.이상일 확률\n",
    "- 1 - expon(scale=1/λ).cdf(x) 사용\n",
    "- 어느 회사에서 생산하는 냉장고 평균수명은 10년이고, 지수분포를 따른다. 이 냉장고의 수명이 10년 이상 지속될 확률을 구하시오."
   ]
  },
  {
   "cell_type": "code",
   "execution_count": null,
   "metadata": {
    "colab": {
     "base_uri": "https://localhost:8080/"
    },
    "id": "kXvhO2nduSZA",
    "outputId": "99473594-243d-4549-af9c-317cc9974187"
   },
   "outputs": [
    {
     "name": "stdout",
     "output_type": "stream",
     "text": [
      "0.3679\n"
     ]
    }
   ],
   "source": [
    "from scipy.stats import expon\n",
    "\n",
    "# 단위 시간 : 년\n",
    "e_lambda = 1/10\n",
    "result = (1 - expon(scale=1/e_lambda).cdf(10)).round(4)\n",
    "print(result)"
   ]
  },
  {
   "cell_type": "code",
   "execution_count": null,
   "metadata": {
    "colab": {
     "base_uri": "https://localhost:8080/"
    },
    "id": "UcVrkWbFykQX",
    "outputId": "945903e1-1f8e-426b-e49e-9bcf2d1326b2"
   },
   "outputs": [
    {
     "name": "stdout",
     "output_type": "stream",
     "text": [
      "0.3679\n"
     ]
    }
   ],
   "source": [
    "from scipy.stats import expon\n",
    "\n",
    "# 단위 시간 : 년\n",
    "e_lambda = 10\n",
    "result = (1 - expon(scale=e_lambda).cdf(10)).round(4)\n",
    "print(result)"
   ]
  },
  {
   "cell_type": "markdown",
   "metadata": {
    "id": "xOLgD_tUuSZA"
   },
   "source": [
    "#### 4-3c.특정 구간일 확률\n",
    "- expon(scale=1/λ).cdf(큰값) - expon(scale=1/λ).cdf(작은값)\n",
    "- 어느 커피샵에서 커피를 구입하기 위해 대기하는 시간이 평균 7분이고, 지수분포를 따른다. \n",
    "이 커피샵에 갔을 때 대기하는 시간이 4분에서 10분일 확률을 구하시오."
   ]
  },
  {
   "cell_type": "code",
   "execution_count": null,
   "metadata": {
    "colab": {
     "base_uri": "https://localhost:8080/"
    },
    "id": "iJnJdqQ_uSZA",
    "outputId": "927afeda-547c-4ee8-d709-59a318e3f0b8"
   },
   "outputs": [
    {
     "name": "stdout",
     "output_type": "stream",
     "text": [
      "0.3251\n"
     ]
    }
   ],
   "source": [
    "from scipy.stats import expon\n",
    "\n",
    "# 단위 시간 : 분\n",
    "e_lambda = 1/7   #  1분에는 1/7 잔의 커피 생성\n",
    "result = expon(scale=1/e_lambda).cdf(10) - expon(scale=1/e_lambda).cdf(4)\n",
    "print(round(result, 4))"
   ]
  },
  {
   "cell_type": "code",
   "execution_count": null,
   "metadata": {
    "colab": {
     "base_uri": "https://localhost:8080/"
    },
    "id": "vzwFATPhuSZA",
    "outputId": "b1b4b1c4-3cf9-41d8-8905-caa7c214fbf5"
   },
   "outputs": [
    {
     "name": "stdout",
     "output_type": "stream",
     "text": [
      "0.3251\n"
     ]
    }
   ],
   "source": [
    "from scipy.stats import expon\n",
    "\n",
    "# 단위 시간 : 분\n",
    "e_lambda = 1/7\n",
    "rv = expon(scale=1/e_lambda)\n",
    "result = (rv.cdf(10) - rv.cdf(4)).round(4)\n",
    "print(result)"
   ]
  },
  {
   "cell_type": "code",
   "execution_count": null,
   "metadata": {
    "colab": {
     "base_uri": "https://localhost:8080/"
    },
    "id": "-TXxf_Dayoil",
    "outputId": "6447648e-786a-460e-90a0-9cfca29e3a9a"
   },
   "outputs": [
    {
     "name": "stdout",
     "output_type": "stream",
     "text": [
      "0.3251\n"
     ]
    }
   ],
   "source": [
    "from scipy.stats import expon\n",
    "\n",
    "# 단위 시간 : 분\n",
    "e_lambda = 7\n",
    "rv = expon(scale=e_lambda)\n",
    "result = (rv.cdf(10) - rv.cdf(4)).round(4)\n",
    "print(result)"
   ]
  },
  {
   "cell_type": "markdown",
   "metadata": {
    "id": "5e8JRgWce9Ph"
   },
   "source": [
    "### 4-4.감마분포 활용문제\n",
    "- 확률변수 x = 𝜶 개의 사건이 발생할 때까지 걸리는 시간 (어떤 사건이 여러 번 발생하는 데 걸리는 시간)\n",
    "- n: 사건발생건수, λ : 단위시간/공간 당 발생하는 사건 평균 건 수"
   ]
  },
  {
   "cell_type": "markdown",
   "metadata": {
    "id": "fbvzAOzHhwCZ"
   },
   "source": [
    "#### 4-4a.이하일 확률\n",
    "- gamma(a=n, scale=1/λ)\n",
    "- A씨는 한 시간에 평균 6개의 택배를 배송한다. 30개의 택배를 배송할 때 걸리는 시간이 5시간 이하로 소요될 확률을 구하시오. "
   ]
  },
  {
   "cell_type": "code",
   "execution_count": null,
   "metadata": {
    "colab": {
     "base_uri": "https://localhost:8080/"
    },
    "id": "4AFFMTdFjlVV",
    "outputId": "f47754fc-fdca-48e5-86c1-7fc8b2fdc9c3"
   },
   "outputs": [
    {
     "name": "stdout",
     "output_type": "stream",
     "text": [
      "0.5243\n"
     ]
    }
   ],
   "source": [
    "from scipy.stats import gamma\n",
    "\n",
    "# 단위시간 : hour(시간)\n",
    "n = 30\n",
    "g_lambda = 6\n",
    "result = gamma(a=n, scale=1/g_lambda).cdf(5).round(4)\n",
    "print(result)"
   ]
  },
  {
   "cell_type": "markdown",
   "metadata": {
    "id": "Eerg0pzmh0Jv"
   },
   "source": [
    "#### 4-4b.이상일 확률\n",
    "- 1 - gamma(a=n, scale=1/λ).cdf(x)\n",
    "- B은행은 한 명의 고객응대에 평균 5분이 소요된다.  이 은행에서 30명의 고객응대에 2시간 이상으로 소요될 확률을 구하시오. "
   ]
  },
  {
   "cell_type": "code",
   "execution_count": null,
   "metadata": {
    "colab": {
     "base_uri": "https://localhost:8080/"
    },
    "id": "rqCcLsVJlcLi",
    "outputId": "00789ba4-16e8-4b52-de0d-c044151b7483"
   },
   "outputs": [
    {
     "name": "stdout",
     "output_type": "stream",
     "text": [
      "0.8679\n"
     ]
    }
   ],
   "source": [
    "from scipy.stats import gamma\n",
    "\n",
    "# 단위시간 : hour(시간)\n",
    "n = 30\n",
    "g_lambda = 60/5  # 12\n",
    "result = (1 - gamma(a=n, scale=1/g_lambda).cdf(2)).round(4)\n",
    "print(result)"
   ]
  },
  {
   "cell_type": "markdown",
   "metadata": {
    "id": "x2noqIlch0sy"
   },
   "source": [
    "#### 4-4c.특정 구간일 확률\n",
    "- gamma(a=n, scale=1/λ).cdf(큰값) - gamma(a=n, 1/λ).cdf(작은값)\n",
    "- C씨는 비즈 목걸이를 만드는데 평균 30분 걸린다.  5개 비즈 목걸이를 만들 때까지 걸리는 시간이 2시간에서 4시간 사이 소요될 확률을 구하시오"
   ]
  },
  {
   "cell_type": "code",
   "execution_count": null,
   "metadata": {
    "colab": {
     "base_uri": "https://localhost:8080/"
    },
    "id": "Xn6SY-onlOg7",
    "outputId": "ae936f22-baa4-4e63-f83d-c2184a436fff"
   },
   "outputs": [
    {
     "name": "stdout",
     "output_type": "stream",
     "text": [
      "0.5292\n"
     ]
    }
   ],
   "source": [
    "from scipy.stats import gamma\n",
    "\n",
    "# 단위시간 : hour(시간)\n",
    "n = 5\n",
    "g_lambda = 2\n",
    "\n",
    "rv = gamma(a=n, scale=1/g_lambda)\n",
    "result = (rv.cdf(4) - rv.cdf(2)).round(4)\n",
    "print(result)"
   ]
  },
  {
   "cell_type": "code",
   "execution_count": null,
   "metadata": {
    "id": "oXXwgkTT36go"
   },
   "outputs": [],
   "source": [
    "####  카이제곱, F분포 등을 추가해 보려고 합니다. (우선 모수, 비모수 검정을 녹화합니다)"
   ]
  }
 ],
 "metadata": {
  "colab": {
   "collapsed_sections": [
    "I5HLZUO-a6Am",
    "wjx_yhTnhX-m",
    "UERuue_HoU_s"
   ],
   "provenance": [],
   "toc_visible": true
  },
  "kernelspec": {
   "display_name": "Python 3 (ipykernel)",
   "language": "python",
   "name": "python3"
  },
  "language_info": {
   "codemirror_mode": {
    "name": "ipython",
    "version": 3
   },
   "file_extension": ".py",
   "mimetype": "text/x-python",
   "name": "python",
   "nbconvert_exporter": "python",
   "pygments_lexer": "ipython3",
   "version": "3.9.12"
  }
 },
 "nbformat": 4,
 "nbformat_minor": 1
}
