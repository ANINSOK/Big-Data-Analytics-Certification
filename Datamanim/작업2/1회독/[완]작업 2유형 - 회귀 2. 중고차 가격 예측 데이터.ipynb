{
 "cells": [
  {
   "cell_type": "markdown",
   "id": "38cb67f5",
   "metadata": {},
   "source": [
    "## 데이터 불러오기"
   ]
  },
  {
   "cell_type": "code",
   "execution_count": 66,
   "id": "e4ebbfcf",
   "metadata": {},
   "outputs": [
    {
     "data": {
      "text/html": [
       "<div>\n",
       "<style scoped>\n",
       "    .dataframe tbody tr th:only-of-type {\n",
       "        vertical-align: middle;\n",
       "    }\n",
       "\n",
       "    .dataframe tbody tr th {\n",
       "        vertical-align: top;\n",
       "    }\n",
       "\n",
       "    .dataframe thead th {\n",
       "        text-align: right;\n",
       "    }\n",
       "</style>\n",
       "<table border=\"1\" class=\"dataframe\">\n",
       "  <thead>\n",
       "    <tr style=\"text-align: right;\">\n",
       "      <th></th>\n",
       "      <th>carID</th>\n",
       "      <th>brand</th>\n",
       "      <th>model</th>\n",
       "      <th>year</th>\n",
       "      <th>transmission</th>\n",
       "      <th>mileage</th>\n",
       "      <th>fuelType</th>\n",
       "      <th>tax</th>\n",
       "      <th>mpg</th>\n",
       "      <th>engineSize</th>\n",
       "    </tr>\n",
       "  </thead>\n",
       "  <tbody>\n",
       "    <tr>\n",
       "      <th>0</th>\n",
       "      <td>13207</td>\n",
       "      <td>hyundi</td>\n",
       "      <td>Santa Fe</td>\n",
       "      <td>2019</td>\n",
       "      <td>Semi-Auto</td>\n",
       "      <td>4223</td>\n",
       "      <td>Diesel</td>\n",
       "      <td>145.0</td>\n",
       "      <td>39.8</td>\n",
       "      <td>2.2</td>\n",
       "    </tr>\n",
       "    <tr>\n",
       "      <th>1</th>\n",
       "      <td>17314</td>\n",
       "      <td>vauxhall</td>\n",
       "      <td>GTC</td>\n",
       "      <td>2015</td>\n",
       "      <td>Manual</td>\n",
       "      <td>47870</td>\n",
       "      <td>Diesel</td>\n",
       "      <td>125.0</td>\n",
       "      <td>60.1</td>\n",
       "      <td>2.0</td>\n",
       "    </tr>\n",
       "    <tr>\n",
       "      <th>2</th>\n",
       "      <td>12342</td>\n",
       "      <td>audi</td>\n",
       "      <td>RS4</td>\n",
       "      <td>2019</td>\n",
       "      <td>Automatic</td>\n",
       "      <td>5151</td>\n",
       "      <td>Petrol</td>\n",
       "      <td>145.0</td>\n",
       "      <td>29.1</td>\n",
       "      <td>2.9</td>\n",
       "    </tr>\n",
       "    <tr>\n",
       "      <th>3</th>\n",
       "      <td>13426</td>\n",
       "      <td>vw</td>\n",
       "      <td>Scirocco</td>\n",
       "      <td>2016</td>\n",
       "      <td>Automatic</td>\n",
       "      <td>20423</td>\n",
       "      <td>Diesel</td>\n",
       "      <td>30.0</td>\n",
       "      <td>57.6</td>\n",
       "      <td>2.0</td>\n",
       "    </tr>\n",
       "    <tr>\n",
       "      <th>4</th>\n",
       "      <td>16004</td>\n",
       "      <td>skoda</td>\n",
       "      <td>Scala</td>\n",
       "      <td>2020</td>\n",
       "      <td>Semi-Auto</td>\n",
       "      <td>3569</td>\n",
       "      <td>Petrol</td>\n",
       "      <td>145.0</td>\n",
       "      <td>47.1</td>\n",
       "      <td>1.0</td>\n",
       "    </tr>\n",
       "  </tbody>\n",
       "</table>\n",
       "</div>"
      ],
      "text/plain": [
       "   carID     brand      model  year transmission  mileage fuelType    tax  \\\n",
       "0  13207    hyundi   Santa Fe  2019    Semi-Auto     4223   Diesel  145.0   \n",
       "1  17314  vauxhall        GTC  2015       Manual    47870   Diesel  125.0   \n",
       "2  12342      audi        RS4  2019    Automatic     5151   Petrol  145.0   \n",
       "3  13426        vw   Scirocco  2016    Automatic    20423   Diesel   30.0   \n",
       "4  16004     skoda      Scala  2020    Semi-Auto     3569   Petrol  145.0   \n",
       "\n",
       "    mpg  engineSize  \n",
       "0  39.8         2.2  \n",
       "1  60.1         2.0  \n",
       "2  29.1         2.9  \n",
       "3  57.6         2.0  \n",
       "4  47.1         1.0  "
      ]
     },
     "metadata": {},
     "output_type": "display_data"
    },
    {
     "data": {
      "text/html": [
       "<div>\n",
       "<style scoped>\n",
       "    .dataframe tbody tr th:only-of-type {\n",
       "        vertical-align: middle;\n",
       "    }\n",
       "\n",
       "    .dataframe tbody tr th {\n",
       "        vertical-align: top;\n",
       "    }\n",
       "\n",
       "    .dataframe thead th {\n",
       "        text-align: right;\n",
       "    }\n",
       "</style>\n",
       "<table border=\"1\" class=\"dataframe\">\n",
       "  <thead>\n",
       "    <tr style=\"text-align: right;\">\n",
       "      <th></th>\n",
       "      <th>carID</th>\n",
       "      <th>price</th>\n",
       "    </tr>\n",
       "  </thead>\n",
       "  <tbody>\n",
       "    <tr>\n",
       "      <th>0</th>\n",
       "      <td>13207</td>\n",
       "      <td>31995</td>\n",
       "    </tr>\n",
       "    <tr>\n",
       "      <th>1</th>\n",
       "      <td>17314</td>\n",
       "      <td>7700</td>\n",
       "    </tr>\n",
       "    <tr>\n",
       "      <th>2</th>\n",
       "      <td>12342</td>\n",
       "      <td>58990</td>\n",
       "    </tr>\n",
       "    <tr>\n",
       "      <th>3</th>\n",
       "      <td>13426</td>\n",
       "      <td>12999</td>\n",
       "    </tr>\n",
       "    <tr>\n",
       "      <th>4</th>\n",
       "      <td>16004</td>\n",
       "      <td>16990</td>\n",
       "    </tr>\n",
       "  </tbody>\n",
       "</table>\n",
       "</div>"
      ],
      "text/plain": [
       "   carID  price\n",
       "0  13207  31995\n",
       "1  17314   7700\n",
       "2  12342  58990\n",
       "3  13426  12999\n",
       "4  16004  16990"
      ]
     },
     "metadata": {},
     "output_type": "display_data"
    },
    {
     "data": {
      "text/html": [
       "<div>\n",
       "<style scoped>\n",
       "    .dataframe tbody tr th:only-of-type {\n",
       "        vertical-align: middle;\n",
       "    }\n",
       "\n",
       "    .dataframe tbody tr th {\n",
       "        vertical-align: top;\n",
       "    }\n",
       "\n",
       "    .dataframe thead th {\n",
       "        text-align: right;\n",
       "    }\n",
       "</style>\n",
       "<table border=\"1\" class=\"dataframe\">\n",
       "  <thead>\n",
       "    <tr style=\"text-align: right;\">\n",
       "      <th></th>\n",
       "      <th>carID</th>\n",
       "      <th>brand</th>\n",
       "      <th>model</th>\n",
       "      <th>year</th>\n",
       "      <th>transmission</th>\n",
       "      <th>mileage</th>\n",
       "      <th>fuelType</th>\n",
       "      <th>tax</th>\n",
       "      <th>mpg</th>\n",
       "      <th>engineSize</th>\n",
       "    </tr>\n",
       "  </thead>\n",
       "  <tbody>\n",
       "    <tr>\n",
       "      <th>0</th>\n",
       "      <td>12000</td>\n",
       "      <td>merc</td>\n",
       "      <td>GLS Class</td>\n",
       "      <td>2017</td>\n",
       "      <td>Automatic</td>\n",
       "      <td>12046</td>\n",
       "      <td>Diesel</td>\n",
       "      <td>150.0</td>\n",
       "      <td>37.2</td>\n",
       "      <td>3.0</td>\n",
       "    </tr>\n",
       "    <tr>\n",
       "      <th>1</th>\n",
       "      <td>12001</td>\n",
       "      <td>vw</td>\n",
       "      <td>Amarok</td>\n",
       "      <td>2017</td>\n",
       "      <td>Automatic</td>\n",
       "      <td>37683</td>\n",
       "      <td>Diesel</td>\n",
       "      <td>260.0</td>\n",
       "      <td>36.2</td>\n",
       "      <td>3.0</td>\n",
       "    </tr>\n",
       "    <tr>\n",
       "      <th>2</th>\n",
       "      <td>12004</td>\n",
       "      <td>merc</td>\n",
       "      <td>GLS Class</td>\n",
       "      <td>2019</td>\n",
       "      <td>Automatic</td>\n",
       "      <td>10000</td>\n",
       "      <td>Diesel</td>\n",
       "      <td>145.0</td>\n",
       "      <td>34.0</td>\n",
       "      <td>3.0</td>\n",
       "    </tr>\n",
       "    <tr>\n",
       "      <th>3</th>\n",
       "      <td>12013</td>\n",
       "      <td>skoda</td>\n",
       "      <td>Scala</td>\n",
       "      <td>2019</td>\n",
       "      <td>Manual</td>\n",
       "      <td>3257</td>\n",
       "      <td>Petrol</td>\n",
       "      <td>145.0</td>\n",
       "      <td>49.6</td>\n",
       "      <td>1.0</td>\n",
       "    </tr>\n",
       "    <tr>\n",
       "      <th>4</th>\n",
       "      <td>12017</td>\n",
       "      <td>audi</td>\n",
       "      <td>RS6</td>\n",
       "      <td>2015</td>\n",
       "      <td>Semi-Auto</td>\n",
       "      <td>20982</td>\n",
       "      <td>Petrol</td>\n",
       "      <td>325.0</td>\n",
       "      <td>29.4</td>\n",
       "      <td>4.0</td>\n",
       "    </tr>\n",
       "  </tbody>\n",
       "</table>\n",
       "</div>"
      ],
      "text/plain": [
       "   carID  brand       model  year transmission  mileage fuelType    tax   mpg  \\\n",
       "0  12000   merc   GLS Class  2017    Automatic    12046   Diesel  150.0  37.2   \n",
       "1  12001     vw      Amarok  2017    Automatic    37683   Diesel  260.0  36.2   \n",
       "2  12004   merc   GLS Class  2019    Automatic    10000   Diesel  145.0  34.0   \n",
       "3  12013  skoda       Scala  2019       Manual     3257   Petrol  145.0  49.6   \n",
       "4  12017   audi         RS6  2015    Semi-Auto    20982   Petrol  325.0  29.4   \n",
       "\n",
       "   engineSize  \n",
       "0         3.0  \n",
       "1         3.0  \n",
       "2         3.0  \n",
       "3         1.0  \n",
       "4         4.0  "
      ]
     },
     "metadata": {},
     "output_type": "display_data"
    },
    {
     "data": {
      "text/html": [
       "<div>\n",
       "<style scoped>\n",
       "    .dataframe tbody tr th:only-of-type {\n",
       "        vertical-align: middle;\n",
       "    }\n",
       "\n",
       "    .dataframe tbody tr th {\n",
       "        vertical-align: top;\n",
       "    }\n",
       "\n",
       "    .dataframe thead th {\n",
       "        text-align: right;\n",
       "    }\n",
       "</style>\n",
       "<table border=\"1\" class=\"dataframe\">\n",
       "  <thead>\n",
       "    <tr style=\"text-align: right;\">\n",
       "      <th></th>\n",
       "      <th>carID</th>\n",
       "      <th>price</th>\n",
       "    </tr>\n",
       "  </thead>\n",
       "  <tbody>\n",
       "    <tr>\n",
       "      <th>0</th>\n",
       "      <td>12000</td>\n",
       "      <td>38000</td>\n",
       "    </tr>\n",
       "    <tr>\n",
       "      <th>1</th>\n",
       "      <td>12001</td>\n",
       "      <td>23495</td>\n",
       "    </tr>\n",
       "    <tr>\n",
       "      <th>2</th>\n",
       "      <td>12004</td>\n",
       "      <td>59999</td>\n",
       "    </tr>\n",
       "    <tr>\n",
       "      <th>3</th>\n",
       "      <td>12013</td>\n",
       "      <td>16713</td>\n",
       "    </tr>\n",
       "    <tr>\n",
       "      <th>4</th>\n",
       "      <td>12017</td>\n",
       "      <td>46000</td>\n",
       "    </tr>\n",
       "  </tbody>\n",
       "</table>\n",
       "</div>"
      ],
      "text/plain": [
       "   carID  price\n",
       "0  12000  38000\n",
       "1  12001  23495\n",
       "2  12004  59999\n",
       "3  12013  16713\n",
       "4  12017  46000"
      ]
     },
     "metadata": {},
     "output_type": "display_data"
    }
   ],
   "source": [
    "import pandas as pd\n",
    "X_train = pd.read_csv(\"https://raw.githubusercontent.com/Datamanim/datarepo/main/carsprice/X_train.csv\")\n",
    "X_test= pd.read_csv(\"https://raw.githubusercontent.com/Datamanim/datarepo/main/carsprice/X_test.csv\")\n",
    "y_train = pd.read_csv(\"https://raw.githubusercontent.com/Datamanim/datarepo/main/carsprice/y_train.csv\")\n",
    "y_test= pd.read_csv('https://raw.githubusercontent.com/Datamanim/datarepo/main/carsprice/y_test.csv')\n",
    "\n",
    "display(X_train.head())\n",
    "display(y_train.head())\n",
    "display(X_test.head())\n",
    "display(y_test.head())"
   ]
  },
  {
   "cell_type": "markdown",
   "id": "2bf1565e",
   "metadata": {},
   "source": [
    "## 1. 데이터셋 확인, EDA"
   ]
  },
  {
   "cell_type": "markdown",
   "id": "f24e2fec",
   "metadata": {},
   "source": [
    "### shape"
   ]
  },
  {
   "cell_type": "code",
   "execution_count": 67,
   "id": "787de009",
   "metadata": {},
   "outputs": [
    {
     "name": "stdout",
     "output_type": "stream",
     "text": [
      "(4960, 10)\n",
      "--------------------------------------------------------------------------------\n",
      "(2672, 10)\n",
      "--------------------------------------------------------------------------------\n",
      "(4960, 2)\n",
      "--------------------------------------------------------------------------------\n"
     ]
    }
   ],
   "source": [
    "print(X_train.shape)\n",
    "print(\"-\"*80)\n",
    "print(X_test.shape)\n",
    "print(\"-\"*80)\n",
    "print(y_train.shape)\n",
    "print(\"-\"*80)"
   ]
  },
  {
   "cell_type": "markdown",
   "id": "e6672f4e",
   "metadata": {},
   "source": [
    "### info"
   ]
  },
  {
   "cell_type": "code",
   "execution_count": 68,
   "id": "803e5a57",
   "metadata": {},
   "outputs": [
    {
     "name": "stdout",
     "output_type": "stream",
     "text": [
      "<class 'pandas.core.frame.DataFrame'>\n",
      "RangeIndex: 4960 entries, 0 to 4959\n",
      "Data columns (total 10 columns):\n",
      " #   Column        Non-Null Count  Dtype  \n",
      "---  ------        --------------  -----  \n",
      " 0   carID         4960 non-null   int64  \n",
      " 1   brand         4960 non-null   object \n",
      " 2   model         4960 non-null   object \n",
      " 3   year          4960 non-null   int64  \n",
      " 4   transmission  4960 non-null   object \n",
      " 5   mileage       4960 non-null   int64  \n",
      " 6   fuelType      4960 non-null   object \n",
      " 7   tax           4960 non-null   float64\n",
      " 8   mpg           4960 non-null   float64\n",
      " 9   engineSize    4960 non-null   float64\n",
      "dtypes: float64(3), int64(3), object(4)\n",
      "memory usage: 387.6+ KB\n",
      "None\n",
      "--------------------------------------------------------------------------------\n",
      "<class 'pandas.core.frame.DataFrame'>\n",
      "RangeIndex: 2672 entries, 0 to 2671\n",
      "Data columns (total 10 columns):\n",
      " #   Column        Non-Null Count  Dtype  \n",
      "---  ------        --------------  -----  \n",
      " 0   carID         2672 non-null   int64  \n",
      " 1   brand         2672 non-null   object \n",
      " 2   model         2672 non-null   object \n",
      " 3   year          2672 non-null   int64  \n",
      " 4   transmission  2672 non-null   object \n",
      " 5   mileage       2672 non-null   int64  \n",
      " 6   fuelType      2672 non-null   object \n",
      " 7   tax           2672 non-null   float64\n",
      " 8   mpg           2672 non-null   float64\n",
      " 9   engineSize    2672 non-null   float64\n",
      "dtypes: float64(3), int64(3), object(4)\n",
      "memory usage: 208.9+ KB\n",
      "None\n",
      "--------------------------------------------------------------------------------\n",
      "<class 'pandas.core.frame.DataFrame'>\n",
      "RangeIndex: 4960 entries, 0 to 4959\n",
      "Data columns (total 2 columns):\n",
      " #   Column  Non-Null Count  Dtype\n",
      "---  ------  --------------  -----\n",
      " 0   carID   4960 non-null   int64\n",
      " 1   price   4960 non-null   int64\n",
      "dtypes: int64(2)\n",
      "memory usage: 77.6 KB\n",
      "None\n",
      "--------------------------------------------------------------------------------\n"
     ]
    }
   ],
   "source": [
    "print(X_train.info())\n",
    "print(\"-\"*80)\n",
    "print(X_test.info())\n",
    "print(\"-\"*80)\n",
    "print(y_train.info())\n",
    "print(\"-\"*80)"
   ]
  },
  {
   "cell_type": "markdown",
   "id": "b71dd7d7",
   "metadata": {},
   "source": [
    "### describe"
   ]
  },
  {
   "cell_type": "code",
   "execution_count": 69,
   "id": "6441665e",
   "metadata": {},
   "outputs": [
    {
     "name": "stdout",
     "output_type": "stream",
     "text": [
      "              carID         year        mileage          tax          mpg  \\\n",
      "count   4960.000000  4960.000000    4960.000000  4960.000000  4960.000000   \n",
      "mean   15832.446169  2016.737903   24956.286895   152.332661    50.370766   \n",
      "std     2206.717006     2.884035   24443.333662    82.403844    35.746505   \n",
      "min    12002.000000  1997.000000       1.000000     0.000000     2.800000   \n",
      "25%    13929.250000  2016.000000    5641.250000   145.000000    38.700000   \n",
      "50%    15840.000000  2017.000000   19000.000000   145.000000    47.100000   \n",
      "75%    17765.750000  2019.000000   36702.000000   150.000000    54.300000   \n",
      "max    19629.000000  2020.000000  259000.000000   580.000000   470.800000   \n",
      "\n",
      "        engineSize  \n",
      "count  4960.000000  \n",
      "mean      2.124375  \n",
      "std       0.789368  \n",
      "min       0.000000  \n",
      "25%       1.600000  \n",
      "50%       2.000000  \n",
      "75%       2.800000  \n",
      "max       6.600000  \n",
      "--------------------------------------------------------------------------------\n",
      "              carID         year        mileage          tax          mpg  \\\n",
      "count   2672.000000  2672.000000    2672.000000  2672.000000  2672.000000   \n",
      "mean   15784.043039  2016.720434   24617.528443   153.261602    49.787275   \n",
      "std     2197.045979     2.898906   23142.032992    80.742530    35.269981   \n",
      "min    12000.000000  1970.000000       1.000000     0.000000     2.800000   \n",
      "25%    13889.750000  2016.000000    6000.000000   145.000000    37.700000   \n",
      "50%    15777.500000  2017.000000   18548.000000   145.000000    47.100000   \n",
      "75%    17661.500000  2019.000000   36272.250000   160.000000    54.300000   \n",
      "max    19631.000000  2020.000000  167054.000000   580.000000   470.800000   \n",
      "\n",
      "        engineSize  \n",
      "count  2672.000000  \n",
      "mean      2.135105  \n",
      "std       0.768596  \n",
      "min       0.000000  \n",
      "25%       1.600000  \n",
      "50%       2.000000  \n",
      "75%       2.800000  \n",
      "max       6.300000  \n",
      "--------------------------------------------------------------------------------\n",
      "              carID          price\n",
      "count   4960.000000    4960.000000\n",
      "mean   15832.446169   23469.943750\n",
      "std     2206.717006   16406.714563\n",
      "min    12002.000000     450.000000\n",
      "25%    13929.250000   12000.000000\n",
      "50%    15840.000000   18999.000000\n",
      "75%    17765.750000   30335.750000\n",
      "max    19629.000000  145000.000000\n",
      "--------------------------------------------------------------------------------\n"
     ]
    }
   ],
   "source": [
    "print(X_train.describe())\n",
    "print(\"-\"*80)\n",
    "print(X_test.describe())\n",
    "print(\"-\"*80)\n",
    "print(y_train.describe())\n",
    "print(\"-\"*80)"
   ]
  },
  {
   "cell_type": "markdown",
   "id": "ce056c8d",
   "metadata": {},
   "source": [
    "### isna"
   ]
  },
  {
   "cell_type": "code",
   "execution_count": 70,
   "id": "bc020375",
   "metadata": {},
   "outputs": [
    {
     "name": "stdout",
     "output_type": "stream",
     "text": [
      "0\n",
      "--------------------------------------------------------------------------------\n",
      "0\n",
      "--------------------------------------------------------------------------------\n",
      "0\n",
      "--------------------------------------------------------------------------------\n"
     ]
    }
   ],
   "source": [
    "print(X_train.isna().sum().sum())\n",
    "print(\"-\"*80)\n",
    "print(X_test.isna().sum().sum())\n",
    "print(\"-\"*80)\n",
    "print(y_train.isna().sum().sum())\n",
    "print(\"-\"*80)"
   ]
  },
  {
   "cell_type": "markdown",
   "id": "733d3c9e",
   "metadata": {},
   "source": [
    "### 불필요 컬럼 제거"
   ]
  },
  {
   "cell_type": "code",
   "execution_count": 71,
   "id": "83b0197a",
   "metadata": {},
   "outputs": [],
   "source": [
    "X_train = X_train.drop(columns = 'carID')\n",
    "y_train = y_train.drop(columns = 'carID')\n",
    "X_test_carID = X_test.pop('carID')"
   ]
  },
  {
   "cell_type": "markdown",
   "id": "a06cd038",
   "metadata": {},
   "source": [
    "## 2. Feature Engineering"
   ]
  },
  {
   "cell_type": "markdown",
   "id": "4bd9b35b",
   "metadata": {},
   "source": [
    "### 표준화(스케일링)"
   ]
  },
  {
   "cell_type": "code",
   "execution_count": 72,
   "id": "8286e96e",
   "metadata": {},
   "outputs": [
    {
     "name": "stdout",
     "output_type": "stream",
     "text": [
      "              year        mileage          tax          mpg   engineSize\n",
      "count  4960.000000    4960.000000  4960.000000  4960.000000  4960.000000\n",
      "mean   2016.737903   24956.286895   152.332661    50.370766     2.124375\n",
      "std       2.884035   24443.333662    82.403844    35.746505     0.789368\n",
      "min    1997.000000       1.000000     0.000000     2.800000     0.000000\n",
      "25%    2016.000000    5641.250000   145.000000    38.700000     1.600000\n",
      "50%    2017.000000   19000.000000   145.000000    47.100000     2.000000\n",
      "75%    2019.000000   36702.000000   150.000000    54.300000     2.800000\n",
      "max    2020.000000  259000.000000   580.000000   470.800000     6.600000\n",
      "--------------------------------------------------------------------------------\n",
      "              year        mileage          tax          mpg   engineSize\n",
      "count  2672.000000    2672.000000  2672.000000  2672.000000  2672.000000\n",
      "mean   2016.720434   24617.528443   153.261602    49.787275     2.135105\n",
      "std       2.898906   23142.032992    80.742530    35.269981     0.768596\n",
      "min    1970.000000       1.000000     0.000000     2.800000     0.000000\n",
      "25%    2016.000000    6000.000000   145.000000    37.700000     1.600000\n",
      "50%    2017.000000   18548.000000   145.000000    47.100000     2.000000\n",
      "75%    2019.000000   36272.250000   160.000000    54.300000     2.800000\n",
      "max    2020.000000  167054.000000   580.000000   470.800000     6.300000\n",
      "--------------------------------------------------------------------------------\n",
      "               price\n",
      "count    4960.000000\n",
      "mean    23469.943750\n",
      "std     16406.714563\n",
      "min       450.000000\n",
      "25%     12000.000000\n",
      "50%     18999.000000\n",
      "75%     30335.750000\n",
      "max    145000.000000\n",
      "--------------------------------------------------------------------------------\n"
     ]
    }
   ],
   "source": [
    "print(X_train.describe())\n",
    "print(\"-\"*80)\n",
    "print(X_test.describe())\n",
    "print(\"-\"*80)\n",
    "print(y_train.describe())\n",
    "print(\"-\"*80)"
   ]
  },
  {
   "cell_type": "code",
   "execution_count": 73,
   "id": "fcfcfcb6",
   "metadata": {},
   "outputs": [],
   "source": [
    "from sklearn.preprocessing import MinMaxScaler\n",
    "Scaler = MinMaxScaler()\n",
    "X_train[['year', 'mileage', 'tax', 'mpg', 'engineSize']] = Scaler.fit_transform(X_train[['year', 'mileage', 'tax', 'mpg', 'engineSize']])\n",
    "X_test[['year', 'mileage', 'tax', 'mpg', 'engineSize']] = Scaler.fit_transform(X_test[['year', 'mileage', 'tax', 'mpg', 'engineSize']])"
   ]
  },
  {
   "cell_type": "markdown",
   "id": "43650492",
   "metadata": {},
   "source": [
    "### 원-핫 인코딩(pd.get_dummies)"
   ]
  },
  {
   "cell_type": "code",
   "execution_count": 74,
   "id": "578a15d8",
   "metadata": {},
   "outputs": [],
   "source": [
    "# X_train = pd.get_dummies(X_train)\n",
    "# X_test = pd.get_dummies(X_test)\n",
    "# # display(X_train.head())\n",
    "# # display(X_test.head())"
   ]
  },
  {
   "cell_type": "code",
   "execution_count": 86,
   "id": "789c1c42",
   "metadata": {},
   "outputs": [],
   "source": [
    "from sklearn.preprocessing import LabelEncoder\n",
    "le = LabelEncoder()\n",
    "X_train['brand'] = le.fit_transform(X_train['brand'])\n",
    "X_train['model'] = le.fit_transform(X_train['model'])\n",
    "X_train['transmission'] = le.fit_transform(X_train['transmission'])\n",
    "X_train['fuelType'] = le.fit_transform(X_train['fuelType'])\n",
    "\n",
    "X_test['brand'] = le.fit_transform(X_test['brand'])\n",
    "X_test['model'] = le.fit_transform(X_test['model'])\n",
    "X_test['transmission'] = le.fit_transform(X_test['transmission'])\n",
    "X_test['fuelType'] = le.fit_transform(X_test['fuelType'])"
   ]
  },
  {
   "cell_type": "markdown",
   "id": "3d1a8bf7",
   "metadata": {},
   "source": [
    "### 데이터 분류(train_test_split)"
   ]
  },
  {
   "cell_type": "code",
   "execution_count": 87,
   "id": "6c999e6b",
   "metadata": {},
   "outputs": [],
   "source": [
    "from sklearn.model_selection import train_test_split\n",
    "X_tr, X_ts, y_tr, y_ts = train_test_split(X_train, y_train, test_size=0.3)"
   ]
  },
  {
   "cell_type": "markdown",
   "id": "b210259d",
   "metadata": {},
   "source": [
    "## 3. 모델링"
   ]
  },
  {
   "cell_type": "markdown",
   "id": "a3432b39",
   "metadata": {},
   "source": [
    "### 랜덤포레스트"
   ]
  },
  {
   "cell_type": "code",
   "execution_count": 88,
   "id": "8e82c96a",
   "metadata": {},
   "outputs": [
    {
     "name": "stderr",
     "output_type": "stream",
     "text": [
      "C:\\Users\\inseo\\AppData\\Local\\Temp\\ipykernel_7828\\540661701.py:3: DataConversionWarning: A column-vector y was passed when a 1d array was expected. Please change the shape of y to (n_samples,), for example using ravel().\n",
      "  modelRF.fit(X_tr, y_tr)\n"
     ]
    },
    {
     "data": {
      "text/plain": [
       "0.9554271514078325"
      ]
     },
     "execution_count": 88,
     "metadata": {},
     "output_type": "execute_result"
    }
   ],
   "source": [
    "from sklearn.ensemble import RandomForestRegressor\n",
    "modelRF = RandomForestRegressor()\n",
    "modelRF.fit(X_tr, y_tr)\n",
    "modelRF.score(X_ts, y_ts)"
   ]
  },
  {
   "cell_type": "markdown",
   "id": "242104f4",
   "metadata": {},
   "source": [
    "## 4. 모델 학습 및 예측, 평가"
   ]
  },
  {
   "cell_type": "code",
   "execution_count": 90,
   "id": "2f73e643",
   "metadata": {},
   "outputs": [
    {
     "data": {
      "text/plain": [
       "0.8128904972006887"
      ]
     },
     "execution_count": 90,
     "metadata": {},
     "output_type": "execute_result"
    }
   ],
   "source": [
    "from sklearn.metrics import r2_score\n",
    "y_pred = modelRF.predict(X_test)\n",
    "r2_score(y_test['price'], y_pred)"
   ]
  },
  {
   "cell_type": "code",
   "execution_count": 93,
   "id": "2a2e244c",
   "metadata": {},
   "outputs": [],
   "source": [
    "pd.DataFrame({'carID':X_test_carID, 'price':y_pred}, ).to_csv('회귀 2. 중고차 가격 예측 데이터.csv', index=False)"
   ]
  },
  {
   "cell_type": "code",
   "execution_count": 94,
   "id": "aed37318",
   "metadata": {},
   "outputs": [
    {
     "data": {
      "text/html": [
       "<div>\n",
       "<style scoped>\n",
       "    .dataframe tbody tr th:only-of-type {\n",
       "        vertical-align: middle;\n",
       "    }\n",
       "\n",
       "    .dataframe tbody tr th {\n",
       "        vertical-align: top;\n",
       "    }\n",
       "\n",
       "    .dataframe thead th {\n",
       "        text-align: right;\n",
       "    }\n",
       "</style>\n",
       "<table border=\"1\" class=\"dataframe\">\n",
       "  <thead>\n",
       "    <tr style=\"text-align: right;\">\n",
       "      <th></th>\n",
       "      <th>carID</th>\n",
       "      <th>price</th>\n",
       "    </tr>\n",
       "  </thead>\n",
       "  <tbody>\n",
       "    <tr>\n",
       "      <th>0</th>\n",
       "      <td>12000</td>\n",
       "      <td>43499.800000</td>\n",
       "    </tr>\n",
       "    <tr>\n",
       "      <th>1</th>\n",
       "      <td>12001</td>\n",
       "      <td>23495.560000</td>\n",
       "    </tr>\n",
       "    <tr>\n",
       "      <th>2</th>\n",
       "      <td>12004</td>\n",
       "      <td>49189.146667</td>\n",
       "    </tr>\n",
       "    <tr>\n",
       "      <th>3</th>\n",
       "      <td>12013</td>\n",
       "      <td>16305.572500</td>\n",
       "    </tr>\n",
       "    <tr>\n",
       "      <th>4</th>\n",
       "      <td>12017</td>\n",
       "      <td>56941.290000</td>\n",
       "    </tr>\n",
       "    <tr>\n",
       "      <th>...</th>\n",
       "      <td>...</td>\n",
       "      <td>...</td>\n",
       "    </tr>\n",
       "    <tr>\n",
       "      <th>2667</th>\n",
       "      <td>19618</td>\n",
       "      <td>48399.000000</td>\n",
       "    </tr>\n",
       "    <tr>\n",
       "      <th>2668</th>\n",
       "      <td>19620</td>\n",
       "      <td>25455.550000</td>\n",
       "    </tr>\n",
       "    <tr>\n",
       "      <th>2669</th>\n",
       "      <td>19626</td>\n",
       "      <td>15563.130000</td>\n",
       "    </tr>\n",
       "    <tr>\n",
       "      <th>2670</th>\n",
       "      <td>19630</td>\n",
       "      <td>20087.680000</td>\n",
       "    </tr>\n",
       "    <tr>\n",
       "      <th>2671</th>\n",
       "      <td>19631</td>\n",
       "      <td>14538.860000</td>\n",
       "    </tr>\n",
       "  </tbody>\n",
       "</table>\n",
       "<p>2672 rows × 2 columns</p>\n",
       "</div>"
      ],
      "text/plain": [
       "      carID         price\n",
       "0     12000  43499.800000\n",
       "1     12001  23495.560000\n",
       "2     12004  49189.146667\n",
       "3     12013  16305.572500\n",
       "4     12017  56941.290000\n",
       "...     ...           ...\n",
       "2667  19618  48399.000000\n",
       "2668  19620  25455.550000\n",
       "2669  19626  15563.130000\n",
       "2670  19630  20087.680000\n",
       "2671  19631  14538.860000\n",
       "\n",
       "[2672 rows x 2 columns]"
      ]
     },
     "execution_count": 94,
     "metadata": {},
     "output_type": "execute_result"
    }
   ],
   "source": [
    "pd.read_csv('회귀 2. 중고차 가격 예측 데이터.csv')"
   ]
  }
 ],
 "metadata": {
  "kernelspec": {
   "display_name": "Python 3 (ipykernel)",
   "language": "python",
   "name": "python3"
  },
  "language_info": {
   "codemirror_mode": {
    "name": "ipython",
    "version": 3
   },
   "file_extension": ".py",
   "mimetype": "text/x-python",
   "name": "python",
   "nbconvert_exporter": "python",
   "pygments_lexer": "ipython3",
   "version": "3.9.12"
  }
 },
 "nbformat": 4,
 "nbformat_minor": 5
}
