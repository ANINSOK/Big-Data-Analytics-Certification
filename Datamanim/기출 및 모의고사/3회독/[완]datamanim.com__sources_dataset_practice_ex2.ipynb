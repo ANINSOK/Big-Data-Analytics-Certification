{
 "cells": [
  {
   "cell_type": "markdown",
   "id": "6eb21d1b",
   "metadata": {},
   "source": [
    "# 2회 기출 변형"
   ]
  },
  {
   "cell_type": "markdown",
   "id": "e4f77094",
   "metadata": {},
   "source": [
    "- 작업 3유형 통계 반영"
   ]
  },
  {
   "cell_type": "markdown",
   "id": "10465416",
   "metadata": {},
   "source": [
    "# 작업 1유형"
   ]
  },
  {
   "cell_type": "markdown",
   "id": "868adaa5",
   "metadata": {},
   "source": [
    "```{attention} \n",
    "데이터설명 : 보스턴집값, 각 행은 지역구별 집값관련된 메타정보 : https://www.kaggle.com/datasets/arunjathari/bostonhousepricedata   \n",
    "**DataUrl = https://raw.githubusercontent.com/Datamanim/datarepo/main/krdatacertificate/e2_p1_1.csv**\n",
    "```"
   ]
  },
  {
   "cell_type": "code",
   "execution_count": 32,
   "id": "311e33b2",
   "metadata": {},
   "outputs": [
    {
     "data": {
      "text/html": [
       "<div>\n",
       "<style scoped>\n",
       "    .dataframe tbody tr th:only-of-type {\n",
       "        vertical-align: middle;\n",
       "    }\n",
       "\n",
       "    .dataframe tbody tr th {\n",
       "        vertical-align: top;\n",
       "    }\n",
       "\n",
       "    .dataframe thead th {\n",
       "        text-align: right;\n",
       "    }\n",
       "</style>\n",
       "<table border=\"1\" class=\"dataframe\">\n",
       "  <thead>\n",
       "    <tr style=\"text-align: right;\">\n",
       "      <th></th>\n",
       "      <th>CRIM</th>\n",
       "      <th>ZN</th>\n",
       "      <th>INDUS</th>\n",
       "      <th>CHAS</th>\n",
       "      <th>NOX</th>\n",
       "      <th>RM</th>\n",
       "      <th>AGE</th>\n",
       "      <th>DIS</th>\n",
       "      <th>RAD</th>\n",
       "      <th>TAX</th>\n",
       "      <th>PTRATIO</th>\n",
       "      <th>B</th>\n",
       "      <th>LSTAT</th>\n",
       "      <th>MEDV</th>\n",
       "    </tr>\n",
       "  </thead>\n",
       "  <tbody>\n",
       "    <tr>\n",
       "      <th>0</th>\n",
       "      <td>0.00632</td>\n",
       "      <td>NaN</td>\n",
       "      <td>2.31</td>\n",
       "      <td>0</td>\n",
       "      <td>0.538</td>\n",
       "      <td>6.575</td>\n",
       "      <td>65.2</td>\n",
       "      <td>4.0900</td>\n",
       "      <td>1</td>\n",
       "      <td>296.0</td>\n",
       "      <td>15.3</td>\n",
       "      <td>396.9</td>\n",
       "      <td>4.98</td>\n",
       "      <td>24.0</td>\n",
       "    </tr>\n",
       "    <tr>\n",
       "      <th>1</th>\n",
       "      <td>0.02731</td>\n",
       "      <td>NaN</td>\n",
       "      <td>7.07</td>\n",
       "      <td>0</td>\n",
       "      <td>0.469</td>\n",
       "      <td>6.421</td>\n",
       "      <td>78.9</td>\n",
       "      <td>4.9671</td>\n",
       "      <td>2</td>\n",
       "      <td>242.0</td>\n",
       "      <td>17.8</td>\n",
       "      <td>396.9</td>\n",
       "      <td>9.14</td>\n",
       "      <td>21.6</td>\n",
       "    </tr>\n",
       "  </tbody>\n",
       "</table>\n",
       "</div>"
      ],
      "text/plain": [
       "      CRIM  ZN  INDUS  CHAS    NOX     RM   AGE     DIS  RAD    TAX  PTRATIO  \\\n",
       "0  0.00632 NaN   2.31     0  0.538  6.575  65.2  4.0900    1  296.0     15.3   \n",
       "1  0.02731 NaN   7.07     0  0.469  6.421  78.9  4.9671    2  242.0     17.8   \n",
       "\n",
       "       B  LSTAT  MEDV  \n",
       "0  396.9   4.98  24.0  \n",
       "1  396.9   9.14  21.6  "
      ]
     },
     "execution_count": 32,
     "metadata": {},
     "output_type": "execute_result"
    }
   ],
   "source": [
    "import pandas as pd\n",
    "df = pd.read_csv('https://raw.githubusercontent.com/Datamanim/datarepo/main/krdatacertificate/e2_p1_1.csv')\n",
    "df.head(2)"
   ]
  },
  {
   "cell_type": "markdown",
   "id": "9c5a33e8",
   "metadata": {},
   "source": [
    "```{admonition} 1-1\n",
    "주어진 Dataset에서 CRIM값이 가장 큰 10개의 지역을 구하고     \n",
    "10개의 지역의 CRIM값을 그 중 가장 작은 값으로 대체하라. 그리고          \n",
    "AGE 컬럼 값이 80이상인 대체 된 CRIM 평균값을 구하라      \n",
    "```"
   ]
  },
  {
   "cell_type": "code",
   "execution_count": 33,
   "id": "cf045d50",
   "metadata": {
    "scrolled": true
   },
   "outputs": [
    {
     "name": "stderr",
     "output_type": "stream",
     "text": [
      "C:\\Users\\inseo\\AppData\\Local\\Temp\\ipykernel_11076\\1594028200.py:2: SettingWithCopyWarning: \n",
      "A value is trying to be set on a copy of a slice from a DataFrame\n",
      "\n",
      "See the caveats in the documentation: https://pandas.pydata.org/pandas-docs/stable/user_guide/indexing.html#returning-a-view-versus-a-copy\n",
      "  tmp['CRIM'][:10] = tmp['CRIM'].values[9]\n"
     ]
    },
    {
     "data": {
      "text/plain": [
       "5.759386624999999"
      ]
     },
     "execution_count": 33,
     "metadata": {},
     "output_type": "execute_result"
    }
   ],
   "source": [
    "tmp = df.sort_values('CRIM',ascending = False)\n",
    "tmp['CRIM'][:10] = tmp['CRIM'].values[9]\n",
    "tmp[tmp['AGE'] >= 80].CRIM.mean()"
   ]
  },
  {
   "cell_type": "markdown",
   "id": "aed5a985",
   "metadata": {},
   "source": [
    "```{admonition} 1-2\n",
    "**1-1에서 사용한 데이터에서 RM 중앙값으로 해당 컬럼의 결측치를 대체하라          \n",
    "그리고 해당 컬럼의 결측치 대치 전후의 표준편차 차이의 절댓값을 소숫점 이하 3째자리 까지 구하라**\n",
    "```"
   ]
  },
  {
   "cell_type": "code",
   "execution_count": 36,
   "id": "3b8ae762",
   "metadata": {},
   "outputs": [
    {
     "data": {
      "text/plain": [
       "0.027"
      ]
     },
     "execution_count": 36,
     "metadata": {},
     "output_type": "execute_result"
    }
   ],
   "source": [
    "tmp2 = tmp.copy()\n",
    "tmp2['RM'] = tmp2['RM'].fillna(tmp2['RM'].median())\n",
    "round(tmp['RM'].std() - tmp2['RM'].std(),3)"
   ]
  },
  {
   "cell_type": "markdown",
   "id": "34679485",
   "metadata": {},
   "source": [
    "```{admonition} 1-3\n",
    "**주어진 Dataset의 DIS 평균으로 부터 1.5 * 표준편차를 벗어나는 영역을 이상치라고 판단하고     \n",
    "DIS 컬럼의 이상치들의 합을 구하여라.**\n",
    "```"
   ]
  },
  {
   "cell_type": "code",
   "execution_count": 44,
   "id": "d8667e65",
   "metadata": {},
   "outputs": [
    {
     "data": {
      "text/plain": [
       "404.4101"
      ]
     },
     "execution_count": 44,
     "metadata": {},
     "output_type": "execute_result"
    }
   ],
   "source": [
    "평균 = df['DIS'].mean()\n",
    "표준편차 = df['DIS'].std()\n",
    "\n",
    "상한 = 평균 + 표준편차*1.5\n",
    "하한 = 평균 - 표준편차*1.5\n",
    "\n",
    "상한치 = df[df['DIS']>상한].DIS.sum()\n",
    "하한치 = df[df['DIS']<하한].DIS.sum()\n",
    "상한치 + 하한치"
   ]
  },
  {
   "cell_type": "markdown",
   "id": "1f388d12",
   "metadata": {},
   "source": [
    "# 작업 2유형"
   ]
  },
  {
   "cell_type": "markdown",
   "id": "2c526730",
   "metadata": {},
   "source": [
    "```{attention}  \n",
    "데이터 설명 : e-commerce 배송의 정시 도착여부 (1: 정시배송 0 : 정시미배송)    \n",
    "x_train: https://raw.githubusercontent.com/Datamanim/datarepo/main/shipping/X_train.csv    \n",
    "y_train: https://raw.githubusercontent.com/Datamanim/datarepo/main/shipping/y_train.csv  \n",
    "x_test: https://raw.githubusercontent.com/Datamanim/datarepo/main/shipping/X_test.csv    \n",
    "x_label(평가용) : https://raw.githubusercontent.com/Datamanim/datarepo/main/shipping/y_test.csv    \n",
    "데이터 출처 :https://www.kaggle.com/datasets/prachi13/customer-analytics (참고, 데이터 수정)       \n",
    "\n",
    "**x_train 데이터로 학습한 모델을 x_test에 적용하여 예측한 결과를 제출하라. 평가 지표는 f1_score이다.**\n",
    "```  "
   ]
  },
  {
   "cell_type": "code",
   "execution_count": 138,
   "id": "447617ef",
   "metadata": {},
   "outputs": [
    {
     "data": {
      "text/html": [
       "<div>\n",
       "<style scoped>\n",
       "    .dataframe tbody tr th:only-of-type {\n",
       "        vertical-align: middle;\n",
       "    }\n",
       "\n",
       "    .dataframe tbody tr th {\n",
       "        vertical-align: top;\n",
       "    }\n",
       "\n",
       "    .dataframe thead th {\n",
       "        text-align: right;\n",
       "    }\n",
       "</style>\n",
       "<table border=\"1\" class=\"dataframe\">\n",
       "  <thead>\n",
       "    <tr style=\"text-align: right;\">\n",
       "      <th></th>\n",
       "      <th>ID</th>\n",
       "      <th>Warehouse_block</th>\n",
       "      <th>Mode_of_Shipment</th>\n",
       "      <th>Customer_care_calls</th>\n",
       "      <th>Customer_rating</th>\n",
       "      <th>Cost_of_the_Product</th>\n",
       "      <th>Prior_purchases</th>\n",
       "      <th>Product_importance</th>\n",
       "      <th>Gender</th>\n",
       "      <th>Discount_offered</th>\n",
       "      <th>Weight_in_gms</th>\n",
       "    </tr>\n",
       "  </thead>\n",
       "  <tbody>\n",
       "    <tr>\n",
       "      <th>0</th>\n",
       "      <td>6045</td>\n",
       "      <td>A</td>\n",
       "      <td>Flight</td>\n",
       "      <td>4</td>\n",
       "      <td>3</td>\n",
       "      <td>266</td>\n",
       "      <td>5</td>\n",
       "      <td>high</td>\n",
       "      <td>F</td>\n",
       "      <td>5</td>\n",
       "      <td>1590</td>\n",
       "    </tr>\n",
       "    <tr>\n",
       "      <th>1</th>\n",
       "      <td>44</td>\n",
       "      <td>F</td>\n",
       "      <td>Ship</td>\n",
       "      <td>3</td>\n",
       "      <td>1</td>\n",
       "      <td>174</td>\n",
       "      <td>2</td>\n",
       "      <td>low</td>\n",
       "      <td>M</td>\n",
       "      <td>44</td>\n",
       "      <td>1556</td>\n",
       "    </tr>\n",
       "    <tr>\n",
       "      <th>2</th>\n",
       "      <td>7940</td>\n",
       "      <td>F</td>\n",
       "      <td>Road</td>\n",
       "      <td>4</td>\n",
       "      <td>1</td>\n",
       "      <td>154</td>\n",
       "      <td>10</td>\n",
       "      <td>high</td>\n",
       "      <td>M</td>\n",
       "      <td>10</td>\n",
       "      <td>5674</td>\n",
       "    </tr>\n",
       "    <tr>\n",
       "      <th>3</th>\n",
       "      <td>1596</td>\n",
       "      <td>F</td>\n",
       "      <td>Ship</td>\n",
       "      <td>4</td>\n",
       "      <td>3</td>\n",
       "      <td>158</td>\n",
       "      <td>3</td>\n",
       "      <td>medium</td>\n",
       "      <td>F</td>\n",
       "      <td>27</td>\n",
       "      <td>1207</td>\n",
       "    </tr>\n",
       "    <tr>\n",
       "      <th>4</th>\n",
       "      <td>4395</td>\n",
       "      <td>A</td>\n",
       "      <td>Flight</td>\n",
       "      <td>5</td>\n",
       "      <td>3</td>\n",
       "      <td>175</td>\n",
       "      <td>3</td>\n",
       "      <td>low</td>\n",
       "      <td>M</td>\n",
       "      <td>7</td>\n",
       "      <td>4833</td>\n",
       "    </tr>\n",
       "  </tbody>\n",
       "</table>\n",
       "</div>"
      ],
      "text/plain": [
       "     ID Warehouse_block Mode_of_Shipment Customer_care_calls  Customer_rating  \\\n",
       "0  6045               A           Flight                   4                3   \n",
       "1    44               F             Ship                   3                1   \n",
       "2  7940               F             Road                   4                1   \n",
       "3  1596               F             Ship                   4                3   \n",
       "4  4395               A           Flight                   5                3   \n",
       "\n",
       "   Cost_of_the_Product  Prior_purchases Product_importance Gender  \\\n",
       "0                  266                5               high      F   \n",
       "1                  174                2                low      M   \n",
       "2                  154               10               high      M   \n",
       "3                  158                3             medium      F   \n",
       "4                  175                3                low      M   \n",
       "\n",
       "   Discount_offered  Weight_in_gms  \n",
       "0                 5           1590  \n",
       "1                44           1556  \n",
       "2                10           5674  \n",
       "3                27           1207  \n",
       "4                 7           4833  "
      ]
     },
     "metadata": {},
     "output_type": "display_data"
    },
    {
     "data": {
      "text/html": [
       "<div>\n",
       "<style scoped>\n",
       "    .dataframe tbody tr th:only-of-type {\n",
       "        vertical-align: middle;\n",
       "    }\n",
       "\n",
       "    .dataframe tbody tr th {\n",
       "        vertical-align: top;\n",
       "    }\n",
       "\n",
       "    .dataframe thead th {\n",
       "        text-align: right;\n",
       "    }\n",
       "</style>\n",
       "<table border=\"1\" class=\"dataframe\">\n",
       "  <thead>\n",
       "    <tr style=\"text-align: right;\">\n",
       "      <th></th>\n",
       "      <th>ID</th>\n",
       "      <th>Reached.on.Time_Y.N</th>\n",
       "    </tr>\n",
       "  </thead>\n",
       "  <tbody>\n",
       "    <tr>\n",
       "      <th>0</th>\n",
       "      <td>6045</td>\n",
       "      <td>0</td>\n",
       "    </tr>\n",
       "    <tr>\n",
       "      <th>1</th>\n",
       "      <td>44</td>\n",
       "      <td>1</td>\n",
       "    </tr>\n",
       "    <tr>\n",
       "      <th>2</th>\n",
       "      <td>7940</td>\n",
       "      <td>1</td>\n",
       "    </tr>\n",
       "    <tr>\n",
       "      <th>3</th>\n",
       "      <td>1596</td>\n",
       "      <td>1</td>\n",
       "    </tr>\n",
       "    <tr>\n",
       "      <th>4</th>\n",
       "      <td>4395</td>\n",
       "      <td>1</td>\n",
       "    </tr>\n",
       "  </tbody>\n",
       "</table>\n",
       "</div>"
      ],
      "text/plain": [
       "     ID  Reached.on.Time_Y.N\n",
       "0  6045                    0\n",
       "1    44                    1\n",
       "2  7940                    1\n",
       "3  1596                    1\n",
       "4  4395                    1"
      ]
     },
     "metadata": {},
     "output_type": "display_data"
    },
    {
     "data": {
      "text/html": [
       "<div>\n",
       "<style scoped>\n",
       "    .dataframe tbody tr th:only-of-type {\n",
       "        vertical-align: middle;\n",
       "    }\n",
       "\n",
       "    .dataframe tbody tr th {\n",
       "        vertical-align: top;\n",
       "    }\n",
       "\n",
       "    .dataframe thead th {\n",
       "        text-align: right;\n",
       "    }\n",
       "</style>\n",
       "<table border=\"1\" class=\"dataframe\">\n",
       "  <thead>\n",
       "    <tr style=\"text-align: right;\">\n",
       "      <th></th>\n",
       "      <th>ID</th>\n",
       "      <th>Warehouse_block</th>\n",
       "      <th>Mode_of_Shipment</th>\n",
       "      <th>Customer_care_calls</th>\n",
       "      <th>Customer_rating</th>\n",
       "      <th>Cost_of_the_Product</th>\n",
       "      <th>Prior_purchases</th>\n",
       "      <th>Product_importance</th>\n",
       "      <th>Gender</th>\n",
       "      <th>Discount_offered</th>\n",
       "      <th>Weight_in_gms</th>\n",
       "    </tr>\n",
       "  </thead>\n",
       "  <tbody>\n",
       "    <tr>\n",
       "      <th>0</th>\n",
       "      <td>6811</td>\n",
       "      <td>D</td>\n",
       "      <td>Ship</td>\n",
       "      <td>5</td>\n",
       "      <td>2</td>\n",
       "      <td>259</td>\n",
       "      <td>5</td>\n",
       "      <td>low</td>\n",
       "      <td>F</td>\n",
       "      <td>7</td>\n",
       "      <td>1032</td>\n",
       "    </tr>\n",
       "    <tr>\n",
       "      <th>1</th>\n",
       "      <td>4320</td>\n",
       "      <td>F</td>\n",
       "      <td>Ship</td>\n",
       "      <td>3</td>\n",
       "      <td>5</td>\n",
       "      <td>133</td>\n",
       "      <td>3</td>\n",
       "      <td>medium</td>\n",
       "      <td>F</td>\n",
       "      <td>4</td>\n",
       "      <td>5902</td>\n",
       "    </tr>\n",
       "    <tr>\n",
       "      <th>2</th>\n",
       "      <td>5732</td>\n",
       "      <td>F</td>\n",
       "      <td>Road</td>\n",
       "      <td>3</td>\n",
       "      <td>4</td>\n",
       "      <td>191</td>\n",
       "      <td>5</td>\n",
       "      <td>medium</td>\n",
       "      <td>F</td>\n",
       "      <td>4</td>\n",
       "      <td>4243</td>\n",
       "    </tr>\n",
       "    <tr>\n",
       "      <th>3</th>\n",
       "      <td>7429</td>\n",
       "      <td>D</td>\n",
       "      <td>Ship</td>\n",
       "      <td>4</td>\n",
       "      <td>2</td>\n",
       "      <td>221</td>\n",
       "      <td>3</td>\n",
       "      <td>low</td>\n",
       "      <td>M</td>\n",
       "      <td>10</td>\n",
       "      <td>4126</td>\n",
       "    </tr>\n",
       "    <tr>\n",
       "      <th>4</th>\n",
       "      <td>2191</td>\n",
       "      <td>D</td>\n",
       "      <td>Flight</td>\n",
       "      <td>4</td>\n",
       "      <td>5</td>\n",
       "      <td>230</td>\n",
       "      <td>2</td>\n",
       "      <td>low</td>\n",
       "      <td>F</td>\n",
       "      <td>38</td>\n",
       "      <td>2890</td>\n",
       "    </tr>\n",
       "  </tbody>\n",
       "</table>\n",
       "</div>"
      ],
      "text/plain": [
       "     ID Warehouse_block Mode_of_Shipment Customer_care_calls  Customer_rating  \\\n",
       "0  6811               D             Ship                   5                2   \n",
       "1  4320               F             Ship                   3                5   \n",
       "2  5732               F             Road                   3                4   \n",
       "3  7429               D             Ship                   4                2   \n",
       "4  2191               D           Flight                   4                5   \n",
       "\n",
       "   Cost_of_the_Product  Prior_purchases Product_importance Gender  \\\n",
       "0                  259                5                low      F   \n",
       "1                  133                3             medium      F   \n",
       "2                  191                5             medium      F   \n",
       "3                  221                3                low      M   \n",
       "4                  230                2                low      F   \n",
       "\n",
       "   Discount_offered  Weight_in_gms  \n",
       "0                 7           1032  \n",
       "1                 4           5902  \n",
       "2                 4           4243  \n",
       "3                10           4126  \n",
       "4                38           2890  "
      ]
     },
     "metadata": {},
     "output_type": "display_data"
    }
   ],
   "source": [
    "import pandas as pd\n",
    "from sklearn.preprocessing import RobustScaler, LabelEncoder\n",
    "from sklearn.model_selection import train_test_split\n",
    "from sklearn.ensemble import RandomForestClassifier\n",
    "from sklearn.metrics import f1_score\n",
    "\n",
    "X_train = pd.read_csv('https://raw.githubusercontent.com/Datamanim/datarepo/main/shipping/X_train.csv')\n",
    "y_train = pd.read_csv('https://raw.githubusercontent.com/Datamanim/datarepo/main/shipping/y_train.csv')\n",
    "X_test = pd.read_csv('https://raw.githubusercontent.com/Datamanim/datarepo/main/shipping/X_test.csv')\n",
    "\n",
    "display(X_train.head())\n",
    "display(y_train.head())\n",
    "display(X_test.head())\n"
   ]
  },
  {
   "cell_type": "code",
   "execution_count": 64,
   "id": "3c7985af",
   "metadata": {},
   "outputs": [],
   "source": [
    "# print(X_train.shape)\n",
    "# print(\"=\"*100)\n",
    "# print(y_train.shape)\n",
    "# print(\"=\"*100)\n",
    "# print(X_test.shape)\n",
    "# print(\"=\"*100)\n",
    "\n",
    "# print(X_train.info())\n",
    "# print(\"=\"*100)\n",
    "# print(y_train.info())\n",
    "# print(\"=\"*100)\n",
    "# print(X_test.info())\n",
    "# print(\"=\"*100)\n",
    "\n",
    "# print(X_train.describe())\n",
    "# print(\"=\"*100)\n",
    "# print(y_train.describe())\n",
    "# print(\"=\"*100)\n",
    "# print(X_test.describe())\n",
    "# print(\"=\"*100)\n",
    "\n",
    "# print(X_train.isna().sum().sum())\n",
    "# print(\"=\"*100)\n",
    "# print(y_train.isna().sum().sum())\n",
    "# print(\"=\"*100)\n",
    "# print(X_test.isna().sum().sum())\n",
    "# print(\"=\"*100)\n"
   ]
  },
  {
   "cell_type": "code",
   "execution_count": 139,
   "id": "d05b0a29",
   "metadata": {},
   "outputs": [],
   "source": [
    "X_train = X_train.drop(columns = ['ID', 'Cost_of_the_Product', 'Discount_offered'])\n",
    "y_train = y_train.drop(columns = 'ID')\n",
    "X_test = X_test.drop(columns = ['Cost_of_the_Product', 'Discount_offered'])\n",
    "X_test_ID = X_test.pop('ID')\n",
    "\n",
    "le = LabelEncoder()\n",
    "\n",
    "scaler = RobustScaler()"
   ]
  },
  {
   "cell_type": "code",
   "execution_count": null,
   "id": "cb7161da",
   "metadata": {},
   "outputs": [],
   "source": [
    "#drop : 'ID', \n",
    "#pop :\n",
    "#겟더미 : 'Warehouse_block', 'Mode_of_Shipment', 'Product_importance', 'Gender'\n",
    "#라벨인코딩 : 'Customer_care_calls'\n",
    "#스케일링 : Customer_rating, Prior_purchases, Weight_in_gms,'Cost_of_the_Product', 'Discount_offered'"
   ]
  },
  {
   "cell_type": "code",
   "execution_count": 140,
   "id": "803b3795",
   "metadata": {},
   "outputs": [],
   "source": [
    "le = LabelEncoder()\n",
    "\n",
    "X_train['Customer_care_calls'] = le.fit_transform(X_train['Customer_care_calls'])\n",
    "X_test['Customer_care_calls'] = le.fit_transform(X_test['Customer_care_calls'])\n",
    "\n",
    "\n",
    "scaler = RobustScaler()\n",
    "ls = ['Customer_rating', 'Prior_purchases', 'Weight_in_gms']\n",
    "\n",
    "X_train[ls] = scaler.fit_transform(X_train[ls])\n",
    "X_test[ls] = scaler.fit_transform(X_test[ls])"
   ]
  },
  {
   "cell_type": "code",
   "execution_count": 141,
   "id": "6b6a8fa4",
   "metadata": {},
   "outputs": [],
   "source": [
    "X_train = pd.get_dummies(X_train)\n",
    "X_test = pd.get_dummies(X_test)"
   ]
  },
  {
   "cell_type": "code",
   "execution_count": 149,
   "id": "c98de4b2",
   "metadata": {},
   "outputs": [],
   "source": [
    "X_tr, X_ts, y_tr, y_ts = train_test_split(X_train, y_train, test_size = 0.2, stratify = y_train)"
   ]
  },
  {
   "cell_type": "code",
   "execution_count": 150,
   "id": "d4df68c8",
   "metadata": {},
   "outputs": [
    {
     "name": "stdout",
     "output_type": "stream",
     "text": [
      "0.7052023121387283\n",
      "0.7141931302657161\n",
      "0.7141931302657161\n",
      "0.7141931302657161\n",
      "0.7052023121387283\n",
      "0.7084468664850135\n",
      "0.7163588390501319\n"
     ]
    }
   ],
   "source": [
    "import numpy as np\n",
    "modelRF = RandomForestClassifier()\n",
    "modelRF.fit(X_tr, np.ravel(y_tr))\n",
    "y_pred = modelRF.predict(X_ts)\n",
    "print(f1_score(y_pred, y_ts))\n",
    "\n",
    "modelRF4 = RandomForestClassifier(n_estimators = 20, max_depth = 5, random_state=1234)\n",
    "modelRF4.fit(X_tr, np.ravel(y_tr))\n",
    "y_pred4 = modelRF4.predict(X_ts)\n",
    "print(f1_score(y_pred4, y_ts))\n",
    "\n",
    "modelRF5 = RandomForestClassifier(n_estimators = 20, max_depth = 5, random_state=1234)\n",
    "modelRF5.fit(X_tr, np.ravel(y_tr))\n",
    "y_pred5 = modelRF5.predict(X_ts)\n",
    "print(f1_score(y_pred5, y_ts))\n",
    "\n",
    "modelRF6 = RandomForestClassifier(n_estimators = 20, max_depth = 5, random_state=1234)\n",
    "modelRF6.fit(X_tr, np.ravel(y_tr))\n",
    "y_pred6 = modelRF6.predict(X_ts)\n",
    "print(f1_score(y_pred6, y_ts))\n",
    "\n",
    "modelRF7 = RandomForestClassifier(n_estimators = 20, max_depth = 5)\n",
    "modelRF7.fit(X_tr, np.ravel(y_tr))\n",
    "y_pred = modelRF.predict(X_ts)\n",
    "print(f1_score(y_pred, y_ts))\n",
    "\n",
    "modelRF8 = RandomForestClassifier(n_estimators = 20, max_depth = 8)\n",
    "modelRF8.fit(X_tr, np.ravel(y_tr))\n",
    "y_pred8 = modelRF8.predict(X_ts)\n",
    "print(f1_score(y_pred8, y_ts))\n",
    "\n",
    "modelRF9 = RandomForestClassifier(n_estimators = 20, max_depth = 8)\n",
    "modelRF9.fit(X_tr, np.ravel(y_tr))\n",
    "y_pred9 = modelRF9.predict(X_ts)\n",
    "print(f1_score(y_pred9, y_ts))"
   ]
  },
  {
   "cell_type": "code",
   "execution_count": 158,
   "id": "d171f854",
   "metadata": {},
   "outputs": [
    {
     "data": {
      "text/html": [
       "<div>\n",
       "<style scoped>\n",
       "    .dataframe tbody tr th:only-of-type {\n",
       "        vertical-align: middle;\n",
       "    }\n",
       "\n",
       "    .dataframe tbody tr th {\n",
       "        vertical-align: top;\n",
       "    }\n",
       "\n",
       "    .dataframe thead th {\n",
       "        text-align: right;\n",
       "    }\n",
       "</style>\n",
       "<table border=\"1\" class=\"dataframe\">\n",
       "  <thead>\n",
       "    <tr style=\"text-align: right;\">\n",
       "      <th></th>\n",
       "      <th>ID</th>\n",
       "      <th>Reached.on.Time_Y.N</th>\n",
       "    </tr>\n",
       "  </thead>\n",
       "  <tbody>\n",
       "    <tr>\n",
       "      <th>0</th>\n",
       "      <td>6811</td>\n",
       "      <td>1</td>\n",
       "    </tr>\n",
       "    <tr>\n",
       "      <th>1</th>\n",
       "      <td>4320</td>\n",
       "      <td>0</td>\n",
       "    </tr>\n",
       "    <tr>\n",
       "      <th>2</th>\n",
       "      <td>5732</td>\n",
       "      <td>0</td>\n",
       "    </tr>\n",
       "    <tr>\n",
       "      <th>3</th>\n",
       "      <td>7429</td>\n",
       "      <td>0</td>\n",
       "    </tr>\n",
       "    <tr>\n",
       "      <th>4</th>\n",
       "      <td>2191</td>\n",
       "      <td>1</td>\n",
       "    </tr>\n",
       "    <tr>\n",
       "      <th>...</th>\n",
       "      <td>...</td>\n",
       "      <td>...</td>\n",
       "    </tr>\n",
       "    <tr>\n",
       "      <th>4396</th>\n",
       "      <td>2610</td>\n",
       "      <td>1</td>\n",
       "    </tr>\n",
       "    <tr>\n",
       "      <th>4397</th>\n",
       "      <td>3406</td>\n",
       "      <td>1</td>\n",
       "    </tr>\n",
       "    <tr>\n",
       "      <th>4398</th>\n",
       "      <td>10395</td>\n",
       "      <td>0</td>\n",
       "    </tr>\n",
       "    <tr>\n",
       "      <th>4399</th>\n",
       "      <td>3646</td>\n",
       "      <td>0</td>\n",
       "    </tr>\n",
       "    <tr>\n",
       "      <th>4400</th>\n",
       "      <td>573</td>\n",
       "      <td>1</td>\n",
       "    </tr>\n",
       "  </tbody>\n",
       "</table>\n",
       "<p>4401 rows × 2 columns</p>\n",
       "</div>"
      ],
      "text/plain": [
       "         ID  Reached.on.Time_Y.N\n",
       "0      6811                    1\n",
       "1      4320                    0\n",
       "2      5732                    0\n",
       "3      7429                    0\n",
       "4      2191                    1\n",
       "...     ...                  ...\n",
       "4396   2610                    1\n",
       "4397   3406                    1\n",
       "4398  10395                    0\n",
       "4399   3646                    0\n",
       "4400    573                    1\n",
       "\n",
       "[4401 rows x 2 columns]"
      ]
     },
     "execution_count": 158,
     "metadata": {},
     "output_type": "execute_result"
    }
   ],
   "source": [
    "modelRF = RandomForestClassifier(n_estimators = 20, max_depth = 5, random_state=2222)\n",
    "modelRF.fit(X_train, np.ravel(y_train))\n",
    "y_pred = modelRF.predict(X_ts)\n",
    "# print(f1_score(y_pred, y_ts))\n",
    "\n",
    "result = modelRF.predict(X_test)\n",
    "\n",
    "pd.DataFrame({\"ID\":X_test_ID , \"Reached.on.Time_Y.N\":result})\n"
   ]
  },
  {
   "cell_type": "markdown",
   "id": "8638ee67",
   "metadata": {},
   "source": [
    "# 작업 3유형"
   ]
  },
  {
   "cell_type": "markdown",
   "id": "d7e952b7",
   "metadata": {},
   "source": [
    "```{attention} \n",
    "어느 호수에서 잡은 물고기 122마리 길이 데이터(자체제작)\n",
    "**DataUrl = https://raw.githubusercontent.com/Datamanim/datarepo/main/krdatacertificate/e2_p3_1.csv**\n",
    "```"
   ]
  },
  {
   "cell_type": "code",
   "execution_count": 159,
   "id": "89cdbf2e",
   "metadata": {},
   "outputs": [
    {
     "data": {
      "text/html": [
       "<div>\n",
       "<style scoped>\n",
       "    .dataframe tbody tr th:only-of-type {\n",
       "        vertical-align: middle;\n",
       "    }\n",
       "\n",
       "    .dataframe tbody tr th {\n",
       "        vertical-align: top;\n",
       "    }\n",
       "\n",
       "    .dataframe thead th {\n",
       "        text-align: right;\n",
       "    }\n",
       "</style>\n",
       "<table border=\"1\" class=\"dataframe\">\n",
       "  <thead>\n",
       "    <tr style=\"text-align: right;\">\n",
       "      <th></th>\n",
       "      <th>fish</th>\n",
       "      <th>height</th>\n",
       "    </tr>\n",
       "  </thead>\n",
       "  <tbody>\n",
       "    <tr>\n",
       "      <th>0</th>\n",
       "      <td>fish_1</td>\n",
       "      <td>33.74cm</td>\n",
       "    </tr>\n",
       "    <tr>\n",
       "      <th>1</th>\n",
       "      <td>fish_2</td>\n",
       "      <td>31.64cm</td>\n",
       "    </tr>\n",
       "    <tr>\n",
       "      <th>2</th>\n",
       "      <td>fish_3</td>\n",
       "      <td>27.49cm</td>\n",
       "    </tr>\n",
       "    <tr>\n",
       "      <th>3</th>\n",
       "      <td>fish_4</td>\n",
       "      <td>31.43cm</td>\n",
       "    </tr>\n",
       "    <tr>\n",
       "      <th>4</th>\n",
       "      <td>fish_5</td>\n",
       "      <td>27.56cm</td>\n",
       "    </tr>\n",
       "  </tbody>\n",
       "</table>\n",
       "</div>"
      ],
      "text/plain": [
       "     fish   height\n",
       "0  fish_1  33.74cm\n",
       "1  fish_2  31.64cm\n",
       "2  fish_3  27.49cm\n",
       "3  fish_4  31.43cm\n",
       "4  fish_5  27.56cm"
      ]
     },
     "execution_count": 159,
     "metadata": {},
     "output_type": "execute_result"
    }
   ],
   "source": [
    "df = pd.read_csv('https://raw.githubusercontent.com/Datamanim/datarepo/main/krdatacertificate/e2_p3_1.csv')\n",
    "df.head()"
   ]
  },
  {
   "cell_type": "markdown",
   "id": "fdd83bf9",
   "metadata": {},
   "source": [
    "```{admonition} 3-1-a\n",
    "**122마리의 height 평균값을 m(미터) 단위로 소숫점 이하 5자리까지 실수 값만 출력하라**\n",
    "```"
   ]
  },
  {
   "cell_type": "code",
   "execution_count": 166,
   "id": "7cdd79d2",
   "metadata": {},
   "outputs": [
    {
     "data": {
      "text/plain": [
       "0.29951"
      ]
     },
     "execution_count": 166,
     "metadata": {},
     "output_type": "execute_result"
    }
   ],
   "source": [
    "df['미터'] = df['height'].str.replace('cm', '').astype('float')*0.01\n",
    "round(df['미터'].mean(),5)"
   ]
  },
  {
   "cell_type": "markdown",
   "id": "7164c60d",
   "metadata": {},
   "source": [
    "```{admonition} 3-1-b\n",
    "**모집단의 평균 길이가 30cm 인지 확인하려 일표본 t 검정을 시행하여 확인하려한다. 검정통계량을 소숫점 이하 3째자리까지 구하여라**\n",
    "```"
   ]
  },
  {
   "cell_type": "code",
   "execution_count": 171,
   "id": "9ac71bd9",
   "metadata": {},
   "outputs": [
    {
     "name": "stdout",
     "output_type": "stream",
     "text": [
      "-0.217\n"
     ]
    }
   ],
   "source": [
    "from scipy.stats import ttest_1samp\n",
    "s, p = ttest_1samp(df['미터'], popmean=0.3)\n",
    "print(round(s,3))"
   ]
  },
  {
   "cell_type": "markdown",
   "id": "e7d1ed1f",
   "metadata": {},
   "source": [
    "```{admonition} 3-1-c\n",
    "**위의 통계량에 대한 p-값을 구하고 (반올림하여 소숫점 이하 3째자리), 유의수준 0.05하에서 귀무가설과 대립가설중 유의한 가설을 하나를 선택하시오(귀무/대립)**\n",
    "```"
   ]
  },
  {
   "cell_type": "code",
   "execution_count": 172,
   "id": "389daf43",
   "metadata": {},
   "outputs": [
    {
     "name": "stdout",
     "output_type": "stream",
     "text": [
      "0.829 귀무가설 채택\n"
     ]
    }
   ],
   "source": [
    "print(round(p,3), \"귀무가설 채택\")"
   ]
  },
  {
   "cell_type": "markdown",
   "id": "428d99ce",
   "metadata": {},
   "source": [
    "```{attention} \n",
    "조사결과 70%의 성인 남성이 3년 동안에 적어도 1번 치과를 찾는다고 할때, 21명의 성인 남성이 임의로 추출되었다고 하자. \n",
    "```"
   ]
  },
  {
   "cell_type": "markdown",
   "id": "dc854154",
   "metadata": {},
   "source": [
    "```{admonition} 3-2 - a\n",
    "**21명 중 16명 미만이 치과를 찾았을 확률(반올림하여 소숫점 이하 3자리)**\n",
    "```"
   ]
  },
  {
   "cell_type": "code",
   "execution_count": 174,
   "id": "ab8e027c",
   "metadata": {},
   "outputs": [
    {
     "data": {
      "text/plain": [
       "0.6372880857234826"
      ]
     },
     "execution_count": 174,
     "metadata": {},
     "output_type": "execute_result"
    }
   ],
   "source": [
    "n = 21\n",
    "k = 16\n",
    "p = 0.7\n",
    "\n",
    "from scipy.stats import binom\n",
    "binom.cdf(k-1, n, p)"
   ]
  },
  {
   "cell_type": "markdown",
   "id": "e75f85d5",
   "metadata": {},
   "source": [
    "```{admonition} 3-2 - b\n",
    "**적어도 19명이 치과를 찾았을 확률(반올림하여 소숫점 이하 3자리)**\n",
    "```"
   ]
  },
  {
   "cell_type": "code",
   "execution_count": 177,
   "id": "4e843502",
   "metadata": {},
   "outputs": [
    {
     "data": {
      "text/plain": [
       "0.027129370541188025"
      ]
     },
     "execution_count": 177,
     "metadata": {},
     "output_type": "execute_result"
    }
   ],
   "source": [
    "n = 21\n",
    "k = 19\n",
    "p = 0.7\n",
    "\n",
    "1 - binom.cdf(k-1, n, p)"
   ]
  }
 ],
 "metadata": {
  "celltoolbar": "Edit Metadata",
  "kernelspec": {
   "display_name": "Python 3 (ipykernel)",
   "language": "python",
   "name": "python3"
  },
  "language_info": {
   "codemirror_mode": {
    "name": "ipython",
    "version": 3
   },
   "file_extension": ".py",
   "mimetype": "text/x-python",
   "name": "python",
   "nbconvert_exporter": "python",
   "pygments_lexer": "ipython3",
   "version": "3.9.12"
  }
 },
 "nbformat": 4,
 "nbformat_minor": 5
}
