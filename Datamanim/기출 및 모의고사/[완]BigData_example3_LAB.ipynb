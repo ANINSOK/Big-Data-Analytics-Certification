{
 "cells": [
  {
   "cell_type": "markdown",
   "metadata": {
    "id": "9wr6snMrGMHo"
   },
   "source": [
    "## 2.기출문제 (빅분기 실기 4회)"
   ]
  },
  {
   "cell_type": "code",
   "execution_count": null,
   "metadata": {
    "id": "dvyzPcRnDb3w"
   },
   "outputs": [],
   "source": [
    "# 데이터 다운로드"
   ]
  },
  {
   "cell_type": "code",
   "execution_count": null,
   "metadata": {
    "id": "SqK7UuUrWqfP"
   },
   "outputs": [],
   "source": [
    "!git clone https://github.com/Soyoung-Yoon/bigdata"
   ]
  },
  {
   "cell_type": "markdown",
   "metadata": {
    "id": "XmsDHqDFBzM3"
   },
   "source": [
    "#### 2-1. 신상 데이터\n",
    "age 컬럼에 대해 아래의 과정을 수행하고 (다) 단계의 결과값을 출력하여라.\n",
    "- (가) 제 1사분위수와 제 3사분위수를 구하기\n",
    "- (나) 두 값의 차이 절댓값 구하기\n",
    "- (다) 그 값의 소수점 버리기\n"
   ]
  },
  {
   "cell_type": "code",
   "execution_count": 2,
   "metadata": {
    "id": "ttr2QTVbvRMC"
   },
   "outputs": [],
   "source": [
    "import pandas as pd\n",
    "df = pd.read_csv('./bigdata/basic1_data04.csv')"
   ]
  },
  {
   "cell_type": "code",
   "execution_count": 3,
   "metadata": {
    "id": "UQvNfXEgKp6e"
   },
   "outputs": [
    {
     "data": {
      "text/plain": [
       "50"
      ]
     },
     "execution_count": 3,
     "metadata": {},
     "output_type": "execute_result"
    }
   ],
   "source": [
    "Q1 = df['age'].quantile(0.25)\n",
    "Q3 = df['age'].quantile(0.75)\n",
    "나 = Q3 - Q1\n",
    "int(나)"
   ]
  },
  {
   "cell_type": "markdown",
   "metadata": {
    "id": "Uv_3WUzRCFV0"
   },
   "source": [
    "#### 2-2. Facebook 데이터\n",
    "\n",
    "Facebook 데이터셋을 불러와 (loves반응 + wows반응)/(reactions반응) 비율이 0.4보다 크고 0.5보다 작으면서, type이 'video'인 데이터의 갯수를 구하여라\n",
    "- 'https://raw.githubusercontent.com/Soyoung-Yoon/bigdata/main/fb_data04.csv' 파일 사용"
   ]
  },
  {
   "cell_type": "code",
   "execution_count": 4,
   "metadata": {},
   "outputs": [
    {
     "data": {
      "text/html": [
       "<div>\n",
       "<style scoped>\n",
       "    .dataframe tbody tr th:only-of-type {\n",
       "        vertical-align: middle;\n",
       "    }\n",
       "\n",
       "    .dataframe tbody tr th {\n",
       "        vertical-align: top;\n",
       "    }\n",
       "\n",
       "    .dataframe thead th {\n",
       "        text-align: right;\n",
       "    }\n",
       "</style>\n",
       "<table border=\"1\" class=\"dataframe\">\n",
       "  <thead>\n",
       "    <tr style=\"text-align: right;\">\n",
       "      <th></th>\n",
       "      <th>id</th>\n",
       "      <th>type</th>\n",
       "      <th>reactions</th>\n",
       "      <th>comments</th>\n",
       "      <th>shares</th>\n",
       "      <th>likes</th>\n",
       "      <th>loves</th>\n",
       "      <th>wows</th>\n",
       "      <th>hahas</th>\n",
       "      <th>sads</th>\n",
       "      <th>angrys</th>\n",
       "    </tr>\n",
       "  </thead>\n",
       "  <tbody>\n",
       "    <tr>\n",
       "      <th>0</th>\n",
       "      <td>1</td>\n",
       "      <td>video</td>\n",
       "      <td>529</td>\n",
       "      <td>512</td>\n",
       "      <td>262</td>\n",
       "      <td>432</td>\n",
       "      <td>92</td>\n",
       "      <td>3</td>\n",
       "      <td>1</td>\n",
       "      <td>1</td>\n",
       "      <td>0</td>\n",
       "    </tr>\n",
       "    <tr>\n",
       "      <th>1</th>\n",
       "      <td>2</td>\n",
       "      <td>photo</td>\n",
       "      <td>150</td>\n",
       "      <td>0</td>\n",
       "      <td>0</td>\n",
       "      <td>150</td>\n",
       "      <td>0</td>\n",
       "      <td>0</td>\n",
       "      <td>0</td>\n",
       "      <td>0</td>\n",
       "      <td>0</td>\n",
       "    </tr>\n",
       "    <tr>\n",
       "      <th>2</th>\n",
       "      <td>3</td>\n",
       "      <td>video</td>\n",
       "      <td>227</td>\n",
       "      <td>236</td>\n",
       "      <td>57</td>\n",
       "      <td>204</td>\n",
       "      <td>21</td>\n",
       "      <td>1</td>\n",
       "      <td>1</td>\n",
       "      <td>0</td>\n",
       "      <td>0</td>\n",
       "    </tr>\n",
       "    <tr>\n",
       "      <th>3</th>\n",
       "      <td>4</td>\n",
       "      <td>photo</td>\n",
       "      <td>111</td>\n",
       "      <td>0</td>\n",
       "      <td>0</td>\n",
       "      <td>111</td>\n",
       "      <td>0</td>\n",
       "      <td>0</td>\n",
       "      <td>0</td>\n",
       "      <td>0</td>\n",
       "      <td>0</td>\n",
       "    </tr>\n",
       "    <tr>\n",
       "      <th>4</th>\n",
       "      <td>5</td>\n",
       "      <td>photo</td>\n",
       "      <td>213</td>\n",
       "      <td>0</td>\n",
       "      <td>0</td>\n",
       "      <td>204</td>\n",
       "      <td>9</td>\n",
       "      <td>0</td>\n",
       "      <td>0</td>\n",
       "      <td>0</td>\n",
       "      <td>0</td>\n",
       "    </tr>\n",
       "  </tbody>\n",
       "</table>\n",
       "</div>"
      ],
      "text/plain": [
       "   id   type  reactions  comments  shares  likes  loves  wows  hahas  sads  \\\n",
       "0   1  video        529       512     262    432     92     3      1     1   \n",
       "1   2  photo        150         0       0    150      0     0      0     0   \n",
       "2   3  video        227       236      57    204     21     1      1     0   \n",
       "3   4  photo        111         0       0    111      0     0      0     0   \n",
       "4   5  photo        213         0       0    204      9     0      0     0   \n",
       "\n",
       "   angrys  \n",
       "0       0  \n",
       "1       0  \n",
       "2       0  \n",
       "3       0  \n",
       "4       0  "
      ]
     },
     "execution_count": 4,
     "metadata": {},
     "output_type": "execute_result"
    }
   ],
   "source": [
    "df = pd.read_csv('./bigdata/fb_data04.csv')\n",
    "df.head()"
   ]
  },
  {
   "cell_type": "code",
   "execution_count": 5,
   "metadata": {},
   "outputs": [
    {
     "data": {
      "text/plain": [
       "90"
      ]
     },
     "execution_count": 5,
     "metadata": {},
     "output_type": "execute_result"
    }
   ],
   "source": [
    "df['ratio'] = (df['loves'] + df['wows']) / df['reactions']\n",
    "len(df[ ( df['ratio'] > 0.4 ) & ( df['ratio'] < 0.5 ) & ( df['type']==\"video\" ) ])"
   ]
  },
  {
   "cell_type": "markdown",
   "metadata": {
    "id": "s0Iohr2QC6As"
   },
   "source": [
    "#### 2-3. 넷플릭스 데이터 \n",
    "netflix_subset 데이터셋에서 date_added가 2018년 1월이면서 country가 United Kingdom 단독 제작인 데이터의 개수를 구하여라\n",
    "- 'https://raw.githubusercontent.com/Soyoung-Yoon/bigdata/main/nf_data04.csv' 파일 사용"
   ]
  },
  {
   "cell_type": "code",
   "execution_count": 6,
   "metadata": {},
   "outputs": [
    {
     "data": {
      "text/html": [
       "<div>\n",
       "<style scoped>\n",
       "    .dataframe tbody tr th:only-of-type {\n",
       "        vertical-align: middle;\n",
       "    }\n",
       "\n",
       "    .dataframe tbody tr th {\n",
       "        vertical-align: top;\n",
       "    }\n",
       "\n",
       "    .dataframe thead th {\n",
       "        text-align: right;\n",
       "    }\n",
       "</style>\n",
       "<table border=\"1\" class=\"dataframe\">\n",
       "  <thead>\n",
       "    <tr style=\"text-align: right;\">\n",
       "      <th></th>\n",
       "      <th>show_id</th>\n",
       "      <th>type</th>\n",
       "      <th>title</th>\n",
       "      <th>director</th>\n",
       "      <th>cast</th>\n",
       "      <th>country</th>\n",
       "      <th>date_added</th>\n",
       "      <th>release_year</th>\n",
       "      <th>rating</th>\n",
       "      <th>duration</th>\n",
       "      <th>listed_in</th>\n",
       "    </tr>\n",
       "  </thead>\n",
       "  <tbody>\n",
       "    <tr>\n",
       "      <th>0</th>\n",
       "      <td>s1</td>\n",
       "      <td>Movie</td>\n",
       "      <td>Dick Johnson Is Dead</td>\n",
       "      <td>Kirsten Johnson</td>\n",
       "      <td>NaN</td>\n",
       "      <td>United States</td>\n",
       "      <td>September 25, 2021</td>\n",
       "      <td>2020</td>\n",
       "      <td>PG-13</td>\n",
       "      <td>90 min</td>\n",
       "      <td>Documentaries</td>\n",
       "    </tr>\n",
       "    <tr>\n",
       "      <th>1</th>\n",
       "      <td>s2</td>\n",
       "      <td>TV Show</td>\n",
       "      <td>Blood &amp; Water</td>\n",
       "      <td>NaN</td>\n",
       "      <td>Ama Qamata, Khosi Ngema, Gail Mabalane, Thaban...</td>\n",
       "      <td>South Africa</td>\n",
       "      <td>September 24, 2021</td>\n",
       "      <td>2021</td>\n",
       "      <td>TV-MA</td>\n",
       "      <td>2 Seasons</td>\n",
       "      <td>International TV Shows, TV Dramas, TV Mysteries</td>\n",
       "    </tr>\n",
       "    <tr>\n",
       "      <th>2</th>\n",
       "      <td>s3</td>\n",
       "      <td>TV Show</td>\n",
       "      <td>Ganglands</td>\n",
       "      <td>Julien Leclercq</td>\n",
       "      <td>Sami Bouajila, Tracy Gotoas, Samuel Jouy, Nabi...</td>\n",
       "      <td>NaN</td>\n",
       "      <td>September 24, 2021</td>\n",
       "      <td>2021</td>\n",
       "      <td>TV-MA</td>\n",
       "      <td>1 Season</td>\n",
       "      <td>Crime TV Shows, International TV Shows, TV Act...</td>\n",
       "    </tr>\n",
       "    <tr>\n",
       "      <th>3</th>\n",
       "      <td>s4</td>\n",
       "      <td>TV Show</td>\n",
       "      <td>Jailbirds New Orleans</td>\n",
       "      <td>NaN</td>\n",
       "      <td>NaN</td>\n",
       "      <td>NaN</td>\n",
       "      <td>September 24, 2021</td>\n",
       "      <td>2021</td>\n",
       "      <td>TV-MA</td>\n",
       "      <td>1 Season</td>\n",
       "      <td>Docuseries, Reality TV</td>\n",
       "    </tr>\n",
       "    <tr>\n",
       "      <th>4</th>\n",
       "      <td>s5</td>\n",
       "      <td>TV Show</td>\n",
       "      <td>Kota Factory</td>\n",
       "      <td>NaN</td>\n",
       "      <td>Mayur More, Jitendra Kumar, Ranjan Raj, Alam K...</td>\n",
       "      <td>India</td>\n",
       "      <td>September 24, 2021</td>\n",
       "      <td>2021</td>\n",
       "      <td>TV-MA</td>\n",
       "      <td>2 Seasons</td>\n",
       "      <td>International TV Shows, Romantic TV Shows, TV ...</td>\n",
       "    </tr>\n",
       "  </tbody>\n",
       "</table>\n",
       "</div>"
      ],
      "text/plain": [
       "  show_id     type                  title         director  \\\n",
       "0      s1    Movie   Dick Johnson Is Dead  Kirsten Johnson   \n",
       "1      s2  TV Show          Blood & Water              NaN   \n",
       "2      s3  TV Show              Ganglands  Julien Leclercq   \n",
       "3      s4  TV Show  Jailbirds New Orleans              NaN   \n",
       "4      s5  TV Show           Kota Factory              NaN   \n",
       "\n",
       "                                                cast        country  \\\n",
       "0                                                NaN  United States   \n",
       "1  Ama Qamata, Khosi Ngema, Gail Mabalane, Thaban...   South Africa   \n",
       "2  Sami Bouajila, Tracy Gotoas, Samuel Jouy, Nabi...            NaN   \n",
       "3                                                NaN            NaN   \n",
       "4  Mayur More, Jitendra Kumar, Ranjan Raj, Alam K...          India   \n",
       "\n",
       "           date_added  release_year rating   duration  \\\n",
       "0  September 25, 2021          2020  PG-13     90 min   \n",
       "1  September 24, 2021          2021  TV-MA  2 Seasons   \n",
       "2  September 24, 2021          2021  TV-MA   1 Season   \n",
       "3  September 24, 2021          2021  TV-MA   1 Season   \n",
       "4  September 24, 2021          2021  TV-MA  2 Seasons   \n",
       "\n",
       "                                           listed_in  \n",
       "0                                      Documentaries  \n",
       "1    International TV Shows, TV Dramas, TV Mysteries  \n",
       "2  Crime TV Shows, International TV Shows, TV Act...  \n",
       "3                             Docuseries, Reality TV  \n",
       "4  International TV Shows, Romantic TV Shows, TV ...  "
      ]
     },
     "execution_count": 6,
     "metadata": {},
     "output_type": "execute_result"
    }
   ],
   "source": [
    "df = pd.read_csv('./bigdata/nf_data04.csv')\n",
    "df.head()"
   ]
  },
  {
   "cell_type": "code",
   "execution_count": 15,
   "metadata": {},
   "outputs": [
    {
     "data": {
      "text/plain": [
       "6"
      ]
     },
     "execution_count": 15,
     "metadata": {},
     "output_type": "execute_result"
    }
   ],
   "source": [
    "df['date_added'] = pd.to_datetime(df['date_added'])\n",
    "df['month'] = df['date_added'].dt.month\n",
    "df['year'] = df['date_added'].dt.year\n",
    "len(df[( df['year']==2018 )&(df['month']==1)&(df['country']==\"United Kingdom\")])"
   ]
  },
  {
   "cell_type": "code",
   "execution_count": 63,
   "metadata": {
    "id": "II4-4rISf1Ys"
   },
   "outputs": [
    {
     "data": {
      "text/plain": [
       "6"
      ]
     },
     "execution_count": 63,
     "metadata": {},
     "output_type": "execute_result"
    }
   ],
   "source": [
    "\n",
    "cond1 = df['date_added'].str.contains('January')\n",
    "cond2 = df['date_added'].str.contains('2018')\n",
    "cond3 = df['country'] == 'United Kingdom'\n",
    "\n",
    "len(df[cond1 & cond2 & cond3])"
   ]
  },
  {
   "cell_type": "markdown",
   "metadata": {
    "id": "SxegKonKDHPJ"
   },
   "source": [
    "## 3.기출문제 (빅분기 실기 4회)\n",
    "자동차 시장 세분화\n",
    "- 자동차 회사는 새로운 전략을 수립하기 위해 4개의 시장으로 세분화했습니다.\n",
    "- 기존 고객 분류 자료를 바탕으로 신규 고객이 어떤 분류에 속할지 예측해주세요!\n",
    "- 예측할 값(y): \"Segmentation\" (1,2,3,4)\n",
    "- 평가: Macro f1-score\n",
    "- 제출형식\n",
    "\n",
    "        ID,Segmentation\n",
    "        458989,1\n",
    "        458994,2\n",
    "        459000,3\n",
    "        459003,4"
   ]
  },
  {
   "cell_type": "markdown",
   "metadata": {
    "id": "XegtsURWg8XJ"
   },
   "source": [
    "- 다음의 데이터 파일 준비를 실행해서 x_train.csv, y_train.csv, x_test.csv 파일을 준비합니다.\n"
   ]
  },
  {
   "cell_type": "markdown",
   "metadata": {
    "id": "NCqn_6zOtyXi"
   },
   "source": [
    "### 3-01.데이터 불러오기, 탐색"
   ]
  },
  {
   "cell_type": "code",
   "execution_count": 1,
   "metadata": {
    "colab": {
     "base_uri": "https://localhost:8080/"
    },
    "id": "Kbwq4Xf2WiZf",
    "outputId": "ba7e2994-c717-4077-d941-8f58166d3202"
   },
   "outputs": [
    {
     "name": "stdout",
     "output_type": "stream",
     "text": [
      "파일을 준비했습니다!  X_train.csv, Y_train.csv, X_test.csv !\n"
     ]
    }
   ],
   "source": [
    "# 데이터 파일 준비\n",
    "# 그냥 실행해서 사용 파일을 생성하도록 합니다.\n",
    "import pandas as pd\n",
    "\n",
    "train = pd.read_csv('./bigdata//train_04.csv')\n",
    "test = pd.read_csv('./bigdata//test_04.csv')\n",
    "train.head(2)\n",
    "X_train = train.iloc[:, :-1]\n",
    "Y_train = train[['ID', 'Segmentation']]\n",
    "X_train.to_csv('X_train.csv', index=False)\n",
    "Y_train.to_csv('Y_train.csv', index=False)\n",
    "test.to_csv('X_test.csv', index=False)\n",
    "print('파일을 준비했습니다!  X_train.csv, Y_train.csv, X_test.csv !')"
   ]
  },
  {
   "cell_type": "code",
   "execution_count": 24,
   "metadata": {
    "id": "ljn7qAfH8uw2"
   },
   "outputs": [],
   "source": [
    "# [0] 사용 라이브러리 import\n",
    "import pandas as pd\n",
    "import numpy as np\n",
    "from sklearn.preprocessing import MinMaxScaler, LabelEncoder, RobustScaler\n",
    "from sklearn.ensemble import RandomForestClassifier\n",
    "from sklearn.metrics import f1_score\n",
    "from sklearn.model_selection import train_test_split\n"
   ]
  },
  {
   "cell_type": "code",
   "execution_count": 3,
   "metadata": {
    "colab": {
     "base_uri": "https://localhost:8080/"
    },
    "id": "mNl3dB0VmMxo",
    "outputId": "9e5513e8-1c43-4b35-b49b-b99d1615696e"
   },
   "outputs": [],
   "source": [
    "# [1] x_train.csv, y_train.csv, x_test.csv 읽어오기\n",
    "X_train = pd.read_csv('X_train.csv')\n",
    "y_train = pd.read_csv('Y_train.csv')\n",
    "X_test = pd.read_csv('X_test.csv')"
   ]
  },
  {
   "cell_type": "code",
   "execution_count": 5,
   "metadata": {},
   "outputs": [
    {
     "name": "stdout",
     "output_type": "stream",
     "text": [
      "(6665, 10)\n",
      "====================================================================================================\n",
      "(6665, 2)\n",
      "====================================================================================================\n",
      "(2154, 10)\n",
      "====================================================================================================\n",
      "<class 'pandas.core.frame.DataFrame'>\n",
      "RangeIndex: 6665 entries, 0 to 6664\n",
      "Data columns (total 10 columns):\n",
      " #   Column           Non-Null Count  Dtype  \n",
      "---  ------           --------------  -----  \n",
      " 0   ID               6665 non-null   int64  \n",
      " 1   Gender           6665 non-null   object \n",
      " 2   Ever_Married     6665 non-null   object \n",
      " 3   Age              6665 non-null   int64  \n",
      " 4   Graduated        6665 non-null   object \n",
      " 5   Profession       6665 non-null   object \n",
      " 6   Work_Experience  6665 non-null   float64\n",
      " 7   Spending_Score   6665 non-null   object \n",
      " 8   Family_Size      6665 non-null   float64\n",
      " 9   Var_1            6665 non-null   object \n",
      "dtypes: float64(2), int64(2), object(6)\n",
      "memory usage: 520.8+ KB\n",
      "None\n",
      "====================================================================================================\n",
      "<class 'pandas.core.frame.DataFrame'>\n",
      "RangeIndex: 6665 entries, 0 to 6664\n",
      "Data columns (total 2 columns):\n",
      " #   Column        Non-Null Count  Dtype\n",
      "---  ------        --------------  -----\n",
      " 0   ID            6665 non-null   int64\n",
      " 1   Segmentation  6665 non-null   int64\n",
      "dtypes: int64(2)\n",
      "memory usage: 104.3 KB\n",
      "None\n",
      "====================================================================================================\n",
      "<class 'pandas.core.frame.DataFrame'>\n",
      "RangeIndex: 2154 entries, 0 to 2153\n",
      "Data columns (total 10 columns):\n",
      " #   Column           Non-Null Count  Dtype  \n",
      "---  ------           --------------  -----  \n",
      " 0   ID               2154 non-null   int64  \n",
      " 1   Gender           2154 non-null   object \n",
      " 2   Ever_Married     2154 non-null   object \n",
      " 3   Age              2154 non-null   int64  \n",
      " 4   Graduated        2154 non-null   object \n",
      " 5   Profession       2154 non-null   object \n",
      " 6   Work_Experience  2154 non-null   float64\n",
      " 7   Spending_Score   2154 non-null   object \n",
      " 8   Family_Size      2154 non-null   float64\n",
      " 9   Var_1            2154 non-null   object \n",
      "dtypes: float64(2), int64(2), object(6)\n",
      "memory usage: 168.4+ KB\n",
      "None\n",
      "====================================================================================================\n",
      "                 ID          Age  Work_Experience  Family_Size\n",
      "count    6665.00000  6665.000000      6665.000000  6665.000000\n",
      "mean   463519.84096    43.536084         2.629107     2.841110\n",
      "std      2566.43174    16.524054         3.405365     1.524743\n",
      "min    458982.00000    18.000000         0.000000     1.000000\n",
      "25%    461349.00000    31.000000         0.000000     2.000000\n",
      "50%    463575.00000    41.000000         1.000000     2.000000\n",
      "75%    465741.00000    53.000000         4.000000     4.000000\n",
      "max    467974.00000    89.000000        14.000000     9.000000\n",
      "====================================================================================================\n",
      "                 ID  Segmentation\n",
      "count    6665.00000   6665.000000\n",
      "mean   463519.84096      2.542836\n",
      "std      2566.43174      1.122723\n",
      "min    458982.00000      1.000000\n",
      "25%    461349.00000      2.000000\n",
      "50%    463575.00000      3.000000\n",
      "75%    465741.00000      4.000000\n",
      "max    467974.00000      4.000000\n",
      "====================================================================================================\n",
      "                  ID          Age  Work_Experience  Family_Size\n",
      "count    2154.000000  2154.000000      2154.000000  2154.000000\n",
      "mean   463496.744661    43.461467         2.551532     2.837047\n",
      "std      2591.465156    16.761895         3.344917     1.566872\n",
      "min    458989.000000    18.000000         0.000000     1.000000\n",
      "25%    461282.250000    30.000000         0.000000     2.000000\n",
      "50%    463535.000000    41.000000         1.000000     2.000000\n",
      "75%    465705.750000    52.000000         4.000000     4.000000\n",
      "max    467968.000000    89.000000        14.000000     9.000000\n",
      "====================================================================================================\n",
      "0\n",
      "====================================================================================================\n",
      "0\n",
      "====================================================================================================\n",
      "0\n",
      "====================================================================================================\n"
     ]
    }
   ],
   "source": [
    "print(X_train.shape)\n",
    "print(\"=\"*100)\n",
    "print(y_train.shape)\n",
    "print(\"=\"*100)\n",
    "print(X_test.shape)\n",
    "print(\"=\"*100)\n",
    "\n",
    "print(X_train.info())\n",
    "print(\"=\"*100)\n",
    "print(y_train.info())\n",
    "print(\"=\"*100)\n",
    "print(X_test.info())\n",
    "print(\"=\"*100)\n",
    "\n",
    "print(X_train.describe())\n",
    "print(\"=\"*100)\n",
    "print(y_train.describe())\n",
    "print(\"=\"*100)\n",
    "print(X_test.describe())\n",
    "print(\"=\"*100)\n",
    "\n",
    "print(X_train.isna().sum().sum())\n",
    "print(\"=\"*100)\n",
    "print(y_train.isna().sum().sum())\n",
    "print(\"=\"*100)\n",
    "print(X_test.isna().sum().sum())\n",
    "print(\"=\"*100)"
   ]
  },
  {
   "cell_type": "code",
   "execution_count": 8,
   "metadata": {},
   "outputs": [],
   "source": [
    "X_train = X_train.drop(columns = \"ID\")\n",
    "y_train = y_train.drop(columns = \"ID\")\n",
    "X_test_ID = X_test.pop(\"ID\")"
   ]
  },
  {
   "cell_type": "code",
   "execution_count": 19,
   "metadata": {},
   "outputs": [],
   "source": [
    "le = LabelEncoder()\n",
    "\n",
    "X_train['Profession'] = le.fit_transform(X_train['Profession'])\n",
    "X_test['Profession'] = le.fit_transform(X_test['Profession'])\n",
    "\n",
    "scaler = RobustScaler()\n",
    "ls = ['Age',  'Work_Experience',  'Family_Size']\n",
    "\n",
    "X_train[ls] = scaler.fit_transform(X_train[ls])\n",
    "X_test[ls] = scaler.transform(X_test[ls])"
   ]
  },
  {
   "cell_type": "code",
   "execution_count": 20,
   "metadata": {},
   "outputs": [],
   "source": [
    "X_train = pd.get_dummies(X_train)\n",
    "X_test = pd.get_dummies(X_test)"
   ]
  },
  {
   "cell_type": "code",
   "execution_count": 42,
   "metadata": {},
   "outputs": [],
   "source": [
    "X_tr, X_ts, y_tr, y_ts = train_test_split(X_train, y_train, test_size = 0.2, stratify = y_train)"
   ]
  },
  {
   "cell_type": "code",
   "execution_count": 61,
   "metadata": {},
   "outputs": [
    {
     "name": "stdout",
     "output_type": "stream",
     "text": [
      "0.5341335333833458\n"
     ]
    }
   ],
   "source": [
    "modelRF = RandomForestClassifier(n_estimators = 150, max_depth = 3)\n",
    "modelRF.fit(X_tr, np.ravel(y_tr))\n",
    "y_pred = modelRF.predict(X_ts)\n",
    "print(f1_score(y_ts,y_pred, average='micro'))\n",
    "\n",
    "modelRF = RandomForestClassifier(n_estimators = 150, max_depth = 4)\n",
    "modelRF.fit(X_tr, np.ravel(y_tr))\n",
    "y_pred = modelRF.predict(X_ts)\n",
    "print(f1_score(y_ts,y_pred, average='micro'))\n",
    "\n",
    "modelRF = RandomForestClassifier(n_estimators = 5, max_depth = 5)\n",
    "modelRF.fit(X_tr, np.ravel(y_tr))\n",
    "y_pred = modelRF.predict(X_ts)\n",
    "print(f1_score(y_ts,y_pred, average='micro'))\n",
    "\n",
    "modelRF = RandomForestClassifier(n_estimators = 6, max_depth = 6)\n",
    "modelRF.fit(X_tr, np.ravel(y_tr))\n",
    "y_pred = modelRF.predict(X_ts)\n",
    "print(f1_score(y_ts,y_pred, average='micro'))\n",
    "\n",
    "modelRF = RandomForestClassifier(n_estimators = 7, max_depth = 7)\n",
    "modelRF.fit(X_tr, np.ravel(y_tr))\n",
    "y_pred = modelRF.predict(X_ts)\n",
    "print(f1_score(y_ts,y_pred, average='micro'))\n",
    "\n",
    "modelRF = RandomForestClassifier(n_estimators = 8, max_depth = 8)\n",
    "modelRF.fit(X_tr, np.ravel(y_tr))\n",
    "y_pred = modelRF.predict(X_ts)\n",
    "print(f1_score(y_ts,y_pred, average='micro'))\n",
    "\n",
    "modelRF = RandomForestClassifier(n_estimators = 9, max_depth = 9)\n",
    "modelRF.fit(X_tr, np.ravel(y_tr))\n",
    "y_pred = modelRF.predict(X_ts)\n",
    "print(f1_score(y_ts,y_pred, average='micro'))\n",
    "\n",
    "modelRF = RandomForestClassifier(n_estimators = 10, max_depth = 10)\n",
    "modelRF.fit(X_tr, np.ravel(y_tr))\n",
    "y_pred = modelRF.predict(X_ts)\n",
    "print(f1_score(y_ts,y_pred, average='micro'))\n",
    "\n",
    "modelRF = RandomForestClassifier(n_estimators = 100, max_depth = 11)\n",
    "modelRF.fit(X_tr, np.ravel(y_tr))\n",
    "y_pred = modelRF.predict(X_ts)\n",
    "print(f1_score(y_ts,y_pred, average='micro'))\n",
    "\n",
    "modelRF = RandomForestClassifier(n_estimators = 100, max_depth = 12)\n",
    "modelRF.fit(X_tr, np.ravel(y_tr))\n",
    "y_pred = modelRF.predict(X_ts)\n",
    "print(f1_score(y_ts,y_pred, average='micro'))\n",
    "\n",
    "modelRF = RandomForestClassifier(n_estimators = 200, max_depth = 13)\n",
    "modelRF.fit(X_tr, np.ravel(y_tr))\n",
    "y_pred = modelRF.predict(X_ts)\n",
    "print(f1_score(y_ts,y_pred, average='micro'))\n",
    "\n",
    "modelRF = RandomForestClassifier(n_estimators = 200, max_depth = 14)\n",
    "modelRF.fit(X_tr, np.ravel(y_tr))\n",
    "y_pred = modelRF.predict(X_ts)\n",
    "print(f1_score(y_ts,y_pred, average='micro'))\n",
    "\n",
    "modelRF = RandomForestClassifier(n_estimators = 300, max_depth = 15)\n",
    "modelRF.fit(X_tr, np.ravel(y_tr))\n",
    "y_pred = modelRF.predict(X_ts)\n",
    "print(f1_score(y_ts,y_pred, average='micro'))\n",
    "\n",
    "modelRF = RandomForestClassifier(n_estimators = 300, max_depth = 16)\n",
    "modelRF.fit(X_tr, np.ravel(y_tr))\n",
    "y_pred = modelRF.predict(X_ts)\n",
    "print(f1_score(y_ts,y_pred, average='micro'))\n",
    "\n"
   ]
  },
  {
   "cell_type": "code",
   "execution_count": 36,
   "metadata": {},
   "outputs": [
    {
     "data": {
      "text/plain": [
       "array([3, 2, 3, ..., 3, 1, 4], dtype=int64)"
      ]
     },
     "execution_count": 36,
     "metadata": {},
     "output_type": "execute_result"
    }
   ],
   "source": [
    "y_pred"
   ]
  },
  {
   "cell_type": "code",
   "execution_count": 37,
   "metadata": {},
   "outputs": [
    {
     "data": {
      "text/html": [
       "<div>\n",
       "<style scoped>\n",
       "    .dataframe tbody tr th:only-of-type {\n",
       "        vertical-align: middle;\n",
       "    }\n",
       "\n",
       "    .dataframe tbody tr th {\n",
       "        vertical-align: top;\n",
       "    }\n",
       "\n",
       "    .dataframe thead th {\n",
       "        text-align: right;\n",
       "    }\n",
       "</style>\n",
       "<table border=\"1\" class=\"dataframe\">\n",
       "  <thead>\n",
       "    <tr style=\"text-align: right;\">\n",
       "      <th></th>\n",
       "      <th>Segmentation</th>\n",
       "    </tr>\n",
       "  </thead>\n",
       "  <tbody>\n",
       "    <tr>\n",
       "      <th>3524</th>\n",
       "      <td>3</td>\n",
       "    </tr>\n",
       "    <tr>\n",
       "      <th>6399</th>\n",
       "      <td>2</td>\n",
       "    </tr>\n",
       "    <tr>\n",
       "      <th>1051</th>\n",
       "      <td>3</td>\n",
       "    </tr>\n",
       "    <tr>\n",
       "      <th>1592</th>\n",
       "      <td>4</td>\n",
       "    </tr>\n",
       "    <tr>\n",
       "      <th>6585</th>\n",
       "      <td>4</td>\n",
       "    </tr>\n",
       "    <tr>\n",
       "      <th>...</th>\n",
       "      <td>...</td>\n",
       "    </tr>\n",
       "    <tr>\n",
       "      <th>3767</th>\n",
       "      <td>4</td>\n",
       "    </tr>\n",
       "    <tr>\n",
       "      <th>5601</th>\n",
       "      <td>1</td>\n",
       "    </tr>\n",
       "    <tr>\n",
       "      <th>3588</th>\n",
       "      <td>1</td>\n",
       "    </tr>\n",
       "    <tr>\n",
       "      <th>3591</th>\n",
       "      <td>4</td>\n",
       "    </tr>\n",
       "    <tr>\n",
       "      <th>5181</th>\n",
       "      <td>4</td>\n",
       "    </tr>\n",
       "  </tbody>\n",
       "</table>\n",
       "<p>2000 rows × 1 columns</p>\n",
       "</div>"
      ],
      "text/plain": [
       "      Segmentation\n",
       "3524             3\n",
       "6399             2\n",
       "1051             3\n",
       "1592             4\n",
       "6585             4\n",
       "...            ...\n",
       "3767             4\n",
       "5601             1\n",
       "3588             1\n",
       "3591             4\n",
       "5181             4\n",
       "\n",
       "[2000 rows x 1 columns]"
      ]
     },
     "execution_count": 37,
     "metadata": {},
     "output_type": "execute_result"
    }
   ],
   "source": [
    "y_ts"
   ]
  },
  {
   "cell_type": "code",
   "execution_count": null,
   "metadata": {},
   "outputs": [],
   "source": [
    "|"
   ]
  }
 ],
 "metadata": {
  "colab": {
   "provenance": [],
   "toc_visible": true
  },
  "kernelspec": {
   "display_name": "Python 3 (ipykernel)",
   "language": "python",
   "name": "python3"
  },
  "language_info": {
   "codemirror_mode": {
    "name": "ipython",
    "version": 3
   },
   "file_extension": ".py",
   "mimetype": "text/x-python",
   "name": "python",
   "nbconvert_exporter": "python",
   "pygments_lexer": "ipython3",
   "version": "3.9.12"
  }
 },
 "nbformat": 4,
 "nbformat_minor": 1
}
