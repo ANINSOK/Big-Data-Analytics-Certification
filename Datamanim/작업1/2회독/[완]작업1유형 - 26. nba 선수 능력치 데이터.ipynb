{
 "cells": [
  {
   "cell_type": "markdown",
   "id": "640cfce8",
   "metadata": {},
   "source": [
    "## 데이터 불러오기"
   ]
  },
  {
   "cell_type": "code",
   "execution_count": 1,
   "id": "8391c986",
   "metadata": {},
   "outputs": [
    {
     "data": {
      "text/html": [
       "<div>\n",
       "<style scoped>\n",
       "    .dataframe tbody tr th:only-of-type {\n",
       "        vertical-align: middle;\n",
       "    }\n",
       "\n",
       "    .dataframe tbody tr th {\n",
       "        vertical-align: top;\n",
       "    }\n",
       "\n",
       "    .dataframe thead th {\n",
       "        text-align: right;\n",
       "    }\n",
       "</style>\n",
       "<table border=\"1\" class=\"dataframe\">\n",
       "  <thead>\n",
       "    <tr style=\"text-align: right;\">\n",
       "      <th></th>\n",
       "      <th>Rk</th>\n",
       "      <th>Player</th>\n",
       "      <th>Pos</th>\n",
       "      <th>Age</th>\n",
       "      <th>Tm</th>\n",
       "      <th>G</th>\n",
       "      <th>GS</th>\n",
       "      <th>MP</th>\n",
       "      <th>FG</th>\n",
       "      <th>FGA</th>\n",
       "      <th>FG%</th>\n",
       "      <th>3P</th>\n",
       "      <th>3PA</th>\n",
       "      <th>3P%</th>\n",
       "      <th>2P</th>\n",
       "      <th>2PA</th>\n",
       "      <th>2P%</th>\n",
       "      <th>eFG%</th>\n",
       "      <th>FT</th>\n",
       "      <th>FTA</th>\n",
       "      <th>FT%</th>\n",
       "      <th>ORB</th>\n",
       "      <th>DRB</th>\n",
       "      <th>TRB</th>\n",
       "      <th>AST</th>\n",
       "      <th>STL</th>\n",
       "      <th>BLK</th>\n",
       "      <th>TOV</th>\n",
       "      <th>PF</th>\n",
       "      <th>PTS</th>\n",
       "    </tr>\n",
       "  </thead>\n",
       "  <tbody>\n",
       "    <tr>\n",
       "      <th>0</th>\n",
       "      <td>1</td>\n",
       "      <td>Precious Achiuwa</td>\n",
       "      <td>C</td>\n",
       "      <td>22</td>\n",
       "      <td>TOR</td>\n",
       "      <td>73</td>\n",
       "      <td>28</td>\n",
       "      <td>23.6000</td>\n",
       "      <td>3.6000</td>\n",
       "      <td>8.3000</td>\n",
       "      <td>0.4390</td>\n",
       "      <td>0.8000</td>\n",
       "      <td>2.1000</td>\n",
       "      <td>0.3590</td>\n",
       "      <td>2.9000</td>\n",
       "      <td>6.1000</td>\n",
       "      <td>0.4680</td>\n",
       "      <td>0.4860</td>\n",
       "      <td>1.1000</td>\n",
       "      <td>1.8000</td>\n",
       "      <td>0.5950</td>\n",
       "      <td>2.0000</td>\n",
       "      <td>4.5000</td>\n",
       "      <td>6.5000</td>\n",
       "      <td>1.1000</td>\n",
       "      <td>0.5000</td>\n",
       "      <td>0.6000</td>\n",
       "      <td>1.2000</td>\n",
       "      <td>2.1000</td>\n",
       "      <td>9.1000</td>\n",
       "    </tr>\n",
       "    <tr>\n",
       "      <th>1</th>\n",
       "      <td>2</td>\n",
       "      <td>Steven Adams</td>\n",
       "      <td>C</td>\n",
       "      <td>28</td>\n",
       "      <td>MEM</td>\n",
       "      <td>76</td>\n",
       "      <td>75</td>\n",
       "      <td>26.3000</td>\n",
       "      <td>2.8000</td>\n",
       "      <td>5.1000</td>\n",
       "      <td>0.5470</td>\n",
       "      <td>0.0000</td>\n",
       "      <td>0.0000</td>\n",
       "      <td>0.0000</td>\n",
       "      <td>2.8000</td>\n",
       "      <td>5.0000</td>\n",
       "      <td>0.5480</td>\n",
       "      <td>0.5470</td>\n",
       "      <td>1.4000</td>\n",
       "      <td>2.6000</td>\n",
       "      <td>0.5430</td>\n",
       "      <td>4.6000</td>\n",
       "      <td>5.4000</td>\n",
       "      <td>10.0000</td>\n",
       "      <td>3.4000</td>\n",
       "      <td>0.9000</td>\n",
       "      <td>0.8000</td>\n",
       "      <td>1.5000</td>\n",
       "      <td>2.0000</td>\n",
       "      <td>6.9000</td>\n",
       "    </tr>\n",
       "    <tr>\n",
       "      <th>2</th>\n",
       "      <td>3</td>\n",
       "      <td>Bam Adebayo</td>\n",
       "      <td>C</td>\n",
       "      <td>24</td>\n",
       "      <td>MIA</td>\n",
       "      <td>56</td>\n",
       "      <td>56</td>\n",
       "      <td>32.6000</td>\n",
       "      <td>7.3000</td>\n",
       "      <td>13.0000</td>\n",
       "      <td>0.5570</td>\n",
       "      <td>0.0000</td>\n",
       "      <td>0.1000</td>\n",
       "      <td>0.0000</td>\n",
       "      <td>7.3000</td>\n",
       "      <td>12.9000</td>\n",
       "      <td>0.5620</td>\n",
       "      <td>0.5570</td>\n",
       "      <td>4.6000</td>\n",
       "      <td>6.1000</td>\n",
       "      <td>0.7530</td>\n",
       "      <td>2.4000</td>\n",
       "      <td>7.6000</td>\n",
       "      <td>10.1000</td>\n",
       "      <td>3.4000</td>\n",
       "      <td>1.4000</td>\n",
       "      <td>0.8000</td>\n",
       "      <td>2.6000</td>\n",
       "      <td>3.1000</td>\n",
       "      <td>19.1000</td>\n",
       "    </tr>\n",
       "    <tr>\n",
       "      <th>3</th>\n",
       "      <td>4</td>\n",
       "      <td>Santi Aldama</td>\n",
       "      <td>PF</td>\n",
       "      <td>21</td>\n",
       "      <td>MEM</td>\n",
       "      <td>32</td>\n",
       "      <td>0</td>\n",
       "      <td>11.3000</td>\n",
       "      <td>1.7000</td>\n",
       "      <td>4.1000</td>\n",
       "      <td>0.4020</td>\n",
       "      <td>0.2000</td>\n",
       "      <td>1.5000</td>\n",
       "      <td>0.1250</td>\n",
       "      <td>1.5000</td>\n",
       "      <td>2.6000</td>\n",
       "      <td>0.5600</td>\n",
       "      <td>0.4240</td>\n",
       "      <td>0.6000</td>\n",
       "      <td>1.0000</td>\n",
       "      <td>0.6250</td>\n",
       "      <td>1.0000</td>\n",
       "      <td>1.7000</td>\n",
       "      <td>2.7000</td>\n",
       "      <td>0.7000</td>\n",
       "      <td>0.2000</td>\n",
       "      <td>0.3000</td>\n",
       "      <td>0.5000</td>\n",
       "      <td>1.1000</td>\n",
       "      <td>4.1000</td>\n",
       "    </tr>\n",
       "    <tr>\n",
       "      <th>4</th>\n",
       "      <td>5</td>\n",
       "      <td>LaMarcus Aldridge</td>\n",
       "      <td>C</td>\n",
       "      <td>36</td>\n",
       "      <td>BRK</td>\n",
       "      <td>47</td>\n",
       "      <td>12</td>\n",
       "      <td>22.3000</td>\n",
       "      <td>5.4000</td>\n",
       "      <td>9.7000</td>\n",
       "      <td>0.5500</td>\n",
       "      <td>0.3000</td>\n",
       "      <td>1.0000</td>\n",
       "      <td>0.3040</td>\n",
       "      <td>5.1000</td>\n",
       "      <td>8.8000</td>\n",
       "      <td>0.5780</td>\n",
       "      <td>0.5660</td>\n",
       "      <td>1.9000</td>\n",
       "      <td>2.2000</td>\n",
       "      <td>0.8730</td>\n",
       "      <td>1.6000</td>\n",
       "      <td>3.9000</td>\n",
       "      <td>5.5000</td>\n",
       "      <td>0.9000</td>\n",
       "      <td>0.3000</td>\n",
       "      <td>1.0000</td>\n",
       "      <td>0.9000</td>\n",
       "      <td>1.7000</td>\n",
       "      <td>12.9000</td>\n",
       "    </tr>\n",
       "  </tbody>\n",
       "</table>\n",
       "</div>"
      ],
      "text/plain": [
       "   Rk             Player Pos  Age   Tm   G  GS      MP     FG     FGA    FG%  \\\n",
       "0   1   Precious Achiuwa   C   22  TOR  73  28 23.6000 3.6000  8.3000 0.4390   \n",
       "1   2       Steven Adams   C   28  MEM  76  75 26.3000 2.8000  5.1000 0.5470   \n",
       "2   3        Bam Adebayo   C   24  MIA  56  56 32.6000 7.3000 13.0000 0.5570   \n",
       "3   4       Santi Aldama  PF   21  MEM  32   0 11.3000 1.7000  4.1000 0.4020   \n",
       "4   5  LaMarcus Aldridge   C   36  BRK  47  12 22.3000 5.4000  9.7000 0.5500   \n",
       "\n",
       "      3P    3PA    3P%     2P     2PA    2P%   eFG%     FT    FTA    FT%  \\\n",
       "0 0.8000 2.1000 0.3590 2.9000  6.1000 0.4680 0.4860 1.1000 1.8000 0.5950   \n",
       "1 0.0000 0.0000 0.0000 2.8000  5.0000 0.5480 0.5470 1.4000 2.6000 0.5430   \n",
       "2 0.0000 0.1000 0.0000 7.3000 12.9000 0.5620 0.5570 4.6000 6.1000 0.7530   \n",
       "3 0.2000 1.5000 0.1250 1.5000  2.6000 0.5600 0.4240 0.6000 1.0000 0.6250   \n",
       "4 0.3000 1.0000 0.3040 5.1000  8.8000 0.5780 0.5660 1.9000 2.2000 0.8730   \n",
       "\n",
       "     ORB    DRB     TRB    AST    STL    BLK    TOV     PF     PTS  \n",
       "0 2.0000 4.5000  6.5000 1.1000 0.5000 0.6000 1.2000 2.1000  9.1000  \n",
       "1 4.6000 5.4000 10.0000 3.4000 0.9000 0.8000 1.5000 2.0000  6.9000  \n",
       "2 2.4000 7.6000 10.1000 3.4000 1.4000 0.8000 2.6000 3.1000 19.1000  \n",
       "3 1.0000 1.7000  2.7000 0.7000 0.2000 0.3000 0.5000 1.1000  4.1000  \n",
       "4 1.6000 3.9000  5.5000 0.9000 0.3000 1.0000 0.9000 1.7000 12.9000  "
      ]
     },
     "execution_count": 1,
     "metadata": {},
     "output_type": "execute_result"
    }
   ],
   "source": [
    "import pandas as pd\n",
    "pd.set_option('display.max_columns',50)\n",
    "pd.set_option('display.float_format', '{:.4f}'.format)\n",
    "\n",
    "df = pd.read_csv(\"https://raw.githubusercontent.com/Datamanim/datarepo/main/nba/nba.csv\",encoding='latin',sep=';')\n",
    "df.head()"
   ]
  },
  {
   "cell_type": "markdown",
   "id": "13b9dee1",
   "metadata": {},
   "source": [
    "## 1. Tm 컬럼은 각 팀의 이름을 의미한다. TOR팀의 평균나이를 소수 4째 자리까지 구하여라"
   ]
  },
  {
   "cell_type": "code",
   "execution_count": 3,
   "id": "25080e4b",
   "metadata": {},
   "outputs": [
    {
     "data": {
      "text/plain": [
       "24.8696"
      ]
     },
     "execution_count": 3,
     "metadata": {},
     "output_type": "execute_result"
    }
   ],
   "source": [
    "round(df[df['Tm'] == 'TOR'].Age.mean(), 4)"
   ]
  },
  {
   "cell_type": "markdown",
   "id": "d34e7348",
   "metadata": {},
   "source": [
    "## 2. Pos 컬럼은 포지션을 의미한다. 전체 선수 중 최소나이의 선수들을 필터하고 그들 중 가장 많은 포지션은 무엇인지 확인하라"
   ]
  },
  {
   "cell_type": "code",
   "execution_count": 9,
   "id": "c40b12bf",
   "metadata": {},
   "outputs": [
    {
     "data": {
      "text/plain": [
       "'SG'"
      ]
     },
     "execution_count": 9,
     "metadata": {},
     "output_type": "execute_result"
    }
   ],
   "source": [
    "# df['Pos']\n",
    "df[df['Age'] == df['Age'].min()].Pos.value_counts().index[0]"
   ]
  },
  {
   "cell_type": "markdown",
   "id": "881252a0",
   "metadata": {},
   "source": [
    "## 3. 선수들의 이름은 first_name+ 공백 + last_name으로 이루어져 있다. 가장 많은 first_name은 무엇이며 몇 회 발생하는지 확인하라"
   ]
  },
  {
   "cell_type": "code",
   "execution_count": null,
   "id": "4faaea61",
   "metadata": {},
   "outputs": [],
   "source": [
    "for i,n in enumerate(df['Player']):\n",
    "    df['f_name'][i] = n.split()[0]"
   ]
  },
  {
   "cell_type": "code",
   "execution_count": 77,
   "id": "24b0dacf",
   "metadata": {},
   "outputs": [
    {
     "name": "stdout",
     "output_type": "stream",
     "text": [
      "Justin\n",
      "14\n"
     ]
    }
   ],
   "source": [
    "print(df['f_name'].value_counts().index[0])\n",
    "print(df['f_name'].value_counts().values[0])"
   ]
  },
  {
   "cell_type": "code",
   "execution_count": 76,
   "id": "248fe4cd",
   "metadata": {},
   "outputs": [
    {
     "name": "stdout",
     "output_type": "stream",
     "text": [
      "Justin\n",
      "14\n"
     ]
    }
   ],
   "source": [
    "df[\"frist_name\"] =df['Player'].str.split().str[0]\n",
    "print(df[\"frist_name\"].value_counts().index[0])\n",
    "print(df[\"frist_name\"].value_counts().values[0])"
   ]
  },
  {
   "cell_type": "markdown",
   "id": "68233ca1",
   "metadata": {},
   "source": [
    "## 4. PTS컬럼은 경기당 평균득점수 이다. 각포지션별로 경기당 평균득점수의 평균을 구하여라"
   ]
  },
  {
   "cell_type": "code",
   "execution_count": 79,
   "id": "d38537cb",
   "metadata": {},
   "outputs": [
    {
     "data": {
      "text/plain": [
       "Pos\n",
       "C        7.6908\n",
       "C-PF    12.8500\n",
       "PF       7.7375\n",
       "PF-SF    8.5000\n",
       "PG       8.3252\n",
       "PG-SG   22.0000\n",
       "SF       7.2703\n",
       "SF-SG    8.6600\n",
       "SG       7.8106\n",
       "SG-PG    9.5250\n",
       "SG-SF    7.3600\n",
       "Name: PTS, dtype: float64"
      ]
     },
     "execution_count": 79,
     "metadata": {},
     "output_type": "execute_result"
    }
   ],
   "source": [
    "df.groupby('Pos').mean().PTS"
   ]
  },
  {
   "cell_type": "markdown",
   "id": "b321fcb6",
   "metadata": {},
   "source": [
    "## 5. G컬럼은 참여한 경기의 숫자이다. 각 팀별로 가장 높은 경기참여 수를 가진 선수들의 경기 참여 숫자의 평균을 구하여라"
   ]
  },
  {
   "cell_type": "code",
   "execution_count": 85,
   "id": "057cdac7",
   "metadata": {},
   "outputs": [
    {
     "name": "stderr",
     "output_type": "stream",
     "text": [
      "C:\\Users\\inseo\\AppData\\Local\\Temp\\ipykernel_20560\\516014530.py:1: FutureWarning: Dropping of nuisance columns in DataFrame reductions (with 'numeric_only=None') is deprecated; in a future version this will raise TypeError.  Select only valid columns before calling the reduction.\n",
      "  df.sort_values('G', ascending=False).groupby('Tm').head(1).mean().G\n"
     ]
    },
    {
     "data": {
      "text/plain": [
       "77.51612903225806"
      ]
     },
     "execution_count": 85,
     "metadata": {},
     "output_type": "execute_result"
    }
   ],
   "source": [
    "df.sort_values('G', ascending=False).groupby('Tm').head(1).mean().G"
   ]
  },
  {
   "cell_type": "markdown",
   "id": "d8b25978",
   "metadata": {},
   "source": [
    "## 6. Tm의 값이 MIA이며 Pos는 C또는 PF인 선수의 MP값의 평균은"
   ]
  },
  {
   "cell_type": "code",
   "execution_count": 93,
   "id": "4a4c2e6d",
   "metadata": {},
   "outputs": [
    {
     "name": "stderr",
     "output_type": "stream",
     "text": [
      "C:\\Users\\inseo\\AppData\\Local\\Temp\\ipykernel_20560\\3551815278.py:1: FutureWarning: Dropping of nuisance columns in DataFrame reductions (with 'numeric_only=None') is deprecated; in a future version this will raise TypeError.  Select only valid columns before calling the reduction.\n",
      "  df[(df['Tm'] == \"MIA\") & (df['Pos'].isin(['C', 'PF']))].mean().MP\n"
     ]
    },
    {
     "data": {
      "text/plain": [
       "16.787499999999998"
      ]
     },
     "execution_count": 93,
     "metadata": {},
     "output_type": "execute_result"
    }
   ],
   "source": [
    "df[(df['Tm'] == \"MIA\") & (df['Pos'].isin(['C', 'PF']))].mean().MP"
   ]
  },
  {
   "cell_type": "markdown",
   "id": "67a48a00",
   "metadata": {},
   "source": [
    "## 7. 전체 데이터중 G의 평균값의 1.5배 이상인 데이터들만 추출했을때 3P값의 평균은?"
   ]
  },
  {
   "cell_type": "code",
   "execution_count": 97,
   "id": "2b361015",
   "metadata": {},
   "outputs": [
    {
     "name": "stderr",
     "output_type": "stream",
     "text": [
      "C:\\Users\\inseo\\AppData\\Local\\Temp\\ipykernel_20560\\517742483.py:1: FutureWarning: Dropping of nuisance columns in DataFrame reductions (with 'numeric_only=None') is deprecated; in a future version this will raise TypeError.  Select only valid columns before calling the reduction.\n",
      "  df[df['G'] >= df[\"G\"].mean()*1.5].mean()['3P']\n"
     ]
    },
    {
     "data": {
      "text/plain": [
       "1.3853658536585358"
      ]
     },
     "execution_count": 97,
     "metadata": {},
     "output_type": "execute_result"
    }
   ],
   "source": [
    "df[df['G'] >= df[\"G\"].mean()*1.5].mean()['3P']"
   ]
  },
  {
   "cell_type": "markdown",
   "id": "be18c9b0",
   "metadata": {},
   "source": [
    "## 8.  Age의 평균 이상인 그룹과 평균 미만인 그룹간의 G값의 평균의 차이는?"
   ]
  },
  {
   "cell_type": "code",
   "execution_count": 100,
   "id": "a3d38d0e",
   "metadata": {},
   "outputs": [
    {
     "data": {
      "text/plain": [
       "3.787674551781862"
      ]
     },
     "execution_count": 100,
     "metadata": {},
     "output_type": "execute_result"
    }
   ],
   "source": [
    "a = df[df['Age'] >= df['Age'].mean()]\n",
    "b = df[df['Age'] < df['Age'].mean()]\n",
    "a['G'].mean() - b['G'].mean()"
   ]
  },
  {
   "cell_type": "markdown",
   "id": "58047ae8",
   "metadata": {},
   "source": [
    "## 9. 평균나이가 가장 젊은 팀은 어디인가"
   ]
  },
  {
   "cell_type": "code",
   "execution_count": 106,
   "id": "c9df080c",
   "metadata": {},
   "outputs": [
    {
     "data": {
      "text/plain": [
       "'MEM'"
      ]
     },
     "execution_count": 106,
     "metadata": {},
     "output_type": "execute_result"
    }
   ],
   "source": [
    "df.groupby(\"Tm\").mean().Age.sort_values().index[0]"
   ]
  },
  {
   "cell_type": "markdown",
   "id": "13370fbf",
   "metadata": {},
   "source": [
    "## 10. Pos그룹별 평균 MP값을 구하여라"
   ]
  },
  {
   "cell_type": "code",
   "execution_count": 109,
   "id": "39c34df0",
   "metadata": {},
   "outputs": [
    {
     "data": {
      "text/plain": [
       "Pos\n",
       "C       16.9900\n",
       "C-PF    25.3500\n",
       "PF      17.9375\n",
       "PF-SF   27.3000\n",
       "PG      19.5477\n",
       "PG-SG   37.2000\n",
       "SF      17.5146\n",
       "SF-SG   20.3400\n",
       "SG      18.5543\n",
       "SG-PG   22.9500\n",
       "SG-SF   19.6200\n",
       "Name: MP, dtype: float64"
      ]
     },
     "execution_count": 109,
     "metadata": {},
     "output_type": "execute_result"
    }
   ],
   "source": [
    "df.groupby('Pos').mean().MP"
   ]
  }
 ],
 "metadata": {
  "kernelspec": {
   "display_name": "Python 3 (ipykernel)",
   "language": "python",
   "name": "python3"
  },
  "language_info": {
   "codemirror_mode": {
    "name": "ipython",
    "version": 3
   },
   "file_extension": ".py",
   "mimetype": "text/x-python",
   "name": "python",
   "nbconvert_exporter": "python",
   "pygments_lexer": "ipython3",
   "version": "3.9.12"
  }
 },
 "nbformat": 4,
 "nbformat_minor": 5
}
