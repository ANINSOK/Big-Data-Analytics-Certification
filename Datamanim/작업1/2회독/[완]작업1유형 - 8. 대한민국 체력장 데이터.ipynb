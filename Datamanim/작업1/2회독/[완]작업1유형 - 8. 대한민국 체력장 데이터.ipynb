{
 "cells": [
  {
   "cell_type": "markdown",
   "id": "640cfce8",
   "metadata": {},
   "source": [
    "## 데이터 불러오기"
   ]
  },
  {
   "cell_type": "code",
   "execution_count": 8,
   "id": "d0d83cc1",
   "metadata": {},
   "outputs": [
    {
     "data": {
      "text/html": [
       "<div>\n",
       "<style scoped>\n",
       "    .dataframe tbody tr th:only-of-type {\n",
       "        vertical-align: middle;\n",
       "    }\n",
       "\n",
       "    .dataframe tbody tr th {\n",
       "        vertical-align: top;\n",
       "    }\n",
       "\n",
       "    .dataframe thead th {\n",
       "        text-align: right;\n",
       "    }\n",
       "</style>\n",
       "<table border=\"1\" class=\"dataframe\">\n",
       "  <thead>\n",
       "    <tr style=\"text-align: right;\">\n",
       "      <th></th>\n",
       "      <th>측정나이</th>\n",
       "      <th>측정회원성별</th>\n",
       "      <th>신장 : cm</th>\n",
       "      <th>체중 : kg</th>\n",
       "      <th>체지방율 : %</th>\n",
       "      <th>이완기혈압(최저) : mmHg</th>\n",
       "      <th>수축기혈압(최고) : mmHg</th>\n",
       "      <th>악력D : kg</th>\n",
       "      <th>앉아윗몸앞으로굽히기 : cm</th>\n",
       "      <th>교차윗몸일으키기 : 회</th>\n",
       "      <th>제자리 멀리뛰기 : cm</th>\n",
       "      <th>등급</th>\n",
       "    </tr>\n",
       "  </thead>\n",
       "  <tbody>\n",
       "    <tr>\n",
       "      <th>0</th>\n",
       "      <td>59.0</td>\n",
       "      <td>M</td>\n",
       "      <td>175.0</td>\n",
       "      <td>70.6</td>\n",
       "      <td>19.2</td>\n",
       "      <td>91.0</td>\n",
       "      <td>150.0</td>\n",
       "      <td>40.6</td>\n",
       "      <td>12.2</td>\n",
       "      <td>30.0</td>\n",
       "      <td>179.0</td>\n",
       "      <td>C</td>\n",
       "    </tr>\n",
       "    <tr>\n",
       "      <th>1</th>\n",
       "      <td>40.0</td>\n",
       "      <td>F</td>\n",
       "      <td>161.4</td>\n",
       "      <td>45.8</td>\n",
       "      <td>21.7</td>\n",
       "      <td>62.0</td>\n",
       "      <td>119.0</td>\n",
       "      <td>22.1</td>\n",
       "      <td>16.0</td>\n",
       "      <td>32.0</td>\n",
       "      <td>165.0</td>\n",
       "      <td>B</td>\n",
       "    </tr>\n",
       "    <tr>\n",
       "      <th>2</th>\n",
       "      <td>27.0</td>\n",
       "      <td>M</td>\n",
       "      <td>176.6</td>\n",
       "      <td>84.8</td>\n",
       "      <td>19.2</td>\n",
       "      <td>87.0</td>\n",
       "      <td>153.0</td>\n",
       "      <td>45.9</td>\n",
       "      <td>13.2</td>\n",
       "      <td>61.0</td>\n",
       "      <td>216.0</td>\n",
       "      <td>B</td>\n",
       "    </tr>\n",
       "    <tr>\n",
       "      <th>3</th>\n",
       "      <td>38.0</td>\n",
       "      <td>M</td>\n",
       "      <td>167.6</td>\n",
       "      <td>76.7</td>\n",
       "      <td>24.7</td>\n",
       "      <td>63.0</td>\n",
       "      <td>132.0</td>\n",
       "      <td>43.6</td>\n",
       "      <td>16.0</td>\n",
       "      <td>45.0</td>\n",
       "      <td>231.0</td>\n",
       "      <td>A</td>\n",
       "    </tr>\n",
       "    <tr>\n",
       "      <th>4</th>\n",
       "      <td>21.0</td>\n",
       "      <td>M</td>\n",
       "      <td>165.2</td>\n",
       "      <td>66.2</td>\n",
       "      <td>21.5</td>\n",
       "      <td>83.0</td>\n",
       "      <td>106.0</td>\n",
       "      <td>33.5</td>\n",
       "      <td>10.6</td>\n",
       "      <td>46.0</td>\n",
       "      <td>198.0</td>\n",
       "      <td>C</td>\n",
       "    </tr>\n",
       "  </tbody>\n",
       "</table>\n",
       "</div>"
      ],
      "text/plain": [
       "   측정나이 측정회원성별  신장 : cm  체중 : kg  체지방율 : %  이완기혈압(최저) : mmHg  \\\n",
       "0  59.0      M    175.0     70.6      19.2              91.0   \n",
       "1  40.0      F    161.4     45.8      21.7              62.0   \n",
       "2  27.0      M    176.6     84.8      19.2              87.0   \n",
       "3  38.0      M    167.6     76.7      24.7              63.0   \n",
       "4  21.0      M    165.2     66.2      21.5              83.0   \n",
       "\n",
       "   수축기혈압(최고) : mmHg  악력D : kg  앉아윗몸앞으로굽히기 : cm  교차윗몸일으키기 : 회  제자리 멀리뛰기 : cm 등급  \n",
       "0             150.0      40.6             12.2          30.0          179.0  C  \n",
       "1             119.0      22.1             16.0          32.0          165.0  B  \n",
       "2             153.0      45.9             13.2          61.0          216.0  B  \n",
       "3             132.0      43.6             16.0          45.0          231.0  A  \n",
       "4             106.0      33.5             10.6          46.0          198.0  C  "
      ]
     },
     "execution_count": 8,
     "metadata": {},
     "output_type": "execute_result"
    }
   ],
   "source": [
    "import pandas as pd\n",
    "origin =pd.read_csv('https://raw.githubusercontent.com/Datamanim/datarepo/main/body/body.csv')\n",
    "df = origin.copy()\n",
    "df.head()"
   ]
  },
  {
   "cell_type": "markdown",
   "id": "13b9dee1",
   "metadata": {},
   "source": [
    "## 1. 전체데이터의 수축기혈압(최고) - 이완기혈압(최저)의 평균을 구하여라"
   ]
  },
  {
   "cell_type": "code",
   "execution_count": 9,
   "id": "245aaab7",
   "metadata": {},
   "outputs": [
    {
     "data": {
      "text/plain": [
       "52.19539414750672"
      ]
     },
     "execution_count": 9,
     "metadata": {},
     "output_type": "execute_result"
    }
   ],
   "source": [
    "(df['수축기혈압(최고) : mmHg'] - df['이완기혈압(최저) : mmHg']).mean()"
   ]
  },
  {
   "cell_type": "markdown",
   "id": "d34e7348",
   "metadata": {},
   "source": [
    "## 2. 50~59세의 신장평균을 구하여라"
   ]
  },
  {
   "cell_type": "code",
   "execution_count": 31,
   "id": "cdeffbed",
   "metadata": {},
   "outputs": [
    {
     "data": {
      "text/plain": [
       "164.07490107405295"
      ]
     },
     "execution_count": 31,
     "metadata": {},
     "output_type": "execute_result"
    }
   ],
   "source": [
    "df['나이대'] = ((df['측정나이'] // 10)*10).astype(int)\n",
    "df[df['나이대'] == 50]['신장 : cm'].mean()"
   ]
  },
  {
   "cell_type": "markdown",
   "id": "881252a0",
   "metadata": {},
   "source": [
    "## 3. 연령대 (20~29 : 20대 …) 별 인원수를 구하여라"
   ]
  },
  {
   "cell_type": "code",
   "execution_count": 33,
   "id": "cd203bbb",
   "metadata": {},
   "outputs": [
    {
     "data": {
      "text/plain": [
       "20    5831\n",
       "30    2660\n",
       "40    1801\n",
       "50    1769\n",
       "60    1335\n",
       "Name: 나이대, dtype: int64"
      ]
     },
     "execution_count": 33,
     "metadata": {},
     "output_type": "execute_result"
    }
   ],
   "source": [
    "df['나이대'].value_counts()"
   ]
  },
  {
   "cell_type": "markdown",
   "id": "68233ca1",
   "metadata": {},
   "source": [
    "## 4. 연령대 (20~29 : 20대 …) 별 등급의 숫자를 데이터 프레임으로 표현하라"
   ]
  },
  {
   "cell_type": "code",
   "execution_count": 43,
   "id": "d36d0520",
   "metadata": {},
   "outputs": [
    {
     "data": {
      "text/html": [
       "<div>\n",
       "<style scoped>\n",
       "    .dataframe tbody tr th:only-of-type {\n",
       "        vertical-align: middle;\n",
       "    }\n",
       "\n",
       "    .dataframe tbody tr th {\n",
       "        vertical-align: top;\n",
       "    }\n",
       "\n",
       "    .dataframe thead th {\n",
       "        text-align: right;\n",
       "    }\n",
       "</style>\n",
       "<table border=\"1\" class=\"dataframe\">\n",
       "  <thead>\n",
       "    <tr style=\"text-align: right;\">\n",
       "      <th></th>\n",
       "      <th></th>\n",
       "      <th>합</th>\n",
       "    </tr>\n",
       "    <tr>\n",
       "      <th>나이대</th>\n",
       "      <th>등급</th>\n",
       "      <th></th>\n",
       "    </tr>\n",
       "  </thead>\n",
       "  <tbody>\n",
       "    <tr>\n",
       "      <th rowspan=\"4\" valign=\"top\">20</th>\n",
       "      <th>A</th>\n",
       "      <td>1585</td>\n",
       "    </tr>\n",
       "    <tr>\n",
       "      <th>C</th>\n",
       "      <td>1455</td>\n",
       "    </tr>\n",
       "    <tr>\n",
       "      <th>B</th>\n",
       "      <td>1443</td>\n",
       "    </tr>\n",
       "    <tr>\n",
       "      <th>D</th>\n",
       "      <td>1348</td>\n",
       "    </tr>\n",
       "    <tr>\n",
       "      <th rowspan=\"4\" valign=\"top\">30</th>\n",
       "      <th>A</th>\n",
       "      <td>743</td>\n",
       "    </tr>\n",
       "    <tr>\n",
       "      <th>B</th>\n",
       "      <td>697</td>\n",
       "    </tr>\n",
       "    <tr>\n",
       "      <th>C</th>\n",
       "      <td>626</td>\n",
       "    </tr>\n",
       "    <tr>\n",
       "      <th>D</th>\n",
       "      <td>594</td>\n",
       "    </tr>\n",
       "    <tr>\n",
       "      <th rowspan=\"4\" valign=\"top\">40</th>\n",
       "      <th>D</th>\n",
       "      <td>532</td>\n",
       "    </tr>\n",
       "    <tr>\n",
       "      <th>C</th>\n",
       "      <td>455</td>\n",
       "    </tr>\n",
       "    <tr>\n",
       "      <th>B</th>\n",
       "      <td>428</td>\n",
       "    </tr>\n",
       "    <tr>\n",
       "      <th>A</th>\n",
       "      <td>386</td>\n",
       "    </tr>\n",
       "    <tr>\n",
       "      <th rowspan=\"4\" valign=\"top\">50</th>\n",
       "      <th>D</th>\n",
       "      <td>564</td>\n",
       "    </tr>\n",
       "    <tr>\n",
       "      <th>C</th>\n",
       "      <td>474</td>\n",
       "    </tr>\n",
       "    <tr>\n",
       "      <th>B</th>\n",
       "      <td>410</td>\n",
       "    </tr>\n",
       "    <tr>\n",
       "      <th>A</th>\n",
       "      <td>321</td>\n",
       "    </tr>\n",
       "    <tr>\n",
       "      <th rowspan=\"4\" valign=\"top\">60</th>\n",
       "      <th>B</th>\n",
       "      <td>371</td>\n",
       "    </tr>\n",
       "    <tr>\n",
       "      <th>C</th>\n",
       "      <td>339</td>\n",
       "    </tr>\n",
       "    <tr>\n",
       "      <th>A</th>\n",
       "      <td>314</td>\n",
       "    </tr>\n",
       "    <tr>\n",
       "      <th>D</th>\n",
       "      <td>311</td>\n",
       "    </tr>\n",
       "  </tbody>\n",
       "</table>\n",
       "</div>"
      ],
      "text/plain": [
       "           합\n",
       "나이대 등급      \n",
       "20  A   1585\n",
       "    C   1455\n",
       "    B   1443\n",
       "    D   1348\n",
       "30  A    743\n",
       "    B    697\n",
       "    C    626\n",
       "    D    594\n",
       "40  D    532\n",
       "    C    455\n",
       "    B    428\n",
       "    A    386\n",
       "50  D    564\n",
       "    C    474\n",
       "    B    410\n",
       "    A    321\n",
       "60  B    371\n",
       "    C    339\n",
       "    A    314\n",
       "    D    311"
      ]
     },
     "execution_count": 43,
     "metadata": {},
     "output_type": "execute_result"
    }
   ],
   "source": [
    "df.groupby('나이대').등급.value_counts().to_frame('합')"
   ]
  },
  {
   "cell_type": "markdown",
   "id": "5c38ae35",
   "metadata": {},
   "source": [
    "## 5. 남성 중 A등급과 D등급의 체지방률 평균의 차이(큰 값에서 작은 값의 차)를 구하여라"
   ]
  },
  {
   "cell_type": "code",
   "execution_count": 52,
   "id": "d048178e",
   "metadata": {},
   "outputs": [
    {
     "name": "stderr",
     "output_type": "stream",
     "text": [
      "C:\\Users\\inseo\\AppData\\Local\\Temp\\ipykernel_11048\\87981074.py:2: FutureWarning: Dropping of nuisance columns in DataFrame reductions (with 'numeric_only=None') is deprecated; in a future version this will raise TypeError.  Select only valid columns before calling the reduction.\n",
      "  abs(남성[남성['등급'] == 'A'].mean() - 남성[남성['등급'] == 'D'].mean())['체지방율 : %']\n"
     ]
    },
    {
     "data": {
      "text/plain": [
       "7.932086486137457"
      ]
     },
     "execution_count": 52,
     "metadata": {},
     "output_type": "execute_result"
    }
   ],
   "source": [
    "남성 = df[(df['측정회원성별'] == \"M\")]\n",
    "abs(남성[남성['등급'] == 'A'].mean() - 남성[남성['등급'] == 'D'].mean())['체지방율 : %']"
   ]
  },
  {
   "cell_type": "markdown",
   "id": "b321fcb6",
   "metadata": {},
   "source": [
    "## 6. 여성 중 A등급과 D등급의 체중의 평균의 차이(큰 값에서 작은 값의 차)를 구하여라"
   ]
  },
  {
   "cell_type": "code",
   "execution_count": 54,
   "id": "0ad5dd8b",
   "metadata": {},
   "outputs": [
    {
     "name": "stderr",
     "output_type": "stream",
     "text": [
      "C:\\Users\\inseo\\AppData\\Local\\Temp\\ipykernel_11048\\3906867989.py:2: FutureWarning: Dropping of nuisance columns in DataFrame reductions (with 'numeric_only=None') is deprecated; in a future version this will raise TypeError.  Select only valid columns before calling the reduction.\n",
      "  abs(여성[여성['등급'] == 'A'].mean() - 여성[여성['등급'] == 'D'].mean())['체중 : kg']\n"
     ]
    },
    {
     "data": {
      "text/plain": [
       "5.176211590296511"
      ]
     },
     "execution_count": 54,
     "metadata": {},
     "output_type": "execute_result"
    }
   ],
   "source": [
    "여성 = df[(df['측정회원성별'] == \"F\")]\n",
    "abs(여성[여성['등급'] == 'A'].mean() - 여성[여성['등급'] == 'D'].mean())['체중 : kg']"
   ]
  },
  {
   "cell_type": "markdown",
   "id": "d8b25978",
   "metadata": {},
   "source": [
    "## 7. bmi는 자신의 몸무게(kg)를 키의 제곱(m)으로 나눈값이다. 데이터의 bmi 를 구한 새로운 컬럼을 만들고 남성의 bmi 평균을 구하여라"
   ]
  },
  {
   "cell_type": "code",
   "execution_count": 65,
   "id": "9e462187",
   "metadata": {},
   "outputs": [
    {
     "data": {
      "text/plain": [
       "24.461344098193027"
      ]
     },
     "execution_count": 65,
     "metadata": {},
     "output_type": "execute_result"
    }
   ],
   "source": [
    "df[\"신장m\"] = df['신장 : cm']*0.01\n",
    "df['bmi'] = df['체중 : kg'] / df[\"신장m\"]**2\n",
    "df[df['측정회원성별'] == 'M'].bmi.mean()"
   ]
  },
  {
   "cell_type": "markdown",
   "id": "67a48a00",
   "metadata": {},
   "source": [
    "## 8. bmi보다 체지방율이 높은 사람들의 체중평균을 구하여라"
   ]
  },
  {
   "cell_type": "code",
   "execution_count": 67,
   "id": "71e4d9f2",
   "metadata": {},
   "outputs": [
    {
     "data": {
      "text/plain": [
       "61.740880639254314"
      ]
     },
     "execution_count": 67,
     "metadata": {},
     "output_type": "execute_result"
    }
   ],
   "source": [
    "df[df['bmi'] < df['체지방율 : %']]['체중 : kg'].mean()"
   ]
  },
  {
   "cell_type": "markdown",
   "id": "be18c9b0",
   "metadata": {},
   "source": [
    "## 9.  남성과 여성의 악력 평균의 차이를 구하여라"
   ]
  },
  {
   "cell_type": "code",
   "execution_count": 69,
   "id": "98b59da1",
   "metadata": {},
   "outputs": [
    {
     "data": {
      "text/plain": [
       "17.559541850474677"
      ]
     },
     "execution_count": 69,
     "metadata": {},
     "output_type": "execute_result"
    }
   ],
   "source": [
    "abs(남성['악력D : kg'].mean() - 여성['악력D : kg'].mean())\n"
   ]
  },
  {
   "cell_type": "markdown",
   "id": "58047ae8",
   "metadata": {},
   "source": [
    "## 10. 남성과 여성의 교차윗몸일으키기 횟수의 평균의 차이를 구하여라"
   ]
  },
  {
   "cell_type": "code",
   "execution_count": 71,
   "id": "23f65069",
   "metadata": {},
   "outputs": [
    {
     "data": {
      "text/plain": [
       "14.243156833157634"
      ]
     },
     "execution_count": 71,
     "metadata": {},
     "output_type": "execute_result"
    }
   ],
   "source": [
    "abs(남성['교차윗몸일으키기 : 회'].mean() - 여성['교차윗몸일으키기 : 회'].mean())"
   ]
  }
 ],
 "metadata": {
  "kernelspec": {
   "display_name": "Python 3 (ipykernel)",
   "language": "python",
   "name": "python3"
  },
  "language_info": {
   "codemirror_mode": {
    "name": "ipython",
    "version": 3
   },
   "file_extension": ".py",
   "mimetype": "text/x-python",
   "name": "python",
   "nbconvert_exporter": "python",
   "pygments_lexer": "ipython3",
   "version": "3.9.12"
  }
 },
 "nbformat": 4,
 "nbformat_minor": 5
}
